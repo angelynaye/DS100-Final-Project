{
 "cells": [
  {
   "cell_type": "code",
   "execution_count": 102,
   "metadata": {},
   "outputs": [],
   "source": [
    "import pandas as pd\n",
    "\n",
    "import numpy as np\n",
    "import matplotlib.pyplot as plt\n",
    "from matplotlib.pyplot import figure\n",
    "import seaborn as sns\n",
    "\n",
    "from sklearn.linear_model import LogisticRegression, LogisticRegressionCV\n",
    "from sklearn.neighbors import KNeighborsClassifier\n",
    "from sklearn.metrics import confusion_matrix \n",
    "from sklearn.metrics import accuracy_score\n",
    "from sklearn import preprocessing\n",
    "from sklearn.utils.multiclass import unique_labels\n",
    "from sklearn.model_selection import train_test_split\n",
    "from sklearn.decomposition import PCA\n",
    "from sklearn import ensemble\n",
    "from sklearn.feature_extraction import DictVectorizer\n",
    "from sklearn.model_selection import KFold\n",
    "from sklearn.base import clone\n",
    "\n",
    "import plotly.express as px"
   ]
  },
  {
   "cell_type": "markdown",
   "metadata": {},
   "source": [
    "# Question:\n",
    "We want to predict whether Indonesia women in 1987 use contraceptive methods or not \n"
   ]
  },
  {
   "cell_type": "markdown",
   "metadata": {},
   "source": [
    "# Helper Function:"
   ]
  },
  {
   "cell_type": "code",
   "execution_count": 103,
   "metadata": {},
   "outputs": [],
   "source": [
    "def normalize_and_scale(data):\n",
    "    \"\"\"\n",
    "    Centered and scaled the data\n",
    "    \"\"\"\n",
    "    data_centered_scaled = data - np.mean(data,axis=0)\n",
    "    data_centered_scaled = data_centered_scaled.div(np.std(data_centered_scaled), axis=1)\n",
    "    return data_centered_scaled"
   ]
  },
  {
   "cell_type": "code",
   "execution_count": 104,
   "metadata": {},
   "outputs": [],
   "source": [
    "def plot_first_2_pcas(pcas, hue_col):\n",
    "    \"\"\"\n",
    "    Project dataset onto first 2 Principle Components space\n",
    "    Input:\n",
    "        pcas: principal components matrix of the data\n",
    "        hue_col: the column we want the plot's hue to differentiating among\n",
    "    \"\"\"\n",
    "    sns.scatterplot(data = pcas, \n",
    "                x = 'pc1', \n",
    "                y = 'pc2', \n",
    "                hue = hue_col, \n",
    "                    palette = \"RdBu\")\n",
    "    plt.gca().set_xlim(-10, 10);\n",
    "    plt.gca().set_ylim(-10, 10);\n",
    "    plt.title(\"Projection of Data onto First 2 PCs\")"
   ]
  },
  {
   "cell_type": "code",
   "execution_count": 105,
   "metadata": {},
   "outputs": [],
   "source": [
    "def plot_first_3_pcas(pcas, hue_col):\n",
    "    \"\"\"\n",
    "    Project dataset onto first 3 Principle Components space\n",
    "    Input:\n",
    "        pcas: principal components matrix of the data\n",
    "        hue_col: the column we want the plot's hue to differentiating among\n",
    "    \"\"\"\n",
    "    fig = px.scatter_3d(pcas, \n",
    "                    x='pc1', y='pc2', z='pc3', \n",
    "                    range_x = [-10, 10], \n",
    "                    range_y = [-10, 10], \n",
    "                    range_z = [-10, 10], \n",
    "                    color = hue_col, \n",
    "                    color_continuous_scale = 'RdBu'\n",
    "                       );\n",
    "    fig.show();"
   ]
  },
  {
   "cell_type": "code",
   "execution_count": 106,
   "metadata": {},
   "outputs": [],
   "source": [
    "def set_legend(legend, labs):\n",
    "    \"\"\"\n",
    "    Set given legend object's text to given labels\n",
    "    \"\"\"\n",
    "    for text, lab in zip(legend.texts, labs): \n",
    "        text.set_text(lab)"
   ]
  },
  {
   "cell_type": "code",
   "execution_count": 107,
   "metadata": {},
   "outputs": [],
   "source": [
    "def ohe(data, col_name):\n",
    "    \"\"\"\n",
    "    One Hot Encoding of a specified column in the data\n",
    "    Input:\n",
    "        data: the data frame we want to do the one hot encoding \n",
    "        col_name: specific column name for OHE (string)\n",
    "    Output:\n",
    "        a data frame after applying OHE to the specific column \n",
    "    \"\"\"\n",
    "    vec_enc = DictVectorizer()\n",
    "    vec_enc.fit(data[[col_name]].to_dict(orient='records'))\n",
    "    targeted_col_data = vec_enc.transform(data[[col_name]].to_dict(orient='records')).toarray()\n",
    "    targeted_col_cats = vec_enc.get_feature_names()\n",
    "    targeted_col = pd.DataFrame(targeted_col_data, columns=targeted_col_cats)\n",
    "    data = pd.concat([data, targeted_col], axis=1)\n",
    "    return data"
   ]
  },
  {
   "cell_type": "code",
   "execution_count": 108,
   "metadata": {},
   "outputs": [],
   "source": [
    "def plot_confusion_matrix(y_true, y_pred, labels,\n",
    "                          normalize=False,\n",
    "                          title=None,\n",
    "                          cmap=plt.cm.Blues):\n",
    "    \"\"\"\n",
    "    This function plots the confusion matrix.\n",
    "    Normalization can be applied by setting `normalize=True`.\n",
    "    Input:\n",
    "        y_true: list, the true label of the test set \n",
    "        y_pred: list, the predicted label of the test set \n",
    "        labels: list of string, the name for your labels\n",
    "        normalize: boolean, whether you want a normalized confusion matrix,\n",
    "                   default is False\n",
    "        cmap: the color of your confusion matrix plot \n",
    "    \n",
    "    Output:\n",
    "        the figure of your plot\n",
    "    ***Reminder: After you have called this fuction, you have called \n",
    "        plt.show() to show the plot**\n",
    "    \"\"\"\n",
    "    figure(figsize=(10,10))\n",
    "    if not title:\n",
    "        if normalize:\n",
    "            title = 'Normalized confusion matrix'\n",
    "        else:\n",
    "            title = 'Confusion matrix, without normalization'\n",
    "\n",
    "    # Compute confusion matrix\n",
    "    cm = confusion_matrix(y_true, y_pred)\n",
    "    if normalize:\n",
    "        cm = cm.astype('float') / cm.sum(axis=1)[:, np.newaxis]\n",
    "        \n",
    "    fig, ax = plt.subplots()\n",
    "    im = ax.imshow(cm, interpolation='nearest', cmap=cmap)\n",
    "    ax.figure.colorbar(im, ax=ax)\n",
    "    # We want to show all ticks...\n",
    "    ax.set(\n",
    "        xticks=np.arange(cm.shape[1]),\n",
    "           xticklabels=labels, \n",
    "           title=title,\n",
    "           ylabel='True label',xlabel='Predicted label')\n",
    "\n",
    "    # Set tick labels alignment.\n",
    "    plt.setp(ax.get_xticklabels(), ha=\"center\")\n",
    "    ax.set_yticks(np.arange(cm.shape[0]+1)-.5, minor=True)\n",
    "    # adjust yticks\n",
    "    ylabs = labels.copy()\n",
    "    for i in [0,1,3,4,5]:\n",
    "        ylabs.insert(i,\"\")\n",
    "    ax.set_yticklabels(labels=ylabs, va=\"center\")\n",
    "\n",
    "    # Loop over data dimensions and create text annotations.\n",
    "    fmt = '.2f' if normalize else 'd'\n",
    "    thresh = cm.max() / 2.\n",
    "    for i in range(cm.shape[1]):\n",
    "        for j in range(cm.shape[1]):\n",
    "            ax.text(j, i, format(cm[i, j], fmt),\n",
    "                    ha=\"center\", va=\"center\",\n",
    "                    color=\"white\" if cm[i, j] > thresh else \"black\")\n",
    "    fig.tight_layout()\n",
    "    return ax"
   ]
  },
  {
   "cell_type": "code",
   "execution_count": 109,
   "metadata": {},
   "outputs": [],
   "source": [
    "def cross_validate_accuracy(model, X, y, k=5):\n",
    "    \"\"\"\n",
    "    run k-folds cross validation using model on X\n",
    "    Input:\n",
    "        model: the model to test performance\n",
    "        X: features matrix, y: target variable\n",
    "        k: numbers of fold\n",
    "    Output:\n",
    "        the average cross validation accuracy \n",
    "    \"\"\"   \n",
    "    model = clone(model)\n",
    "    five_fold = KFold(n_splits=k)\n",
    "    accuracies = []\n",
    "    for tr_ind, va_ind in five_fold.split(X):\n",
    "        model.fit(X.iloc[tr_ind,:], y.iloc[tr_ind])\n",
    "        accuracies.append(model.score(X.iloc[va_ind,:], y.iloc[va_ind]))\n",
    "    return np.mean(accuracies)"
   ]
  },
  {
   "cell_type": "code",
   "execution_count": 110,
   "metadata": {},
   "outputs": [],
   "source": [
    "def model_hyper_tune(models, params,X_train, Y_train):\n",
    "    \"\"\"\n",
    "    To tune the hyper paramters \n",
    "    Input:\n",
    "        models: a list of model to try\n",
    "        params: the list of string of hyper-parameter values we used\n",
    "        X_train: train data features matrix\n",
    "        Y_train: train data y value\n",
    "    Output:\n",
    "        best_model: the model with the highest cv accuracy\n",
    "        best_train_accuracy\n",
    "        best_cv_accuracy\n",
    "    \"\"\"\n",
    "    best_train_accuracy = 0\n",
    "    best_cv_accuracy = 0\n",
    "    best_model=clone(models[0]) #default dummy model\n",
    "    \n",
    "    for i in range(len(models)):\n",
    "        cur_model = clone(models[i])\n",
    "        cur_model.fit(X_train, Y_train)\n",
    "        model_predicted_train = cur_model.predict(X_train)\n",
    "        train_accuracy = accuracy_score(Y_train, model_predicted_train)\n",
    "        cv_accuracy = cross_validate_accuracy(cur_model, X_train, Y_train)\n",
    "        if(cv_accuracy > best_cv_accuracy):\n",
    "            best_cv_accuracy = cv_accuracy\n",
    "            best_train_accuracy = train_accuracy\n",
    "            best_model = cur_model\n",
    "            print(\"Cur model({}); Train Accuracy: {:0.4f}; CV Accuracy: {:0.4f}\".format(\n",
    "                params[i], best_train_accuracy, best_cv_accuracy))\n",
    "        elif(cv_accuracy == best_cv_accuracy and \n",
    "              train_accuracy > best_train_accuracy):\n",
    "            best_cv_accuracy = cv_accuracy\n",
    "            best_train_accuracy = train_accuracy\n",
    "            best_model = cur_model\n",
    "            print(\"Cur model({}); Train Accuracy: {:0.4f}; CV Accuracy: {:0.4f}\".format(\n",
    "                params[i], best_train_accuracy, best_cv_accuracy))\n",
    "        return best_model, best_train_accuracy, best_cv_accuracy"
   ]
  },
  {
   "cell_type": "markdown",
   "metadata": {},
   "source": [
    "# EDA:"
   ]
  },
  {
   "cell_type": "code",
   "execution_count": 111,
   "metadata": {},
   "outputs": [],
   "source": [
    "# read in data\n",
    "data = pd.read_csv(\"final_proj_data/contraceptive/contraceptive_for_students.csv\")"
   ]
  },
  {
   "cell_type": "code",
   "execution_count": 112,
   "metadata": {},
   "outputs": [],
   "source": [
    "# keep a original copy of data \n",
    "ori_data = data.copy()"
   ]
  },
  {
   "cell_type": "code",
   "execution_count": 113,
   "metadata": {},
   "outputs": [
    {
     "data": {
      "text/plain": [
       "wife_age              0\n",
       "wife_education        0\n",
       "husband_education     0\n",
       "num_child             0\n",
       "wife_religion         0\n",
       "wife_work             0\n",
       "husband_occupation    0\n",
       "standard_living       0\n",
       "media_exposure        0\n",
       "contraceptive         0\n",
       "dtype: int64"
      ]
     },
     "execution_count": 113,
     "metadata": {},
     "output_type": "execute_result"
    }
   ],
   "source": [
    "# check missing values \n",
    "data.isna().sum()"
   ]
  },
  {
   "cell_type": "markdown",
   "metadata": {},
   "source": [
    "From the above result, we conclude that there is no missing values in the dataset. Therefore, we don't have to take extra actions to deal with the missing values."
   ]
  },
  {
   "cell_type": "markdown",
   "metadata": {},
   "source": [
    "### Relabeling Reponse \n",
    "\n",
    "Since we are only interested in whether the wife used contraceptive method or not, we do not need to differentiate between whether the wife used long-term contraceptive method or short-term contraceptive method. Therefore, we could relabel the `contraceptive` response, i.e. collapsing all the \"long-term contraceptive method usage\" (`contraceptive=2`) and \"short-term contraceptive method usage\" (`contraceptive=3`) as \"using contraceptive method\" (`contraceptive=1`), and relabing \"No-use\" as `contraceptive=0`."
   ]
  },
  {
   "cell_type": "code",
   "execution_count": 114,
   "metadata": {},
   "outputs": [],
   "source": [
    "data['contraceptive'] = data['contraceptive'].replace({1:0, 2: 1, 3: 1})"
   ]
  },
  {
   "cell_type": "code",
   "execution_count": 115,
   "metadata": {},
   "outputs": [
    {
     "name": "stdout",
     "output_type": "stream",
     "text": [
      "Training Data Size: {1104}\n",
      "Test Data Size: {369}\n"
     ]
    }
   ],
   "source": [
    "# train_test_split\n",
    "X = data.drop('contraceptive', axis=1)\n",
    "Y = data['contraceptive']\n",
    "X_train, X_test, Y_train, Y_test = train_test_split(X,Y, test_size=0.25, \n",
    "                                                  random_state=110)\n",
    "print(\"Training Data Size:\", {len(X_train)})\n",
    "print(\"Test Data Size:\", {len(X_test)})"
   ]
  },
  {
   "cell_type": "code",
   "execution_count": 116,
   "metadata": {},
   "outputs": [],
   "source": [
    "train = X_train.copy()\n",
    "train['contraceptive_num'] = Y_train\n",
    "# change to informative labels\n",
    "train['contraceptive'] = train['contraceptive_num'].replace({0: \"No-use\", 1:\"Use\"})"
   ]
  },
  {
   "cell_type": "code",
   "execution_count": 117,
   "metadata": {},
   "outputs": [],
   "source": [
    "train_centered_scaled = normalize_and_scale(X_train)"
   ]
  },
  {
   "cell_type": "markdown",
   "metadata": {},
   "source": [
    "We first use PCA to decrease the dimension of our dataset, and visualize the data in 2 or 3 directions that explain the dataset the most"
   ]
  },
  {
   "cell_type": "code",
   "execution_count": 118,
   "metadata": {},
   "outputs": [],
   "source": [
    "u, s, vt = np.linalg.svd(train_centered_scaled, full_matrices = False)\n",
    "pcs = train_centered_scaled@vt.T\n",
    "dat_3_pcs_scaled = pd.DataFrame({'pc1': pcs.iloc[:,0], 'pc2':  pcs.iloc[:,1],\n",
    "                                     'pc3': pcs.iloc[:,2],\n",
    "                                    'contraceptive':train['contraceptive']})"
   ]
  },
  {
   "cell_type": "code",
   "execution_count": 119,
   "metadata": {},
   "outputs": [
    {
     "data": {
      "image/png": "[encoded data removed]",
      "text/plain": [
       "<Figure size 432x288 with 1 Axes>"
      ]
     },
     "metadata": {
      "needs_background": "light"
     },
     "output_type": "display_data"
    }
   ],
   "source": [
    "xx = list(range(1, s.shape[0]+1))\n",
    "plt.plot(xx, s**2 / sum(s**2));\n",
    "plt.xticks(xx, xx);\n",
    "plt.xlabel('PC #');\n",
    "plt.ylabel('Fraction of Variance Explained')\n",
    "plt.title(\"Scree Plot for the Fraction of the Variance Explained by First #PCs\");"
   ]
  },
  {
   "cell_type": "code",
   "execution_count": 120,
   "metadata": {},
   "outputs": [
    {
     "name": "stdout",
     "output_type": "stream",
     "text": [
      "Variance explained by first 2 pcs is: 0.46934244420550725\n",
      "Variance explained by first 3 pcs: 0.5871859468440358\n",
      "\n"
     ]
    }
   ],
   "source": [
    "# check the variance explained by first 2 and 3 pcs\n",
    "variance_explained_by_2_pc = (s[0]**2 + s[1]**2) / np.sum(s**2)\n",
    "variance_explained_by_3_pc = (s[0]**2 + s[1]**2 + s[2]**2) / np.sum(s**2)\n",
    "print('Variance explained by first 2 pcs is: {}\\nVariance explained by first 3 pcs: {}\\n'.format(variance_explained_by_2_pc, \n",
    "                                               variance_explained_by_3_pc))"
   ]
  },
  {
   "cell_type": "markdown",
   "metadata": {},
   "source": [
    "From the above plot, we observe that the varaince can be mostly explained by the first 3 pcs(principle components). So we will frist visualize our data in the first 2 pcs space, and the first 3 pcs space. \n",
    "\n",
    "We color the dataset by their `contraceptive` response."
   ]
  },
  {
   "cell_type": "code",
   "execution_count": 121,
   "metadata": {},
   "outputs": [
    {
     "data": {
      "image/png": "[encoded data removed]",
      "text/plain": [
       "<Figure size 432x288 with 1 Axes>"
      ]
     },
     "metadata": {
      "needs_background": "light"
     },
     "output_type": "display_data"
    }
   ],
   "source": [
    "plot_first_2_pcas(dat_3_pcs_scaled, \"contraceptive\")"
   ]
  },
  {
   "cell_type": "code",
   "execution_count": 122,
   "metadata": {
    "scrolled": false
   },
   "outputs": [
    {
     "data": {
      "application/vnd.plotly.v1+json": {
       "config": {
        "plotlyServerURL": "https://plot.ly"
       },
       "data": [
        {
         "hoverlabel": {
          "namelength": 0
         },
         "hovertemplate": "contraceptive=No-use<br>pc1=%{x}<br>pc2=%{y}<br>pc3=%{z}",
         "legendgroup": "contraceptive=No-use",
         "marker": {
          "color": "#636efa",
          "symbol": "circle"
         },
         "mode": "markers",
         "name": "contraceptive=No-use",
         "scene": "scene",
         "showlegend": true,
         "type": "scatter3d",
         "x": [
          -0.655277861003403,
          -1.7951223771101257,
          1.0243398582577137,
          0.6453772485265189,
          -0.8191504497510915,
          1.0939251914570423,
          3.85140912278081,
          -1.5049931831441934,
          -0.6559051609440009,
          -0.9131485768390251,
          -0.2951067746215608,
          3.6598807223681553,
          0.9577867668243746,
          -1.272972044164719,
          -0.088628389015624,
          -1.5091392465657656,
          -1.5899585512516872,
          2.71070716234102,
          1.6356198803810484,
          -1.7019488013517112,
          -1.3652640935210978,
          -0.9066937641103867,
          0.09408118945867087,
          -0.7742768337297207,
          1.0775683196643902,
          -1.8007293615775382,
          3.0352261492143473,
          3.4228528990733786,
          0.6550221953177915,
          0.0784318159593032,
          -0.5271539454659601,
          -1.697374538174693,
          1.2291471499355433,
          -1.8063563485967187,
          0.2410626212675661,
          4.468925489065533,
          1.4751211668292132,
          0.7838457350959362,
          -1.575611237633916,
          1.765752755730796,
          1.3437572940446014,
          -2.548501971090748,
          2.133105711975015,
          3.4923883112688965,
          1.5829895333959094,
          2.0260844416805974,
          1.9735872797111609,
          -0.5205991396095654,
          2.7194954316576667,
          -0.22878477342038409,
          2.251953823566866,
          -0.4924848540207268,
          -1.7650275488419107,
          0.9591177762904156,
          2.8023937979742946,
          2.1389820350336297,
          3.5440638396283335,
          1.5458144633385589,
          0.7032812469947615,
          1.4017881154055325,
          -1.5881974261597027,
          -0.9311616053594214,
          -2.4032266170134076,
          0.8589390086550632,
          1.3876160349178976,
          -1.144622091603418,
          1.8093025190799537,
          2.9927243739366105,
          -1.4819335092513202,
          -1.1376399909653585,
          0.8166784594295621,
          -2.2722388372498585,
          -0.3882803503799754,
          3.0233213612058596,
          2.1406974056898984,
          -1.453546752337807,
          -0.3601258887200098,
          2.07858941062835,
          1.4522287597429875,
          0.030021569393974695,
          1.1072889068882228,
          0.7095059942467863,
          -0.7601096645847525,
          0.03710181118311022,
          -0.4878645564270156,
          1.4982348623829318,
          -1.8066787409252034,
          -1.9389975301547935,
          -0.23767829108224858,
          -1.8998840871123408,
          3.2941269103230013,
          2.7252507582609433,
          0.8246672494930907,
          0.49092340559673747,
          0.958720444007155,
          0.4290807250660354,
          -1.5368491365043928,
          4.423624653997904,
          2.457883091877875,
          -1.809567831878973,
          -0.09935507514456345,
          -0.7473734861919921,
          -0.8463252438579454,
          0.9317608440876116,
          0.3583343748194072,
          -1.34961472002173,
          0.7684194077525921,
          -2.451958050885836,
          -2.240458836758395,
          2.2626335514019114,
          4.182910210292197,
          3.233135403110052,
          1.5471165232201556,
          -1.329391083345344,
          -0.8729332209395465,
          -1.6701688008602473,
          -2.3831011214880973,
          -1.6925760238202656,
          0.09319845803525027,
          1.7201029063464477,
          -1.2372702314290915,
          -0.6809002901024568,
          0.6608003772253304,
          -0.6161862913928189,
          1.5552802335805918,
          -1.8644605600005923,
          0.1624766822226204,
          1.1389640806619135,
          0.39511593326955424,
          1.3196169714806711,
          3.084087636532212,
          -2.4548471418396054,
          0.9382674297967407,
          -1.3351692652528828,
          2.77054839468404,
          0.650578221520826,
          3.306821790069809,
          -0.9612564336276364,
          -0.3589979228582246,
          1.6224301173232125,
          2.3627961492996987,
          1.1770013308230718,
          1.8855343085708114,
          0.9773329454585301,
          1.8864873541356892,
          4.030399932615197,
          -1.1610770386360858,
          4.071221447012351,
          0.7877875498918676,
          0.20288086178474646,
          -0.1080754017431543,
          0.03306185523610265,
          0.8251635941949202,
          2.7628020191586327,
          -2.125474593251421,
          -1.4297056209060612,
          0.32183593558315604,
          -2.5456128801369786,
          3.1899261295390304,
          1.3696079177401679,
          1.7318131906619778,
          -0.7386821091778457,
          0.05941209801343754,
          -1.1802708506017627,
          -0.11895328276045232,
          0.3559938110372571,
          0.7129254324759634,
          0.49590405804711485,
          2.6018772915819244,
          -0.011478427800959552,
          2.3691949467443445,
          -0.43570972437080707,
          2.156369634493529,
          -0.9774630134884679,
          0.6465061173448418,
          1.101510724980684,
          1.2667024146150268,
          0.26510902608050185,
          -1.2539262943539284,
          2.5868552180231545,
          3.9378209184450945,
          -0.889261077236694,
          0.8011802808185529,
          0.7809566441421667,
          5.850163029495018,
          -2.1196964113438823,
          -0.7981710188987488,
          1.0486565046183898,
          1.9604908442810107,
          3.807442495823754,
          -1.6452978447177924,
          1.1862422597643867,
          2.0117901818001087,
          -0.1596495583987667,
          1.0783979973505282,
          -2.3814159492648486,
          -0.43450580564028646,
          2.5516569677883996,
          3.4091111538299748,
          1.6631765818081694,
          -0.3996855193066946,
          -0.8247464935626803,
          -0.04778447132217618,
          -2.4635144147009136,
          0.512383109232621,
          -0.7542832625299479,
          0.8564241587456762,
          -2.4032266170134076,
          -0.2751383323301753,
          0.39584078423791913,
          -1.385487730197484,
          -2.5051656067842063,
          -1.7736948217032191,
          0.6367099756652105,
          1.3409164232380977,
          -0.3213637875904864,
          -1.8413478323704369,
          -1.2209423751319441,
          -1.9204590657016563,
          1.516772358912506,
          0.8756641972354715,
          -0.8181386339690031,
          -1.2025280836948076,
          0.18351271964547095,
          -0.7255917680278776,
          4.423775848886262,
          -1.0448888763985917,
          0.2785477914238799,
          -1.7019488013517112,
          2.9379828407033495,
          -0.7263201718294677,
          2.2873217131948755,
          -2.0037614498682417,
          1.0403865640403422,
          3.801090657836209,
          -2.5513910620445177,
          1.030536277956819,
          0.33871231905192284,
          1.1211250045148615,
          -0.3844425350806859,
          0.6800173244762473,
          2.011545757103341,
          -0.4061721024640557,
          -1.576641062344625,
          -2.0095396317757808,
          -0.6557539660556424,
          0.5393336521620662,
          0.09684490237505432,
          -0.8846407796429827,
          1.30591981310776,
          0.4986419541125258,
          1.164940436583559,
          2.1361459978171426,
          1.6066346184601192,
          2.1759839140277064,
          1.0821425828414084,
          2.6249900192120803,
          0.9389459125945204,
          -0.23596984192729284,
          1.3876160349178976,
          -0.3399224255629823,
          -0.8765989358421717,
          0.2535526622654241,
          -1.1601984088137351,
          -1.8702387419081312,
          -0.6544229565896014,
          0.8309035936544795,
          -1.438544091207496,
          1.1740864230183299,
          2.398664423704712,
          0.4010453100654516,
          1.6904871458403885,
          1.7498262191823744,
          1.832926462701242,
          0.3123562619753834,
          2.4522561048586944,
          2.0255426967317454,
          -1.763725488960314,
          0.8724217707456257,
          0.8908380558059089,
          2.6121249099487085,
          -1.4933386781780396,
          3.8133718726196517,
          1.4678320988256623,
          2.949539204518427,
          -1.7147090838973096,
          2.060031053580867,
          1.782607997756641,
          0.7820093679843287,
          -0.18987467604703462,
          1.1476058908609421,
          -1.1357305675647005,
          -1.5679737894833168,
          2.685937265069161,
          -0.09935507514456345,
          -0.378664353173147,
          1.7656267875701008,
          -0.8413044153364411,
          -0.06795446413797065,
          0.5486070835210504,
          1.2656845646139354,
          0.0783996677303264,
          2.4166501375861484,
          -0.4837484555038471,
          -0.5399142280115584,
          3.9423720903832344,
          1.0860585807863674,
          0.16173420012588874,
          3.0752922600214236,
          2.216538385521653,
          0.5074024567822436,
          -1.1428638630911185,
          -1.048205262134026,
          4.32206310391602,
          -0.9627904109625267,
          -1.5322519741959213,
          -0.5610484065854848,
          -1.659592104598281,
          -1.411489548781409,
          0.6300012493083633,
          -2.0780452192605896,
          0.6436170263910723,
          1.3597318148056723,
          0.06109727023668647,
          1.1976715328439438,
          -0.8565264940541442,
          0.014720620088016802,
          -1.3825986392437144,
          1.7372380370334404,
          0.8775756142592765,
          2.238091909089255,
          4.582322701500334,
          1.2764803763984462,
          1.0572262264519314,
          2.6736233119334325,
          -0.9383997276036127,
          0.8177639216240099,
          -1.809567831878973,
          0.8708927047534017,
          1.2908279259508337,
          -1.4402292634307448,
          0.41186522600280057,
          -2.204585826582641,
          0.16055118690367393,
          2.1166568592225286,
          0.17748171477633262,
          -2.4016395859412345,
          1.7357522798458154,
          0.5661388585487185,
          -1.2102156890030045,
          2.5810512192646433,
          0.538384927816546,
          -0.9197564364327022,
          -0.6491493051064977,
          -1.1541190421508642,
          -1.7852511855182969,
          -0.47022762092768183,
          -0.4044109773720715,
          -0.44148790627834594,
          -1.5206956103808433,
          -0.14960441443359335,
          2.3479695319851555,
          -0.911793463220146,
          -1.885789974256423,
          2.0751266635945744,
          -0.19024891709141697,
          1.9778253900036276,
          4.983034881166667,
          4.630932717289979,
          1.2599063827063965,
          -1.7922332861563564,
          -1.3338141516340039,
          0.718100942807991,
          3.8844862718112037,
          4.13377475856981,
          2.970081066955203,
          1.6812485883224746,
          0.8258502627153055,
          0.013786942905236615,
          -1.5849569932930039,
          -0.3649703934447684,
          2.809654774359542,
          4.54356060037081,
          -2.006650540822011,
          1.0087113902666518,
          0.8389615093735794,
          2.0796453331150446,
          1.3923233130870627,
          -1.6342957906844935,
          0.4153859381165255,
          -0.0791314384681774,
          2.5139027390218605,
          2.180560548628126,
          -0.46824707824830547,
          2.2082780920570126,
          -0.5581593156317154,
          0.4850261770298168,
          0.44048589399275456,
          -2.5108456475406693,
          -1.3639620336395013,
          2.0445296763253253,
          2.7596705136667423,
          -2.6791355880970893,
          -0.262476190935653,
          0.50418584714337,
          -2.472181687562222,
          0.6280427028039022,
          0.22531510661712223,
          -0.6284211380056763,
          0.8588839612946335,
          0.7653281761511046,
          1.2013903014838514,
          -0.41702006502931127,
          -1.723376356758618,
          -1.8541081149160352,
          -0.5378806315948996,
          2.8792223347840364,
          0.09174520326529505,
          -0.8182898288573617,
          -0.3544667534718527,
          2.982169788204335,
          -1.4300280132345462,
          3.6522922272978033,
          2.005767575195802,
          0.8003506031324145,
          3.790259144989496,
          -0.5400654228999169,
          -0.1533199844289686,
          -1.422796576557052,
          1.60640145215825,
          2.056086040140403,
          0.7981399949764248,
          -2.538149526006191,
          -0.9235010219235822,
          0.5931473665581126,
          0.9169620537826878,
          -1.0815433441132183,
          0.31185991727355383,
          -0.9642967194697643,
          1.1489400989715155,
          0.22938721079310648,
          0.2887471896433983,
          -0.9755506935081251,
          1.6927700782964814,
          1.1076422424242993,
          -1.743599993435004,
          1.5787983825605434,
          -0.16402085370693573,
          -1.9060136109328092,
          0.2979658545669659,
          -1.514766233584946,
          -0.8240680107649005,
          -0.5588857258101584,
          -1.8644605600005923,
          -0.27998283705493393,
          -1.3178347195302662,
          -0.9824867597294916,
          1.0773131252793895,
          2.194629576622018,
          0.6889869871142729,
          -1.0628019117912317,
          -1.3453705154490816,
          3.9145860114220854,
          -0.7101164885483211,
          -0.3501967320482318,
          -1.8269023776015896,
          -0.0064086471432429236,
          0.6975030650872226,
          2.7193213814650457
         ],
         "y": [
          1.671672617805426,
          -1.2045580325457326,
          -1.556423014457016,
          -2.964333088279598,
          -1.0397850165553522,
          -2.3316488749038045,
          -1.0374941777373736,
          0.23198595583931214,
          -1.1863217145629832,
          -1.6112448493725429,
          1.6556793529354144,
          2.468182854964733,
          -1.5806650733070764,
          -0.3424918438958186,
          -1.1022500343716524,
          -1.2659333209084307,
          -0.038502592385253234,
          0.8793982396759019,
          2.8348403359526957,
          1.748436166656729,
          -1.5711748044151652,
          0.3103374259088357,
          -0.6707866149165052,
          0.25505874600852574,
          0.05999414050166713,
          -0.5732461697669874,
          1.6293280992664665,
          1.090196086623374,
          -1.321271167983068,
          -2.0987216265670683,
          -0.4861062307992392,
          -0.26172858563412166,
          1.2736322764061543,
          -0.7523531644693433,
          0.045082361035036135,
          -0.2039619543504583,
          -1.825082160711213,
          -0.6468803750333912,
          -0.37164107322600454,
          -0.7375924225517025,
          1.4477918293522345,
          1.1151366892137478,
          -0.886243471250505,
          2.275203724779407,
          0.2838353978177226,
          -1.0157919961743584,
          2.163067816474944,
          -1.32477607169762,
          -1.9842736729813584,
          -1.8152211583690987,
          1.904152312887336,
          -1.4842143576111604,
          -0.19250140706680333,
          1.8210082594301185,
          1.7927307802953576,
          -1.1353347310500408,
          0.40221473529147245,
          -2.3229433656838676,
          -1.7433055361799532,
          -1.6722435330061238,
          -1.2094617825748153,
          -0.5226122048677376,
          2.4882287928674454,
          -2.4300252828013083,
          1.2827176007806804,
          0.5578551390857852,
          3.4823155830508186,
          0.6152451656403312,
          -0.1707010181951749,
          2.2353171824393288,
          0.627458922382221,
          -0.8859833144391772,
          -1.2973148462670476,
          -0.8737347344050928,
          -0.7936372743232945,
          1.7495963536331895,
          0.04990656819983933,
          1.8237560766148089,
          1.6421244486186988,
          -1.3312289091991734,
          -1.706799562111455,
          0.8433687466293771,
          -1.3732212259070962,
          0.2634932288234877,
          0.03230313104887484,
          0.2350198011680338,
          -0.8718553236084258,
          -0.8993165490389982,
          -1.5169185724888048,
          1.6233150441219133,
          1.52323818432726,
          0.3807799481733856,
          0.9675104717780857,
          -0.433799943836046,
          -0.5784193683373549,
          -2.063408510931876,
          0.39088852054994466,
          3.2821562772384074,
          -1.7175735570317485,
          -0.788679646374099,
          -1.7045842557041995,
          2.0412077470638015,
          -0.7454350976700069,
          1.0712343058878717,
          -1.3028288621190938,
          -0.1432397927646023,
          1.0494932905791066,
          0.21415273830316184,
          -1.800915764016771,
          -0.8583464739164882,
          1.3898977252067346,
          -0.9618141616685021,
          -0.5618698731925533,
          -0.7254695334048898,
          0.566899887723711,
          0.8335037170791345,
          1.9887389575580405,
          -2.0696512734550074,
          0.5269687591934765,
          1.1029330624127425,
          0.03825291880436541,
          -1.7751511134117215,
          -1.4876225224517214,
          0.19903088385810924,
          0.7504844432916532,
          0.7916582210781093,
          0.3711697299282226,
          2.2787321416027773,
          -1.7117941797356144,
          2.1808417938301603,
          0.13619758200655388,
          0.29732841553748857,
          -1.644929128282449,
          -0.5591181789362363,
          0.06774594802489452,
          -0.9263307122175944,
          0.39443159136409256,
          -1.5346688303466671,
          1.1376900811550745,
          0.4567864104948271,
          1.1063677959773923,
          -0.9241654876432456,
          0.903066791257041,
          2.5869183448340065,
          1.0185475371239343,
          0.4121818492219548,
          -1.8383612263809308,
          2.026572696033431,
          1.4592156947254886,
          -1.2242859085088753,
          -1.192338780161092,
          -1.7598629356045095,
          -0.6661919817483511,
          1.965238116789262,
          -1.2744004751802382,
          -1.4656211439430915,
          -1.8216739958706523,
          1.0319610119794211,
          1.843680931761397,
          1.0446690834143033,
          0.747279490112189,
          -0.11163756872518647,
          0.32732151189541603,
          -0.08560806745452583,
          -1.44921465232263,
          0.8343160937116963,
          1.86690388644491,
          -1.1975987592293396,
          -0.8357889985149982,
          -2.3560411749118053,
          0.8161787539923158,
          -1.8103174083400162,
          -1.8971072382961287,
          0.05216874601452868,
          -1.4172024854510972,
          -1.5404482076428012,
          1.2680120155838108,
          0.3819226481301438,
          -0.05227159888851886,
          0.5942703222028479,
          3.0398391695668425,
          -0.2714565428280074,
          -1.1459344384393517,
          -0.5637046977990645,
          2.8512899548046406,
          -1.440751829648892,
          3.732994687424934,
          -0.37801503450943275,
          -0.09470356457151262,
          2.6772131551483125,
          -1.211190362211029,
          3.1371930528467558,
          -0.9453719591737343,
          1.1717666466297678,
          -0.8750427897681873,
          0.06174988250151669,
          0.033495989482180556,
          -1.3483557886845228,
          2.0497534731637925,
          1.774494462312608,
          -1.3100704865007502,
          0.1706902103408932,
          2.4465496202285797,
          0.5468554472404686,
          -0.7047006778486309,
          0.33792101289619025,
          0.4320007225250697,
          2.4882287928674454,
          -0.5183746737734396,
          2.2536330432863574,
          -0.9889450637748783,
          -0.13249846930115364,
          0.05702562463617699,
          -2.7148060565766183,
          3.408461099858501,
          0.8124361619757886,
          0.12625280320349525,
          0.8766093493560838,
          0.4454427853772382,
          -1.1457282441695906,
          0.807758775517883,
          -0.9306980743976149,
          -0.4121547943665812,
          -1.6340083126552571,
          -2.0258710035480076,
          2.936697928067398,
          0.5319674602777991,
          1.3034547559161893,
          1.748436166656729,
          1.85012468392153,
          0.5239410761536595,
          2.776404348315383,
          -0.9132650477060066,
          2.2709396249610205,
          -1.4673210625760158,
          1.1983123664480746,
          1.946419206196171,
          1.0706517132775297,
          1.6141601734420636,
          -1.1285014117477437,
          -0.7324417691343296,
          -1.8438548665430248,
          2.216511805150672,
          -1.5421644915121222,
          -0.7469136932373532,
          -1.531780063733993,
          -1.201292661203941,
          -0.4654191574966373,
          1.245060945832028,
          2.8405696314159234,
          -0.9353160872926568,
          -1.755088810272613,
          -1.3148774976558413,
          -0.6139200137979743,
          1.2575011427887364,
          -1.9501706117891835,
          -1.5011944163896123,
          -2.2345077093812935,
          1.4905208569000663,
          1.2827176007806804,
          -1.2285640153397734,
          1.322394051387765,
          0.7146253570674507,
          -0.3223794589238035,
          0.9580095755467629,
          1.869893269003202,
          -2.5902206552447105,
          -1.6810546205502033,
          -0.7840745958921037,
          2.968626391970847,
          -2.223603883375277,
          -2.0307373882659623,
          -0.3413531543926163,
          -0.837188051218065,
          -0.14919866222447933,
          -1.8966805517341048,
          -1.2115879670148775,
          1.5685720854245115,
          -0.6181499279854741,
          -2.1579316903554178,
          1.888159048017324,
          -0.18345665842887746,
          2.165403451508649,
          -0.4566227806816237,
          1.5174219749842228,
          0.23732547777183893,
          -2.314664788917224,
          -1.2670149360567071,
          1.625567049194142,
          1.7749343176762153,
          -1.2560347468666522,
          0.5105701718527699,
          -1.7916915232151025,
          1.765688870411279,
          -1.7045842557041995,
          -1.2948527662163973,
          0.7411235080869372,
          -0.002574212682873542,
          1.5758881210442943,
          -2.014573583191699,
          -2.1312366367961273,
          -0.5662372353725739,
          1.2722661015484698,
          1.4135181513121668,
          -1.9972169196841292,
          1.40909711760057,
          0.21284067248651156,
          -0.7400137934838235,
          0.3517602625559655,
          -1.1427599346926371,
          0.059098137544662734,
          -0.8214335223297641,
          -1.9009887467397983,
          0.26719511172148547,
          0.04686189553884707,
          -0.6005279030338171,
          0.09070102823023317,
          -1.1407703252104047,
          -0.24036396866593743,
          -1.853185352314991,
          -0.7613979131072693,
          -1.3340268082167703,
          0.7770638791662693,
          -1.599667563161108,
          1.2466304089944513,
          1.0856226599184875,
          0.07660162175912982,
          -1.0721207410092048,
          -0.9281562450941484,
          -1.1680058537159543,
          -1.359892208149367,
          2.166802504211716,
          1.6183571251627276,
          -1.734974956865976,
          0.8556215435055535,
          3.045848254241555,
          0.09407348219648791,
          -0.788679646374099,
          -0.3633003639711425,
          3.4372009196207953,
          0.24593445450632062,
          -0.37732840550243024,
          -0.9552104930064954,
          -1.314061243951653,
          0.8895449791520564,
          0.6051813128358574,
          0.6439796231418039,
          2.5308680740633056,
          0.6675962451822167,
          1.4789435706886316,
          0.8175368911883165,
          -1.4532817729575718,
          -0.5098565646340352,
          0.539915882967874,
          1.7424191010586203,
          0.3897283335734839,
          -1.157667630699105,
          1.04555261496111,
          -1.643966053871363,
          -0.9332306119711241,
          1.0128484000834657,
          1.4091378267190993,
          -0.11288980072135561,
          -0.5526653414346829,
          -2.403953818343846,
          -1.0039160104158362,
          -0.5937576279774731,
          1.0401182186169844,
          -0.4108100403385131,
          -1.9648852823274736,
          -1.2877337097800592,
          0.9392368697149512,
          0.6196664057404644,
          1.1353280270475294,
          1.5341182908359219,
          1.5022712451695317,
          -2.427433371664936,
          1.5415579222459153,
          -0.9256440832105918,
          0.4674645395758205,
          1.2185036276382146,
          3.4924216134084443,
          1.404272910435767,
          -0.8300893704716799,
          -1.7145920787532116,
          0.8970904347774613,
          0.839943592167641,
          -2.020163962227784,
          1.6792089880894108,
          2.260981883744915,
          -2.2868139963444865,
          2.050390101322309,
          2.911998947588913,
          0.01382728069336478,
          -0.8370397620765453,
          0.007525350995906441,
          -1.4544746313908776,
          -2.050652870698173,
          -0.04888702016338266,
          0.189898688076149,
          -0.914973918298422,
          -0.18912992413664323,
          -0.8393136112733488,
          1.075475920442333,
          -1.4237257804755095,
          0.796382478943449,
          -2.4652790248736376,
          -1.3001127452846448,
          1.1213121738942613,
          -1.9162892203139028,
          -0.7218737620952602,
          0.22841780149026997,
          -0.8110164230947896,
          0.48685250947481923,
          -1.3848578856813945,
          -1.0884404521317865,
          3.144944860369983,
          -0.8886463841268285,
          -0.5852397252266052,
          -1.3034708282922993,
          0.9372185424911417,
          -1.5851233030821736,
          -0.7975075734028519,
          -1.677503512074371,
          -0.21089750816949732,
          2.8308088693832634,
          -1.6517585705131197,
          -1.1420232238527281,
          -0.33585951423052257,
          2.1005975130414645,
          -1.247676627235729,
          -0.7173004120340154,
          -1.0613794175457563,
          0.5652712573869609,
          -1.418395343884403,
          -0.021971688678178378,
          2.4987927128093173,
          1.4845037913019574,
          -1.1060348039413306,
          -1.0274456455698324,
          -0.8092409720511419,
          2.1499092091765717,
          -1.464248793346043,
          -1.5501591752155115,
          -0.1977151813737709,
          1.0690822501151067,
          -1.3940624174392653,
          -1.8012726597020905,
          0.02956439920560438,
          -0.24705633854025114,
          -1.4450403156107872,
          -0.4188883707579516,
          2.3063198120502952,
          0.7916582210781093,
          0.6502223856649354,
          -1.0581722423421966,
          0.38497140425129933,
          -1.5318301455668992,
          1.366458881004174,
          -1.672885499179329,
          -1.1396520113971547,
          1.2719395786522583,
          0.8207034906552761,
          -1.271225971433524,
          0.05479332860774643,
          -0.2896255829681385,
          0.8378384078023096,
          -1.5769541817112995,
          0.892589651813049
         ],
         "z": [
          -1.8625254434261815,
          0.9612845890783603,
          0.8883086407171579,
          -1.0099314138364557,
          -2.8063997187598684,
          -1.15977686708219,
          -0.3111242151082854,
          0.4865936242163061,
          -1.2030704167050543,
          0.9122193123353336,
          0.7782510795821314,
          -0.03225200357446046,
          -1.6284796304631726,
          -2.424764870553027,
          0.8181623143658986,
          -0.8810847830722304,
          -2.4051246213776523,
          -0.7587565428319195,
          0.6348490806419889,
          0.8271667753850875,
          1.0586416747601686,
          0.6243105177198264,
          0.5684548784124466,
          0.8373065347349508,
          0.5181159665243346,
          -2.4373421731154528,
          -0.6871063705512396,
          -2.2586265831133745,
          0.7798109143712645,
          0.6794419982960979,
          0.6835220638170252,
          1.025147946625224,
          -0.8246384731363142,
          -2.610840757026409,
          -1.254195986188296,
          -0.28097135066751694,
          0.6428892115542081,
          0.48853484801230357,
          -0.6659664589380223,
          -2.3014415184953503,
          0.6223391318929103,
          -0.6803916838263293,
          0.4262642433081595,
          -2.328045072591517,
          -1.2547526890213905,
          -1.843746195185354,
          0.09794212615250607,
          -0.9776466780675749,
          0.10898227145019601,
          -1.2667841933118476,
          -1.90799606950372,
          0.8326547232852858,
          0.9124360773064843,
          0.5292675117495458,
          -1.50422577565599,
          -1.2258998677749848,
          0.3165727374741122,
          0.6193856618290563,
          0.6478809608658167,
          -1.1716976553370961,
          -1.192150679546637,
          0.846657613402659,
          -2.2678300626450656,
          0.7117334138515544,
          0.02677853814005347,
          0.9550166633696079,
          -1.5057228555588018,
          -0.109555038401294,
          -0.9423610164664612,
          0.8067463786188916,
          0.6007571985290292,
          -2.5355616335148055,
          0.912368893275404,
          -0.2204903079597499,
          -2.0194452082385004,
          -0.6758070564077445,
          -1.4043406013141713,
          0.6953477076974577,
          0.2757058265026847,
          0.9600150924677922,
          0.4847454112801829,
          -1.5206100992982379,
          -1.2827845866951724,
          -0.8652747466107786,
          0.8115952267770054,
          -1.1841252406080844,
          0.9115737025889401,
          -0.9784418687540385,
          0.6215175331571688,
          -0.5045292507381995,
          -1.319012263900152,
          -2.373637489047999,
          0.64704499419755,
          -1.24690959481762,
          0.44482327193528953,
          0.6143763281697461,
          -0.6775318058428332,
          -0.25573214694615054,
          0.5214718733141536,
          0.899145980966585,
          0.6108036564087762,
          1.0733165826732127,
          1.1825789531217754,
          0.7391868858100233,
          -0.8904965357667098,
          0.9476545548765174,
          0.7326871520344771,
          -0.4434025982840391,
          -2.3988566956688997,
          0.6268325387009288,
          -0.3877443275783217,
          -2.361497854962392,
          -1.2307596204942246,
          1.0346486062330027,
          -1.0981344575590046,
          0.9638717132309931,
          -0.5038164569607257,
          -0.6222657874221345,
          -0.802273763781459,
          0.565482441489042,
          0.92501337986891,
          -1.1203618308870127,
          0.8046663576159746,
          0.9585893351305778,
          -3.376557518974109,
          0.6630192701418391,
          -2.873809800410933,
          0.7679813467269245,
          0.9570880304532158,
          0.7491252138946205,
          0.1681419672221996,
          -0.4558303199063943,
          -1.223629320067928,
          1.0097931629882926,
          -0.3401266172947614,
          0.8539525378646691,
          -0.14162300919902426,
          0.8955061251745349,
          -2.6048868215228316,
          -1.275322666727657,
          -0.5326200104169663,
          0.7675327736889799,
          -0.15484592150784315,
          1.1487603302205303,
          0.836693552431902,
          -0.41561160121639035,
          -1.2558644561534302,
          -0.25710145503114384,
          0.47647998230547867,
          0.4253842842429136,
          -0.9548559221198968,
          0.8237996734239006,
          -3.141018934425072,
          -1.3350126572834768,
          -0.5834074540600511,
          -2.5640569325515656,
          0.6708775772235194,
          -0.6679639622039744,
          -0.2170408090895728,
          0.8828317671603524,
          0.8674769835234208,
          -1.3689162633341134,
          0.4193222189441859,
          -0.8663851733907214,
          -1.0135714394107727,
          -0.9671231582410554,
          -0.7506885469168799,
          0.884735968956188,
          0.36341284141891045,
          0.8105095770840013,
          -0.34227900750436235,
          0.8866510753131497,
          0.3770428756207533,
          -0.37960642476825573,
          0.5938846088379527,
          0.4598899680354728,
          -1.6648830060472586,
          0.9185286891890068,
          0.841442419333324,
          -0.18505506541856598,
          -0.5647333561235248,
          -0.9781427068738976,
          0.5631011777464339,
          0.4761071263899485,
          -0.3572923012574123,
          -0.558552010815341,
          1.1971799972171637,
          0.8146046857005719,
          -1.7863825714140364,
          -0.1868879446488042,
          -0.44790482879363364,
          0.9423423053554254,
          -2.0545279439633757,
          0.8550316775533642,
          0.36046819505663236,
          -0.3182630073429444,
          0.7135253473177233,
          -1.3517522524935532,
          0.4964369777086963,
          0.6601292301274245,
          0.7140148661197373,
          0.9478041358165878,
          0.7774709319913105,
          -0.49311348477345934,
          0.6161010776048347,
          -0.9562816794571108,
          0.6838277357014751,
          -2.2678300626450656,
          -1.2170624022613015,
          0.9459712565863496,
          0.9716476234036832,
          -0.4939758594910036,
          0.8751529124394193,
          -1.0472145787035207,
          0.9115588742639065,
          -1.4159059482189822,
          0.7624410431206795,
          0.8050216291838032,
          -1.0770012670153346,
          0.6437515862717523,
          0.6761859029807038,
          0.8150118075935958,
          -0.6226057252840781,
          0.6815914539719119,
          -0.9850087865606653,
          -0.40437528761239705,
          0.3864590574599919,
          0.7861092168815448,
          0.8271667753850875,
          -0.49432488989228646,
          1.002662862561996,
          0.13672383094541318,
          -1.0787260164504233,
          0.8617657606477628,
          -0.3492697546928948,
          -0.6928194054486843,
          0.5768423883763364,
          0.4866869256864222,
          0.43677017878697727,
          -1.3306366462975854,
          0.6971023285532228,
          0.6927496789836988,
          -0.548297106285168,
          -1.1424397930572168,
          -1.1035814596951334,
          -1.3517135573713006,
          -1.5274826889893143,
          1.2303747332542339,
          -0.999202203382178,
          0.8579872284767683,
          1.0458068312447895,
          0.4611770489937426,
          0.290048824264268,
          -2.196516463910427,
          0.3539230863722577,
          0.7160971377644711,
          0.46283461439775075,
          -1.2326339508693838,
          0.7050366433675593,
          0.02677853814005347,
          -0.41546383229810663,
          0.5754620059479505,
          0.8688178026995865,
          -0.6307479813679895,
          0.638163826897129,
          0.8060335848414178,
          0.9306574187134875,
          0.7724312215304724,
          0.25425605951343894,
          0.8411395034715421,
          0.8333003330316793,
          0.45232199913235743,
          0.9330386824560956,
          0.380832312352874,
          -2.8348127906699054,
          0.347973289403197,
          0.01999365136154573,
          -0.9377092050167962,
          0.2584702024862852,
          -1.2493471380301824,
          0.7327804535045931,
          -1.1407150436221283,
          -0.3106756420703407,
          0.3837593743674504,
          -0.4446140034028663,
          0.9505816168910938,
          -1.3647651658578304,
          0.3426867727682646,
          0.4516245390607686,
          0.6317573945916989,
          0.3866107192596123,
          -0.853095077050822,
          -1.1051566281901515,
          -0.0221946411335875,
          0.6108036564087762,
          -1.3057812030528753,
          0.6734084219061979,
          -0.8127863790468526,
          -0.10650451288568298,
          0.6786643919573356,
          0.7096687265545223,
          -1.269700350765298,
          0.18428780301107783,
          0.7508194167459145,
          0.8069369053230314,
          -0.4666743812253687,
          0.20319327950446045,
          0.6811667477311864,
          0.37942413936336133,
          0.7001117874767893,
          -1.5155444861689733,
          -0.5561816516338591,
          -1.138867121296247,
          -0.5561059757944165,
          0.5613095348905068,
          -0.9805065560510707,
          -1.0714447947319592,
          -0.6586865775716554,
          0.8597981288024877,
          0.36167050763612024,
          -0.5576896360977968,
          0.5814568872155976,
          0.09705940233574005,
          0.6048756685619675,
          -1.3388196783632995,
          0.8110991979706824,
          0.5546752632705333,
          0.9840753450260382,
          0.48704444789606743,
          -1.0638455387375962,
          -2.3608698295637,
          -0.3280951130043043,
          0.7979089131052081,
          0.20354959771337555,
          0.3154267043645788,
          1.2901020364204578,
          0.20005915307912903,
          0.899145980966585,
          0.8458885401552307,
          0.1295140681439132,
          0.5868777719126909,
          -1.5579754912920265,
          -2.422849764196066,
          0.43352654032682497,
          -0.2841996554217842,
          -1.1068399264803193,
          -0.4052570586994298,
          0.4544953216053907,
          0.38554691327680224,
          1.0123802871409253,
          -0.7107595012164619,
          0.7279505722060301,
          1.0450116405583256,
          0.574244189880311,
          1.0753812699702447,
          0.825442025949999,
          0.5888752751786426,
          0.6646768355458473,
          0.8617956320684396,
          -0.9307956695616505,
          0.4535396454177303,
          0.29778378867288874,
          0.5904504436736607,
          -0.9278686075470741,
          0.545393619275722,
          0.6472353511194232,
          -1.7118162416799063,
          -2.4373227767459644,
          -0.3734686836300854,
          0.6848132833098122,
          0.9737123107007154,
          0.6880242943266198,
          0.6945416124498677,
          -2.9461794875386342,
          -0.17824965975856988,
          0.10515188895400596,
          0.5962440634583088,
          0.8946852016019113,
          -1.518627639127929,
          -0.694244993003632,
          0.6441068578395809,
          -1.795624138046924,
          -0.3165297660994935,
          -1.0911537380727783,
          0.5785298252010214,
          0.8578267429755718,
          -1.3878849551063261,
          0.8978093003249364,
          0.9398786447038273,
          1.0419699387442904,
          0.6977977077652616,
          -0.5668265323293846,
          0.870635853604791,
          -1.270274637946094,
          0.27113520796127955,
          -1.0590170731096042,
          0.8260204516653122,
          0.8127303553254129,
          -2.195850857063568,
          -0.7915036075631122,
          0.6563288888341778,
          -0.3988421345856372,
          -2.3848538055515265,
          0.3365423105605469,
          -1.4324111941102062,
          -0.5303966496405244,
          -1.084497743570586,
          0.5338106880232096,
          0.9178830794426133,
          -0.7364530137614671,
          0.16632831087381192,
          -1.4840397282086464,
          0.6394485363856071,
          0.9132984520240287,
          0.8858558846266859,
          0.47616340585990286,
          0.08409972153632937,
          1.1965146592080682,
          0.9636549482598423,
          0.7183003316581811,
          -0.8863227724244506,
          0.958357527063784,
          0.3547073724975957,
          0.6678942357389887,
          0.720748949214136,
          -0.41009741504918107,
          0.955580045989278,
          -1.4599903802115264,
          -1.0155754526810334,
          0.6061328780995606,
          0.7060397753235981,
          0.6993165967903253,
          -0.45755506934148277,
          0.689382697850487,
          0.6919544882972349,
          0.2717602988261845,
          0.8697473614482112,
          0.9532511379527167,
          1.0317215442184264,
          0.48560778599772714,
          0.793878617049926,
          0.8538293649738763,
          0.6847243763965131,
          -1.7041141953248722,
          0.8900333901522465,
          0.8263044006675433,
          0.5829648716795355,
          -1.1665000456154628,
          -1.0148626589035594,
          -1.4487649711686592,
          -1.0545833669831872,
          0.9387995050151322,
          0.8484645899644709,
          0.6630192701418391,
          0.8313850568924509,
          1.084359492722423,
          0.6139539933988124,
          -1.5641915666755835,
          0.42756428650252243,
          0.43709921208779473,
          -1.0523625887417754,
          0.6383134078371996,
          -2.0734130713575367,
          -0.4463968443296959,
          0.9098081771720489,
          0.8245796512324548,
          -0.4020915088314838,
          0.6230255176211065,
          -2.2498497916264624
         ]
        },
        {
         "hoverlabel": {
          "namelength": 0
         },
         "hovertemplate": "contraceptive=Use<br>pc1=%{x}<br>pc2=%{y}<br>pc3=%{z}",
         "legendgroup": "contraceptive=Use",
         "marker": {
          "color": "#EF553B",
          "symbol": "circle"
         },
         "mode": "markers",
         "name": "contraceptive=Use",
         "scene": "scene",
         "showlegend": true,
         "type": "scatter3d",
         "x": [
          -0.4833710158149324,
          -1.7563602759806023,
          -1.4645989635287033,
          1.720733168996962,
          -1.151229951197095,
          -1.8912168142510324,
          1.4892596542325691,
          3.2899894033482266,
          0.5346661591766383,
          -0.4472660881858848,
          2.7511802525447644,
          -0.41247795008126975,
          -1.7951223771101257,
          -1.2071754031608766,
          1.5902035514872626,
          0.17534997720859774,
          -0.026753560255945014,
          2.156369634493529,
          -0.11005594442253067,
          0.36250352947985814,
          2.8476983558987046,
          -1.1956190393457988,
          0.981858988488283,
          -1.5705115385241566,
          0.5915924837149166,
          -0.9356606265168167,
          -1.6615015279989391,
          0.06513722618369404,
          2.1308192925967564,
          -2.3772247984294825,
          -1.659592104598281,
          -0.677033525218723,
          -0.9540249969501424,
          -1.6659776500248813,
          1.0202677540817295,
          -1.8585842369419774,
          0.025343306720314412,
          -1.6730578918140169,
          1.325897312389244,
          -1.489419762513561,
          -1.974519198417618,
          -1.7332475483504468,
          0.00623035896603939,
          -1.1036493823179048,
          0.8044227073083988,
          -1.7291545386661569,
          0.2149417560242593,
          -0.4651279218179228,
          0.5899073114916678,
          -0.8413044153364411,
          -0.44204511263980967,
          2.3356162288362254,
          -2.31255901986711,
          -1.1094275642254436,
          1.603061975183937,
          0.9653541204518045,
          -0.9109379686830352,
          -0.40051519699283294,
          1.782512818152275,
          -1.8829008833026535,
          -1.723376356758618,
          -0.8265597694354092,
          -1.2761835274469733,
          -1.201548416141696,
          -0.6219145522965474,
          4.42727429698224,
          -1.7349327205736957,
          0.2754823766733648,
          0.4707319171493282,
          -2.4131959497563122,
          -1.7002636291284623,
          -0.5386121681299618,
          0.6175621540698648,
          -1.7708057307494496,
          0.09299631738753215,
          -2.0796322503327627,
          -1.7175981748510791,
          -0.3985366479366037,
          2.3071738344389736,
          5.014867935395412,
          -1.5047679512575967,
          -1.5734006294779261,
          0.503961973766215,
          0.10769696654137993,
          -0.28091651423771424,
          -0.7679713639127606,
          -0.6314614238478043,
          -1.379709548289945,
          2.773886000778252,
          -0.7649310780706325,
          -0.10998681876695929,
          -1.667279709906478,
          -1.2510372034001591,
          -0.8159280258130134,
          1.1287164622951293,
          3.4388853849143985,
          0.2565929481075521,
          -0.7778766973567135,
          -1.7060418110360012,
          -0.780206210525618,
          1.2669115745833344,
          2.5255361025450926,
          -1.8829008833026535,
          -0.7176528989681593,
          -0.7105746508021711,
          0.8304454314006295,
          -1.7204872658048485,
          1.196369472962347,
          -0.22559649133442997,
          -2.5628492847085194,
          0.9740184306031966,
          -2.42475231357139,
          0.4393492489411251,
          1.212521005462749,
          0.01572730951348598,
          -1.030496475367027,
          -0.784476231949239,
          -2.4548471418396054,
          -1.7522672662963124,
          0.6856215540104418,
          -1.9889646531864653,
          -0.90498858933537,
          1.2301830698704699,
          -0.3889588331777551,
          0.5771470289460693,
          0.6187982210293621,
          -0.8101498439054745,
          -1.667279709906478,
          0.4182286608997097,
          0.3336126199421637,
          -2.4849419701078204,
          -0.417801522568184,
          -1.3350180703645242,
          -1.7650275488419107,
          2.4302191923095795,
          1.6088381634683286,
          -0.02881297352357622,
          2.9271339751815564,
          -0.021126573236764538,
          -1.693281528490403,
          0.7442539562802746,
          -1.257645062993836,
          -0.6866784720099957,
          0.31507415548902645,
          -0.27126564318981505,
          -0.7263201718294677,
          -1.5409421461886827,
          1.01737866312796,
          -2.3773229395805586,
          -1.317512327201781,
          -1.9089027018865785,
          -0.9697725116005862,
          -2.572720476300348,
          -0.9498512647009172,
          -2.091714050080581,
          -1.835471509311822,
          3.6622652828974895,
          0.1163642394026883,
          -1.35813079799468,
          1.012783494442636,
          -2.1687128164068867,
          -1.3135905149576177,
          -0.2319001091747097,
          0.4150326025804489,
          -2.3570993029041722,
          -1.2597044762614673,
          -1.7666145799140835,
          1.5654287428727367,
          0.7038807199257403,
          0.3172847636450162,
          -2.0219485724084496,
          -1.8788078736183635,
          2.0911035557790463,
          -2.1413799883569204,
          -0.9252322285635239,
          -1.9646480068257892,
          -2.578498658207887,
          -1.3639089799022188,
          0.7309915147336422,
          -1.7262654477123873,
          -0.13605776300645558,
          1.5615619779890029,
          0.5961876524002406,
          -0.7858331975447984,
          -1.7765839126569885,
          -1.699059710397942,
          -2.076743159378993,
          -0.24242465465593116,
          -2.1573076474801676,
          0.6493952082986112,
          -1.5149174284733045,
          -0.8168365740874065,
          -1.1377641639813594,
          -0.060998395364836165,
          -0.03732905149652606,
          3.0591943713816137,
          -1.8441387821731303,
          -1.8553438040752785,
          0.4179216935342183,
          -1.0024610603664432,
          -0.5807456266199426,
          -0.3501967320482318,
          1.6448643621555885,
          0.9203556751608925,
          -0.16454852036064568,
          0.199587752981019,
          1.3423763635747499,
          -0.3437400673429132,
          -1.2430484133366304,
          1.8683954550270379,
          -2.3929723130799263,
          3.373336284805297,
          -1.8730296917108247,
          1.911076094020786,
          -0.8563752991657856,
          0.9770295309262641,
          1.9727836559738174,
          -1.5319006322829918,
          -0.8189683116551414,
          2.4260940343963124,
          0.8223054464487424,
          0.14151056344950255,
          -1.282719062740547,
          2.154159994261102,
          1.8872194807940603,
          0.6121903614356851,
          1.4892066004952864,
          4.442923670481608,
          -1.4875604962705007,
          -1.0958906577309895,
          -0.9527403556546865,
          0.4736901337586689,
          -1.1891623746404802,
          1.7052028421569758,
          -1.6701688008602473,
          -0.41609544483662936,
          -1.2728208492763606,
          -0.4953739449744962,
          -1.379709548289945,
          -0.09199654773154899,
          -2.4188759905127752,
          -0.09144515566928975,
          -0.49917357782580596,
          -1.0622993749899439,
          0.9287205582454837,
          -1.9089027018865785,
          3.074941886032057,
          2.223167150623636,
          -1.1007602913641352,
          -0.9310104104710628,
          -1.0533309173733036,
          0.21086965184827505,
          1.331441205420088,
          0.643970361927149,
          -1.3107014240038481,
          -0.3626085904004201,
          -1.5637536890635062,
          -1.3193686968651566,
          -1.5608645981097367,
          1.0349335293945066,
          0.3040223220983838,
          -2.4391977683402373,
          -1.831378499627532,
          -1.151229951197095,
          -1.8124569228327423,
          1.0731152888773263,
          -1.681725164675325,
          2.5688933723599403,
          -1.5781991438323533,
          -0.4392772981223562,
          1.3556388051213824,
          -1.0750596575355422,
          0.4477173306702486,
          -1.5321007793075627,
          -2.076743159378993,
          0.6821022004061582,
          0.18861241875523005,
          -1.168938737964094,
          1.6879513904226953,
          1.8254422030621484,
          -0.29904858941749235,
          1.4620539169181235,
          -0.9533465141523627,
          -1.6285176087769546,
          -2.4461798689782968,
          -1.5734006294779261,
          2.834931151851793,
          -1.7349327205736957,
          -1.1891623746404802,
          0.5961876524002406,
          -1.737821811527465,
          0.4939636914388655,
          0.5301149872384985,
          -1.421766751846343,
          -0.5677293224682124,
          -1.7262654477123873,
          -0.28186523858323415,
          1.1992585639161166,
          -1.8730296917108247,
          -2.6201498502911797,
          2.2608443796820206,
          -0.9497000698125586,
          -0.9583673426738669,
          -0.01595454982690177,
          -1.18984085743826,
          0.736265166216746,
          1.3296369865374573,
          0.35439443090357653,
          1.154108923736846,
          -1.9804485752135155,
          0.15017783631081089,
          -0.8980264912490784,
          1.4551468661922617,
          -2.148489179730501,
          -2.2016967356288712,
          0.7550529667093178,
          -1.3322801742991133,
          -2.3831011214880973,
          2.159258725447298,
          -0.44777730417701717,
          0.573074924770085,
          -0.9310104104710628,
          2.525782239939995,
          -1.5483073591683942,
          -2.348432030042864,
          0.4209876984080427,
          -0.09425537603480427,
          -1.1532893644647262,
          1.7041029229230973,
          -1.7191852059232517,
          -1.7291545386661569,
          -1.3165326596486695,
          1.0532516733037138,
          -2.3628774848117113,
          0.6939354913356734,
          1.1294207619438814,
          -1.835271362287251,
          2.0028784842420326,
          1.0448047209863354,
          1.0619189461650222,
          -0.8104522336821915,
          0.5887033927611471,
          -0.3493670543620935,
          1.1481104212853772,
          -0.5213757635584212,
          1.5127257173988014,
          -2.513832879645515,
          -0.6637169392681987,
          -0.4943039441926602,
          -1.631406699730724,
          0.7154611878936562,
          0.08493520302389983,
          1.6794353124497456,
          -0.5456924099190973,
          0.5570252562775404,
          1.0345620139622183,
          -0.7581552196813613,
          0.7054918551507512,
          -1.3006050005254228,
          -1.2460886991787583,
          0.021505491421024907,
          -1.631406699730724,
          -0.3729063447849668,
          1.4042511923344287,
          0.6032678941893762,
          -0.7174286477907503,
          -1.3710422754286367,
          -2.4749726373649152,
          -2.118394351462286,
          -1.4134508208979641,
          -0.43349911621481735,
          -0.5976960470869473,
          -1.3610749363088792,
          -1.230515278548126,
          -1.7118199929435403,
          -1.9976319260477735,
          -1.5118771426311768,
          -1.3739313663824062,
          -1.6285176087769546,
          -1.382447444355356,
          -1.7406127613301585,
          -0.8123604520614642,
          -1.667279709906478,
          3.128149441930428,
          -1.7147090838973096,
          -2.2148111809316773,
          -1.3737801714940476,
          -1.6797176001235912,
          0.6133710032344988,
          -0.7980661921809755,
          2.1014560008636036,
          2.156369634493529,
          0.4206595895996293,
          0.6737118546592874,
          2.186464462761744,
          -2.477861728318685,
          -1.7175981748510791,
          -1.2481481124463896,
          -0.7771659246834901,
          -0.13583744246252577,
          -1.8124569228327423,
          -0.6283020913462946,
          -1.4602276682205344,
          1.468708498871079,
          -1.4761553273437813,
          0.09417613196521464,
          -0.4710572986138201,
          -2.4375125961169886,
          -0.33899370376923055,
          -0.8074119478400635,
          -2.101059805739669,
          -1.0044966504062494,
          -1.3532611643615342,
          0.15429666284607335,
          0.5421504188157318,
          -1.260382959059247,
          -1.8240132866478203,
          -1.3680019895865088,
          2.5988372416744125,
          -1.3135905149576177,
          -0.6594727346955501,
          0.19834969239837424,
          1.875407332470673,
          -1.9361084392010242,
          1.071618037360187,
          -0.8749137636189228,
          0.7577908627747286,
          -0.9024218907100854,
          -0.33583014786763943,
          1.2796718571289327,
          0.48723678518580654,
          -0.49241572836515546,
          -0.9726616025543556,
          -1.9889646531864653,
          0.9894135788043327,
          -0.7197123122357906,
          1.0177319986640367,
          0.8010290859301943,
          -0.30470772466564944,
          0.5354958368627766,
          -1.9406827023780424,
          -1.3120565376227273,
          -1.805376681043607,
          3.985401487324285,
          -1.8066787409252034,
          -0.5569763024095006,
          1.9823996531806458,
          1.4367563979829507,
          -1.8441387821731303,
          0.3420045248991124,
          1.410905774287384,
          -1.148189665354967,
          -0.24036524138829998,
          -0.8837322313685897,
          -0.2776210340105857,
          0.5857071036662034,
          -1.8066787409252034,
          -1.8643624188495163,
          -0.49826303592826565,
          0.9620068672441852,
          -1.8082657719973763,
          -1.6944854472209234,
          -1.980297380325157,
          -1.3265019923915744,
          -0.8060568342211846,
          -1.0208515285757545,
          -1.7765839126569885,
          -0.40287700003718113,
          -1.9031245199790396,
          -2.0452124949269637,
          -1.803789649971434,
          -1.9357570972880946,
          -0.18331987019063994,
          0.07182395636562595,
          3.7183619297496295,
          -0.9107867737946768,
          1.2812990642722324,
          -0.4741784486673502,
          1.5305393308835735,
          -1.3667980708559881,
          -1.0971927176125862,
          1.4011558591318711,
          -0.711723522172262,
          2.1679259983086068,
          0.16057631581206094,
          0.8282348232446398,
          0.7131524385865904,
          -1.611183063054338,
          0.5989255484656515,
          0.6968245822894429,
          -1.101212671007826,
          -0.8864701274340007,
          2.1279832553802693,
          -0.41413097407554184,
          -1.099202209876407,
          -0.72106927783135,
          1.1178643981288037,
          0.6939354913356734,
          0.5169252241806626,
          -1.188839982311995,
          -0.3552964311579909,
          -1.0742621280783806,
          -1.3652640935210978,
          1.0062774988568162,
          -1.1753954026694127,
          1.0573237774796982,
          0.1857233278014606,
          0.5076807424061227,
          -1.3711471021464101,
          -0.17894857488247093,
          0.1848147795270676,
          2.0086566661495713,
          -0.5144696157890972,
          0.9451304837754183,
          -0.45867125711260404,
          0.2758357122094415,
          3.3802529826445658,
          -1.637184881638263,
          -1.4586695867328061,
          -1.1830618004044562,
          2.7234163409452927,
          1.4327914919481406,
          1.4443478557632183,
          -0.27405346025903654,
          1.033126177778404,
          1.8716885638307652,
          -1.388225626262895,
          -1.4775622139431512,
          1.1460510080177462,
          0.9673786598783648,
          -0.006529923579558966,
          1.0116004812204211,
          1.0028801546218304,
          0.6088948812085565,
          -2.578498658207887,
          -1.3351692652528828,
          -1.069107381608192,
          -1.3739313663824062,
          -1.2229759715486028,
          -2.1960697486096907,
          1.8795261590059356,
          -0.35225614531586297,
          2.773886000778252,
          -0.4838175811594185,
          -1.2526242344723317,
          -0.3085455399649389,
          1.7837910109788557,
          1.5626468500601416,
          0.2367202755438414,
          0.22516391172876365,
          -1.6730578918140169,
          -1.4401311222796689,
          0.06699449880360712,
          -0.4073000683258409,
          1.1652937721196355,
          -0.5802633602132545,
          0.3617260025744645,
          1.7606782833487,
          1.6707680395884372,
          -0.40561489610259205,
          -1.0316781300798004,
          -1.6846142556290946,
          0.033436096280484925,
          0.13847027760737465,
          -0.4787967526379141,
          0.4369183202412054,
          0.371524137877243,
          -0.018086287394636708,
          0.030172764282333214,
          -1.332128979410755,
          -1.5234335064462545,
          1.7121640372867295,
          0.48185593556152845,
          -2.348432030042864,
          -1.803789649971434,
          0.2985951043035203,
          -2.6016113858380425,
          -0.5428033189653279,
          1.1077612890836812,
          -2.0722670373530505,
          0.12503151226399659,
          0.49590405804711485,
          -1.5278806788877524,
          1.4048284012476606,
          -0.3321837035278354,
          0.5307934700362784,
          -1.026531569332217,
          -1.699059710397942,
          -0.4351360682908006,
          -1.6342957906844935,
          -0.6904471616537138,
          -0.6179956366320689,
          -0.8182898288573617,
          0.44942340840180334,
          -1.861473327895747,
          -1.5724209619248144,
          -0.9497000698125586,
          -1.0684839461708417,
          -0.4623900257525118,
          0.9764523220130324,
          1.4417772265044548,
          1.417866969417138,
          -1.0856363537975082,
          -2.0047652215741913,
          -1.8140439539049151,
          -1.8211241956940507,
          1.9467818373898924,
          0.5220249232904218,
          -2.4791637882002813,
          -0.66831410157667,
          -1.917569974747887,
          -1.5550864162021978,
          -0.8322858005622034,
          -1.1957702342341572,
          -1.5762897204316955,
          -0.30703737948102094,
          -0.3014103924618406,
          2.1117245247386935,
          -0.8591662489684789,
          -0.3408509763891437,
          -1.0903347899905276,
          -1.7464890843887735,
          -1.7881402764720662,
          -0.8218574026089108,
          0.9346499350413812,
          -1.6788360737215557,
          1.017676951303607,
          -2.1573076474801676,
          -1.7621384578881412,
          -2.20747491753641,
          -0.28764342049077307,
          -1.0838781252852092,
          -1.6381645491913743,
          -0.44133671138998737,
          3.510782600154265
         ],
         "y": [
          1.0192842479638438,
          -0.44202843876978354,
          -0.6697550816011355,
          -1.3641391119580422,
          1.6592434238242935,
          1.373788012418933,
          0.8049608765002859,
          -1.6075508707543005,
          -0.4350691654533905,
          -1.4776146994027095,
          -0.34197645612148764,
          -1.2886967841911456,
          -1.2045580325457326,
          1.050309544283295,
          -1.3813067772055625,
          -0.22085524938560286,
          -1.005125858470317,
          -1.8971072382961287,
          -2.3638336915535616,
          -0.184332285695929,
          -1.1860451925152586,
          0.7176068353459878,
          -1.3007400007287837,
          0.05158615340418677,
          -1.106630565353256,
          0.38606431338514147,
          0.5839766853761543,
          0.4236886012668896,
          0.2778183322196137,
          1.7396476977585047,
          -1.1407703252104047,
          0.03426216135346256,
          -0.2854050414950158,
          2.5114015323361225,
          -2.0472947876905185,
          0.5425669612785733,
          -1.2583467921478988,
          0.9166793943134611,
          -0.4865460861628466,
          0.9038910826229135,
          0.015080179335688337,
          -1.1074338566443975,
          -0.0762449102257146,
          1.8267876367262526,
          0.2799742650640055,
          0.6532038639434725,
          -0.39336258587950806,
          -0.7344404040689138,
          0.8203585097032674,
          -0.002574212682873542,
          1.370806534140396,
          -0.045779721252679054,
          1.8363361017563955,
          1.9931389911949062,
          0.047064006348444896,
          -1.7367228675926778,
          -1.104841945508025,
          -0.3750335562308957,
          1.2902147303807576,
          -0.6358410186690098,
          0.48685250947481923,
          2.0637149342438486,
          -0.37881832580057406,
          1.229416538985651,
          -1.5948512602760596,
          -0.8833158708920807,
          0.8195552184121261,
          -0.5248275112749927,
          -1.3840545943902531,
          0.976682332079111,
          -0.1785529083997948,
          -0.23614342719281475,
          -0.3227272692677024,
          -0.026150052598149745,
          -1.3275739707152172,
          1.0828512566183723,
          0.32050115500616566,
          1.0474789738088528,
          -0.26216823460919236,
          -0.13753267480073686,
          1.7071059854234274,
          0.13476183063851352,
          2.289712330792832,
          -0.15162807081828444,
          -0.3520233193047861,
          -0.15541284038796294,
          1.5499462002995976,
          -1.1552964182435315,
          -1.0635750149092131,
          -0.5840468667932993,
          0.7834258490727453,
          0.7503280398448078,
          -0.1354472761228456,
          -0.4242951705330968,
          -0.445215904929545,
          -1.1699314692739013,
          0.2859913306621144,
          0.033802803334593574,
          -0.012201553931141376,
          0.7668684496481887,
          -0.6668459392985087,
          -1.7868007355990672,
          -0.6358410186690098,
          0.2744140444506793,
          2.120153801120619,
          0.801159117309432,
          0.4036768322404924,
          -0.5144430834968634,
          0.5837706974949298,
          1.4482751700544994,
          3.338816607443536,
          1.3093850410164183,
          1.930305482954814,
          -1.5875445973706535,
          -1.260808872198549,
          0.3788075179462924,
          -0.5913957072518568,
          0.29732841553748857,
          1.3186092818180868,
          0.8544114890625361,
          0.43095856550732214,
          -0.8062327916665866,
          -0.5205990655221151,
          -0.7077362651682028,
          -0.6907521791816226,
          -0.01139826263999999,
          -0.5906465250017503,
          0.7503280398448078,
          -2.3771995976102285,
          0.6474244866473383,
          -0.7147282099414412,
          2.0015141004470047,
          -0.9045765281072459,
          -0.19250140706680333,
          0.5785739128091376,
          0.13173027052707006,
          -1.8569871115058447,
          -1.6367506341971976,
          -0.8260188637679612,
          1.4989091349537487,
          -0.4743730385394859,
          0.9659410086156625,
          -1.6087997589430678,
          -0.6973348477688981,
          -1.5595381446408672,
          0.5239410761536595,
          -1.3697492000379254,
          -1.964119110456192,
          1.822387603089387,
          -0.9386700832031143,
          0.11274007643993116,
          -1.6306001478146965,
          -0.1460111960647177,
          -1.5219131901129646,
          -1.0178380133653626,
          -0.12283845659604069,
          1.2213811461637323,
          -0.40115510252126474,
          -0.23917111023263163,
          -1.2237203055197086,
          -0.10950522199621941,
          0.357007129074664,
          -1.6832699269574583,
          0.7518975030072311,
          1.2401578624490999,
          0.11407975558013471,
          1.6517477626588382,
          0.8316650154009969,
          2.5106648214962135,
          -0.19093194390437992,
          -0.4979223827372807,
          1.1247967019188607,
          0.5899807885612164,
          2.5435870156320344,
          -1.0344219085074007,
          1.6093665454549049,
          0.020340158403935764,
          -0.07281975576397813,
          0.5155527980999773,
          0.5700281867091459,
          -1.6152525964446214,
          -0.9777482593641872,
          -1.8470293702897393,
          0.5877614549458325,
          0.14020130187050373,
          1.6652604894224023,
          0.9996755793840452,
          -0.4310614183813122,
          -0.09674958176251679,
          -1.500378162685424,
          -1.0995819664397772,
          0.8303754180936997,
          -0.3982062956995728,
          0.5370867809280536,
          -1.9529184289738741,
          -0.02802946339481673,
          0.1266885751069396,
          2.2194932834292094,
          0.6687218257729044,
          0.5390028903896943,
          4.379200712905713,
          0.05479332860774643,
          0.380959573719058,
          1.0584786656541694,
          1.6639269725711034,
          1.277186388918922,
          0.006351995217862269,
          -0.7011366069597519,
          0.20460427327301894,
          2.426813839985682,
          0.3944525914388237,
          1.1213082968226347,
          0.9584453474502074,
          0.3610109990751158,
          0.7401643107474779,
          -0.8823995345064998,
          -2.606384460318974,
          1.1595740963511454,
          0.004338855872239672,
          0.3504205834157621,
          0.8065659170845771,
          -0.1577840528435361,
          0.6967452681238662,
          0.3219972375932145,
          -1.0239222837994828,
          1.0899900220985077,
          1.0676793203404134,
          0.5446191407584825,
          -0.349808012897531,
          2.831931193650069,
          -1.4387375128786377,
          1.6800292690017276,
          -0.03832310022151032,
          -1.6050480815851205,
          0.8335037170791345,
          1.3442909727448484,
          -0.6879501930668283,
          -1.4010386803768335,
          -1.1552964182435315,
          1.1025394680624496,
          1.0602937812168822,
          -1.0448990479513929,
          0.1878252041315683,
          0.27499163881679795,
          1.4998683322932083,
          0.11274007643993116,
          1.317165642924864,
          -0.9743822720767775,
          1.7436119594919257,
          -0.8680705540387476,
          2.2566145215648943,
          -0.884234359113011,
          -0.9749557793456992,
          0.17505757252091356,
          0.27383145184033736,
          1.3794481823317228,
          1.5268061322877655,
          0.5233584835433175,
          1.4436304550534387,
          0.3386280175931455,
          0.7989938927350834,
          1.7252634271880518,
          1.6377992639918297,
          1.6592434238242935,
          -0.7055039691397722,
          1.607996287137057,
          1.1662064260164418,
          -1.7646699467596008,
          1.9426845184593995,
          -1.1375631500068448,
          -0.9835738414216012,
          -1.2361190500680923,
          -0.8013890818465219,
          -0.9459862522048267,
          0.9996755793840452,
          3.4046593406676475,
          -1.210781086025066,
          -0.620552840861798,
          -0.4384773302939514,
          -0.013613569047255136,
          -0.4504167168234657,
          -0.29027142621297025,
          -0.8749836225938606,
          1.512857633620757,
          0.047801383834508264,
          0.13476183063851352,
          -0.03141390873802367,
          0.8195552184121261,
          -0.03832310022151032,
          -1.8470293702897393,
          0.9027308956464529,
          -0.8624339702413825,
          1.1956728865128816,
          0.8346639040555951,
          0.6443888993277666,
          0.5700281867091459,
          -0.6040124310584167,
          -0.5976187607311902,
          0.9584453474502074,
          -0.6590137581376867,
          -0.8686400340995404,
          -1.867371539283974,
          -1.617844507580994,
          -0.4286163279518373,
          0.5512554808773343,
          -0.8144245879353507,
          -0.2349927463126603,
          -0.22407046225084673,
          2.543041121686666,
          0.5268898829753514,
          -0.4073110845465164,
          0.06081039420585536,
          -1.6710506745728182,
          -0.6917349626365066,
          -1.0383861702408221,
          0.10213649197899387,
          -0.6422938561705629,
          1.9887389575580405,
          -1.9802829155304553,
          2.1764835169915604,
          -1.181623952415125,
          -0.8680705540387476,
          0.9580852413394155,
          0.6408513241563691,
          0.9906308307461195,
          1.306831296979641,
          -1.2813570290740084,
          0.8073821707887655,
          -1.5115788441677416,
          2.164750324731807,
          0.6532038639434725,
          0.7029012501491179,
          -1.1184138394459158,
          1.406509216917753,
          -0.9041999233781283,
          -1.0917097005452048,
          1.9827218919599314,
          -1.5943278348400445,
          1.9329143837123621,
          -1.3679408711488963,
          0.10027017334026901,
          -1.0234548881189294,
          -0.8802436016621079,
          -0.092408715299978,
          -0.6524575852678929,
          1.648639839363356,
          0.11702856240182667,
          -1.9287468276466726,
          1.2761444382897111,
          1.596033310855084,
          0.2746438284728992,
          -1.6418008292970143,
          -0.5344086477619808,
          -1.8308655652154757,
          0.3160799149060324,
          -2.117714824691143,
          1.9526095882186598,
          -1.236902632315435,
          3.3432378475436693,
          0.6332382996783552,
          -1.4271602266672025,
          1.596033310855084,
          -2.1574449635843767,
          0.10347617111919745,
          -0.2523072322670783,
          0.4766561089206442,
          -1.4048234499465118,
          0.7968182508468933,
          0.32032166284242286,
          -1.1749651270323473,
          -1.3039145044754985,
          -0.3337033749975942,
          0.3577406294891009,
          1.305143426461957,
          0.15414980053751215,
          0.6804855972103023,
          -1.528215992845114,
          -1.3216477727121851,
          1.512857633620757,
          -1.4175790901802148,
          0.9031666675498972,
          -1.0970494288662684,
          0.7503280398448078,
          1.6638168505291795,
          0.23732547777183893,
          2.7791655486680065,
          -1.6671061218831948,
          -0.641280489901,
          -2.0006250845246902,
          -1.167469465866892,
          -1.586535318198288,
          -1.8971072382961287,
          0.9310044977095872,
          -0.32197018273784084,
          -0.8850506128171991,
          0.87999392808122,
          0.32050115500616566,
          -0.21862295335717233,
          0.3382344232428524,
          1.1865485950106764,
          -0.7055039691397722,
          2.308338215917746,
          2.303284224730723,
          -0.17880897811392565,
          -0.33705237266382826,
          2.4195577111929873,
          -0.22263070042925054,
          -0.20172564786847205,
          -1.7869937610672444,
          -0.3283638530650674,
          -0.17873240056353776,
          -0.11875595851536967,
          0.8491481239255113,
          1.2964114215245388,
          -1.2586436476242002,
          0.7036583366789794,
          -0.37280126020246523,
          -1.8334574763518483,
          1.7448273031891575,
          0.357007129074664,
          -0.5135674562298119,
          1.2168750009384985,
          -1.092871064946297,
          -0.982492226273325,
          -0.6979621032130373,
          -0.6045950236687587,
          0.36441916391567675,
          -1.0089106280399955,
          -0.04145139920694517,
          0.8442647495863814,
          -0.9480717275263595,
          1.663045183015147,
          -1.5474244705803697,
          0.43095856550732214,
          -1.8991215550663822,
          -0.5774472085848485,
          -0.4550347297185079,
          -0.8004760892683422,
          0.9029606796686727,
          -1.370106095723245,
          1.0276725260175257,
          -1.2245235968108499,
          0.8892181688828886,
          3.2073833824688016,
          -0.8718553236084258,
          0.581572801463736,
          -2.6039223802683233,
          -0.18818412671968932,
          0.1266885751069396,
          -1.890167674023534,
          0.21493861921824192,
          1.2306093974189567,
          0.42079983465421533,
          -0.009609642794768725,
          0.8111669403584439,
          0.29552238531619607,
          -0.8718553236084258,
          0.7089183157472267,
          -1.317863003142507,
          1.7378325821957916,
          0.9723938461172156,
          -0.3449042628684484,
          0.18143153380434188,
          -0.8086452106392165,
          1.16999119558612,
          2.0218694382428235,
          0.14020130187050373,
          -0.5359781109244042,
          -0.053611278028722356,
          0.512941384308343,
          -0.9550310008427524,
          0.7776097731116374,
          0.9362644767778348,
          -0.9973333418285605,
          1.4848566765337208,
          -1.4503002946790347,
          0.5066752802411673,
          0.7766546029803063,
          -0.9720280492423797,
          0.010355921470348667,
          1.0708577011587543,
          1.0458462600119396,
          -0.2373956591889839,
          -2.2298099472334356,
          0.9428550496448651,
          0.2947562134449142,
          -0.1490191700607364,
          1.0138035702147965,
          -1.5847466983530567,
          -0.987375600612455,
          -0.14207960578814166,
          -0.2718923147314516,
          0.09827556561381319,
          -0.8941921003291163,
          -1.7412370504795958,
          0.6017099536128411,
          -0.7590069916078979,
          -0.9041999233781283,
          -1.1823810389449867,
          0.08117905891757198,
          -0.3684338980224448,
          -0.6386715891434518,
          -1.5711748044151652,
          0.3022703326661667,
          0.13537709470570053,
          -0.6275420662124132,
          -1.1276054087907392,
          1.271499723288651,
          3.4956407033453143,
          3.909303783109693,
          0.12706517983605714,
          -1.7606791893086982,
          0.26897457321868895,
          -1.1544931269523904,
          -1.490370339636412,
          0.9842568694626911,
          0.15885305832812066,
          1.7623846653237374,
          -1.1815647852407987,
          -0.08517229555108159,
          -1.1479435505768458,
          -1.9148574961539908,
          -2.247560205091298,
          0.13841268202527252,
          -0.618924004136511,
          -0.07465845744211572,
          -1.251227735711561,
          2.802338288136683,
          -0.9442699683355057,
          0.3251152908295813,
          -1.5873555991106045,
          -1.7977677559875385,
          -1.2855222804444308,
          -0.07320023756472215,
          0.020340158403935764,
          -0.5591181789362363,
          -0.7291804250006663,
          -1.3216477727121851,
          -0.03216711819625877,
          -0.859279175538466,
          0.6108514411247584,
          -0.7970679244277812,
          -1.0635750149092131,
          -1.7337413893141407,
          1.7088018936027958,
          0.7341472451493688,
          -0.6929674855888777,
          -0.320960903565475,
          -1.287357105050942,
          -0.9546543961136351,
          0.9166793943134611,
          0.16319454917543805,
          -0.5789928756062764,
          1.128728292195437,
          -0.24600442953492888,
          -0.9154973437344373,
          0.028639110860532342,
          -0.02756206771426351,
          -0.2848816160590005,
          -0.798260782861087,
          4.99331820833092,
          1.2493821032507684,
          1.0189873924875417,
          0.2708499735618002,
          -0.9908805043270071,
          -1.3778986123650017,
          1.0752250633387748,
          -1.2546528901732974,
          -1.676687258370183,
          -0.9877522053415727,
          -1.1955132839078069,
          -1.1973519855859442,
          1.617707254709767,
          0.9906308307461195,
          -0.9550310008427524,
          -1.1902329291496068,
          0.6857455762785497,
          -1.9140412424498026,
          0.989310860649714,
          -0.927749267575923,
          -0.650682134224245,
          -1.1975987592293396,
          2.3725114032980414,
          -2.10087755941146,
          -1.033839315897059,
          0.606094305414037,
          2.1054808873805944,
          1.6652604894224023,
          2.5005681638529653,
          1.6792089880894108,
          1.3696463471639355,
          -0.5075035192242686,
          -0.5852397252266052,
          -1.458612209548678,
          0.6257426385129,
          1.7763331639907458,
          -1.867371539283974,
          -0.8050229436121054,
          -0.47215773213223083,
          1.3219541960241579,
          0.5546767582674442,
          0.622634715217418,
          0.7381549922214471,
          -0.6515180969722316,
          1.1387452005858691,
          -0.45597693743679196,
          -1.8578033652100332,
          -0.7591538123147956,
          -0.8810795644100945,
          -0.9373304040629108,
          0.36226710814291135,
          1.2772791005847852,
          1.5080007549991088,
          1.0630651845169976,
          0.21793750787284022,
          -0.7904682662193303,
          -0.6113612715169743,
          2.407178675688402,
          0.740600082650922,
          -0.7843122841940786,
          0.11479626637339611,
          1.1522579273494333,
          0.4729040108078107,
          0.08751453310656641,
          0.988058628653545,
          1.083030748782115,
          0.058701332768897906,
          -0.09674958176251679,
          -0.2756770843011302,
          -0.8720348157721688,
          -0.43766107658976316,
          -0.6411336691941022,
          0.12081333197150508,
          -1.9894244030423724,
          0.176020723575641
         ],
         "z": [
          -1.3234086152564135,
          0.9497192421735495,
          -0.8677946867323312,
          0.254830346694235,
          1.0878089915926,
          -0.46724608587113453,
          0.29762769772850933,
          -0.2782760967197344,
          0.8731706220513772,
          0.8369401888237296,
          -0.0839194475657631,
          -1.1117126414356522,
          0.9612845890783603,
          0.876164868097034,
          0.7813188988352022,
          0.9009531273106637,
          0.9060187404399282,
          0.3770428756207533,
          0.9042939910048398,
          0.5771040678638071,
          -0.3477793545766587,
          0.9258757545864542,
          1.0450940374673157,
          -0.6321063848918568,
          0.7785238334129945,
          -0.5273871907169579,
          1.0011548780980581,
          -1.0841987514727118,
          -1.006538194436233,
          -2.15598056804387,
          -0.6586865775716554,
          0.6445250540759976,
          -1.0784268545702824,
          -0.8738458474699327,
          0.6282407116904415,
          -0.989144840941305,
          -1.468916752638509,
          0.9514439916086381,
          0.7118938993527508,
          -0.6518139878805789,
          -0.468970835306223,
          1.0491410151523899,
          0.8695979502904074,
          0.9648836688886079,
          0.9808168782408523,
          0.8884430087793186,
          0.7317400089381507,
          0.6227353492248083,
          0.592970383795213,
          -0.8127863790468526,
          -0.5243040377580022,
          0.02950521553045048,
          -0.3786768660196312,
          0.9400282256438979,
          -1.0191154969986584,
          0.8128799362654834,
          0.9336516647591443,
          0.8716626375874394,
          0.013080115906399892,
          -0.9154408859247192,
          0.9132984520240287,
          1.0108160232070333,
          1.0852218674399672,
          1.0496634520079906,
          -1.044933126435338,
          -0.2818337253850612,
          0.8635875655346085,
          0.7205993682740656,
          0.6152387028872903,
          -0.45496794518885003,
          1.012720225002869,
          -1.0432083770002496,
          -1.0587690210472058,
          0.8875806340617743,
          -1.356204883319769,
          -2.420262640043433,
          0.9381538952687387,
          -0.9072972894887107,
          0.6401226350408281,
          -0.772241425238451,
          1.1404469400965966,
          -0.6445341065142117,
          0.8119052932182723,
          0.788241257991924,
          -1.2419178455060114,
          1.0018004878444515,
          1.0540984984865047,
          0.9965030666483933,
          0.40719574006152176,
          0.8655850688005603,
          0.7851755195984031,
          0.9762994348533481,
          0.853870140955679,
          0.8364441600174065,
          0.3986137346412418,
          -0.3339149710559634,
          0.7326023836556951,
          -0.7313093120399963,
          0.987864781758159,
          0.9610942321564871,
          0.6364651949010762,
          0.6341837426328933,
          -0.9154408859247192,
          1.039946027429061,
          -0.7051538256009231,
          0.67190043744226,
          0.9257261736463838,
          0.5113256039599815,
          0.5071073224526182,
          -2.419549846265959,
          0.5013601692062277,
          -0.50467883167827,
          0.5629780048556411,
          0.3382517262897505,
          0.7492333436897702,
          -1.0797787480898409,
          0.7695863866426192,
          -0.4558303199063943,
          0.7890212358004782,
          0.9876072408052055,
          -0.5311094434179982,
          -2.4152642109452485,
          0.3172570423427584,
          0.9213735240768597,
          0.7163852253012193,
          0.7172476000187635,
          0.8612996032621165,
          0.9762994348533481,
          1.0565098034320561,
          0.45282685164025643,
          -0.4069818081345183,
          1.0987437718466604,
          0.8611500223220462,
          0.9124360773064843,
          0.3239911254371572,
          -0.9140700677053621,
          0.735943247349871,
          -2.1109414901045804,
          1.0795173243508849,
          0.8644499402521527,
          0.6577479663848165,
          0.9866624691786711,
          -1.1452172741317226,
          0.5513862499015527,
          -1.1099987965616898,
          1.002662862561996,
          -0.5168337994697618,
          0.6158129900680865,
          -0.4789610137160159,
          -2.4380549668929263,
          -1.0272903805259146,
          0.7095798196412232,
          -2.2837072831375975,
          1.0938601523302014,
          -2.305852429338882,
          -0.8897230679624648,
          -0.2764691201579224,
          0.8255244228589891,
          0.7617282493432058,
          0.8385977542277377,
          -2.4468428327232314,
          0.7750183456831051,
          0.646372976401879,
          0.6366819598722271,
          -0.3919669623595305,
          0.8165869760886139,
          -0.9501369266391514,
          0.5962658725805607,
          1.2862563202183828,
          0.5728186023253633,
          -0.4946886532684774,
          -1.0761388922977904,
          0.3388454857109485,
          -0.17724619590931762,
          0.7228699159811225,
          -0.6048133984345843,
          -2.308562726382308,
          0.7368728060984957,
          0.8432495656774026,
          0.9008707304016736,
          0.7924444964036443,
          -1.1686210123824494,
          0.5557390692533433,
          0.7875956482455305,
          0.8627251908170642,
          0.8395944970074426,
          -2.4078349184210777,
          0.9929454379830666,
          -2.2484888055675647,
          0.6063123304603077,
          -0.9059402263169405,
          -1.0351334747296852,
          -0.5223215775876935,
          -3.2608623081708386,
          0.5500169418165595,
          -0.2444833764869157,
          -0.9270062328295299,
          -0.4912391543983003,
          0.6491096814945821,
          -1.298702752951774,
          1.1766882778853702,
          0.9098081771720489,
          -1.166896262947361,
          0.5408328586543566,
          -0.8700650980880212,
          -1.201976233920716,
          0.44325900800139745,
          0.9256589896153034,
          0.9001579366241999,
          -1.2580935527155663,
          -0.3679738938323646,
          -1.1565895080919921,
          -1.0512834490530805,
          -1.1796794259198111,
          0.6624560573044358,
          -1.2351946669727387,
          0.7043150258885096,
          -0.4950285911304209,
          0.972659579061298,
          -1.4644532172511673,
          0.7742557824399859,
          0.5941726963747009,
          -0.9598543512180807,
          -1.5708257019441902,
          0.030707528109938365,
          0.8500399282417557,
          -1.2307487159330988,
          -0.39282084526871236,
          -1.1158596003774182,
          -0.8694108009914185,
          1.0814324307078464,
          0.5085479531032089,
          0.9417265670297086,
          -1.731968023149756,
          0.9638717132309931,
          0.8635312860646541,
          -2.5734080112192737,
          0.8202270016629307,
          0.9965030666483933,
          0.967743546872104,
          -2.1568429427614144,
          -1.3721339541374966,
          -0.9835883686579295,
          -0.7155277644873722,
          0.8754023048539148,
          -1.0272903805259146,
          -2.0324900506984216,
          0.14655352385400947,
          0.9773113905109629,
          0.6980144727364124,
          1.003029208473217,
          0.4716720799114344,
          -1.7663241260022446,
          0.9867448660876612,
          0.7874460673054602,
          0.5168960695971451,
          1.065018235644922,
          0.750162902438395,
          1.077445957267277,
          0.4226177077295336,
          0.7583202016179494,
          -0.5668174397900454,
          -1.050421074335536,
          1.0878089915926,
          0.8867182593442301,
          -1.256962562701676,
          0.914160826741573,
          0.39983363156843127,
          1.0028796275331466,
          0.8832279844922503,
          0.25775740870881136,
          -0.592112922981366,
          -1.1612026244194045,
          -1.1291496967173174,
          -2.4078349184210777,
          1.2858316139776569,
          0.7154515280180777,
          1.0287206183861939,
          0.845182256382066,
          0.5911893548901702,
          0.7903059452889561,
          0.3589039311227403,
          -1.0874314853717382,
          0.9647340879485374,
          -0.418547155039329,
          -0.6445341065142117,
          0.6526999376032536,
          0.8635875655346085,
          0.9417265670297086,
          0.5557390692533433,
          0.8511598439122534,
          -1.3831250138615114,
          0.7751116471532211,
          -0.5391021185618392,
          0.7580992981122816,
          0.9008707304016736,
          1.013515415689333,
          0.5237533255823366,
          -1.0512834490530805,
          -2.309425101099852,
          -1.7896715847830171,
          0.9452170116639551,
          0.9079338467968899,
          -1.0644911484839898,
          0.9507311978311643,
          0.6114601707162958,
          0.145907914107616,
          -0.0005156523179492659,
          0.4003493886374564,
          -0.3451831378846866,
          0.6314558612417661,
          0.6615936825868916,
          -1.2697675347963784,
          -2.3598487813667464,
          -2.4104220425737104,
          -1.3127619225391014,
          1.0222208846106475,
          -0.5038164569607257,
          0.38947059724310834,
          -0.9501932061091057,
          0.4563172962745029,
          0.6980144727364124,
          0.8672711231133962,
          -2.404262246660108,
          -0.3546837974924653,
          -1.6107382770800547,
          0.644663730454942,
          0.9177334985025428,
          0.6721083787118349,
          -0.9244191086768971,
          0.8884430087793186,
          -0.7657857896008579,
          0.5918199215409207,
          -0.4168224056042405,
          0.619602426800207,
          0.890458096392972,
          -0.25560196237556854,
          0.6554665141166336,
          0.2867751446011723,
          0.6291030864079858,
          1.1585858845946095,
          0.7660961117906395,
          0.7521604057043467,
          0.6432555574654294,
          0.7083775070617353,
          0.8023374495794132,
          -0.5312590243580686,
          -0.8971523604866356,
          -2.830310560160311,
          0.9523063663261824,
          -1.1435488041665884,
          0.7753758678927504,
          0.6592559508487543,
          0.7820814620783213,
          0.13405724441757716,
          0.8390224604684633,
          -0.5822285028969312,
          0.6693133132896273,
          1.3054568200573893,
          1.0363733556680912,
          0.7740887869344804,
          0.9523063663261824,
          -0.3790430421485857,
          0.531115434075427,
          -1.2695507698252275,
          -0.805448877858434,
          1.0337862315154585,
          -2.219843925590734,
          -2.408697293138622,
          -0.9872969186154236,
          0.9080834277369604,
          0.5583824728759305,
          -0.6988858998921708,
          -0.10203425642879382,
          0.9630093385134488,
          -0.5683926082850634,
          -1.042155645360832,
          1.0213585098931033,
          0.9647340879485374,
          0.8354322043597918,
          -0.838287432037956,
          0.8398672508383059,
          0.9762994348533481,
          -1.9819167894914569,
          0.9505816168910938,
          -0.3148135084727673,
          0.872715369226857,
          -2.422700183255995,
          0.7789485396537202,
          1.0506489996163275,
          0.5616821001957951,
          0.3770428756207533,
          0.8101805437831837,
          0.5326083754437217,
          0.3281943638488774,
          -2.232271647213089,
          0.9381538952687387,
          0.8662978625780341,
          0.8248788131125957,
          0.5246828843309612,
          0.8867182593442301,
          -1.179902410285029,
          1.1537370364364958,
          0.3061946600531463,
          -0.9175055732217512,
          0.9501853995591958,
          0.7465230466463447,
          -0.3812639901722639,
          0.5542310847894056,
          1.0223704655507182,
          -2.3341309634044918,
          -0.8877392674400589,
          -1.0849939421591757,
          0.9716068474218806,
          0.662813579514081,
          0.8255916068900696,
          0.8370073728548099,
          0.8975708124715671,
          -1.9079247469381226,
          0.7750183456831051,
          -1.2064935075259537,
          -2.897802868938099,
          0.2240469156027161,
          -0.9660141471316835,
          1.0626695993456587,
          0.7610154555657319,
          -1.1516910602505,
          1.1195779702924558,
          -1.0572786209309697,
          0.51305035339507,
          0.8474528040891228,
          0.7135362518788493,
          0.6971520980188681,
          -0.5311094434179982,
          -1.2629415659024343,
          0.869870534339004,
          1.0211009689401498,
          0.7117443184126804,
          -1.332334987683396,
          0.715522850583675,
          -1.1639953183718201,
          1.1092149359671328,
          -0.9385715797343405,
          -0.687658678827517,
          0.9115737025889401,
          -0.8113768657052428,
          -1.5138350704397698,
          0.7388987982732752,
          -0.9270062328295299,
          -0.6903147990330167,
          0.47840616300583305,
          0.9515935725487086,
          1.1630209310731237,
          0.8723754313649134,
          0.7041742686500151,
          0.5814677917767238,
          0.9115737025889401,
          -1.0140002841860152,
          0.8077992800405757,
          0.5416952333719008,
          -0.9509993013566956,
          1.0375756682475792,
          -0.49382627855093314,
          1.0470763278553576,
          0.7006015968890452,
          0.7099635801178794,
          0.8627251908170642,
          0.9988734258298754,
          -1.0024349372812045,
          -0.44546728558107135,
          0.9240014242112952,
          -0.48053618221103384,
          -1.029411347292901,
          0.8122343265190898,
          -0.21346813732860292,
          0.7850085240928978,
          -1.75138753860173,
          -1.0662969544759713,
          0.7148948251849832,
          0.7244450844761406,
          0.9807344813318623,
          -0.7808555744937029,
          0.9161583300075248,
          0.42675376211017346,
          0.6352518079781957,
          0.6504680850184494,
          0.5120383977374553,
          1.0393004176826677,
          0.7168099315419451,
          0.6320301484225621,
          -0.5553192769163149,
          0.7113045690763117,
          0.5094104976030198,
          0.6518762580079621,
          -1.1680080300794007,
          0.8878797959419151,
          0.8407472099035518,
          0.619602426800207,
          -1.1350601002164247,
          -2.5806878925856407,
          0.8759481031258832,
          -2.6989030435104637,
          1.0586416747601686,
          0.47605615292357273,
          1.0128698059429393,
          0.851887850567637,
          0.7030238063957226,
          0.6666852433729252,
          1.1803172291162944,
          0.9921203758759259,
          -1.168553828351369,
          0.6803219573613437,
          -0.46731326990221494,
          0.725885884908998,
          0.6385861616680628,
          1.125887347146129,
          -0.00405569663557449,
          0.9274509230814723,
          -0.9915823841538672,
          -2.555832449340931,
          0.517693341143159,
          0.6510314676381195,
          0.7007423541275396,
          0.7075973594709145,
          -1.1721936841434193,
          0.3692669654480632,
          0.8105767611150817,
          1.0791707067023655,
          0.4731800643753721,
          -1.3671137159170605,
          0.9930127917964137,
          0.5909575468233764,
          -0.9747020317052967,
          -1.096052185914271,
          -2.308562726382308,
          1.0097931629882926,
          -1.2168565418512765,
          1.0213585098931033,
          1.1357951286469317,
          -2.236923458662754,
          0.5641979017828305,
          0.7397326840819917,
          0.40719574006152176,
          0.8699378881523508,
          -1.0087028629899568,
          0.9106705518895931,
          0.590326980172626,
          0.7560387493497664,
          0.7321647151788764,
          0.6824538286894561,
          0.9514439916086381,
          -1.0901417824151638,
          -1.4680543779209647,
          0.6522491139234924,
          0.8664650278658061,
          -1.0440707517177938,
          -0.5412339898899516,
          0.4909052071937855,
          0.6219727859816891,
          0.8378025635412738,
          1.5707508477145666,
          0.9017331051192179,
          0.8083217168961764,
          0.7303881154185925,
          -1.125427444016277,
          0.8093072645045135,
          1.0196752116029357,
          0.9433019053069934,
          0.8113719518015455,
          0.8735777439444012,
          -1.0918665318502523,
          -1.4594723725006846,
          0.9070416006586689,
          -0.3546837974924653,
          0.9240014242112952,
          0.820021141252906,
          -2.407984499361148,
          0.7945091837006764,
          -1.2077520995753959,
          -0.5328341928530866,
          0.8628075877260543,
          0.884735968956188,
          1.0410251671177562,
          -1.3079130743809877,
          0.9753698761047236,
          0.7661070163517656,
          -0.9919114174546849,
          0.8395944970074426,
          1.02417744211253,
          0.9398786447038273,
          0.9786697940348301,
          -0.5560320706937888,
          0.9636549482598423,
          -1.3964151102014108,
          -1.0015725625636602,
          1.0277350707778568,
          0.9452170116639551,
          -2.674047600265754,
          0.7838062115134098,
          0.6038338414836761,
          -1.256466533895353,
          0.7509018136549045,
          1.0304453678212824,
          -0.2714791828681006,
          -0.9758547446014058,
          0.8494350944771649,
          0.592465531287314,
          -1.1012000261702588,
          -0.38212636488980817,
          -0.5941776102783981,
          -1.0645735453929797,
          1.102301400511987,
          -0.2900252492591376,
          1.0745188952527005,
          -0.6569618281365669,
          0.7440181496204354,
          0.917516733531392,
          0.5102837768816901,
          -1.0269912186457737,
          0.9380867112376584,
          -0.4966037596254392,
          0.8138766790451882,
          0.813014304327644,
          0.9602318574389429,
          0.7516146074323784,
          0.926588548363928,
          -0.4270854586728717,
          -2.2484888055675647,
          0.9248637989288394,
          -2.4352774858184207,
          0.9886599724446229,
          -0.4807529471821846,
          -0.7448182542105964,
          0.7131524914021931,
          -0.5305442487765415
         ]
        }
       ],
       "layout": {
        "height": 600,
        "legend": {
         "tracegroupgap": 0
        },
        "margin": {
         "t": 60
        },
        "scene": {
         "domain": {
          "x": [
           0,
           1
          ],
          "y": [
           0,
           1
          ]
         },
         "xaxis": {
          "range": [
           -10,
           10
          ],
          "title": {
           "text": "pc1"
          }
         },
         "yaxis": {
          "range": [
           -10,
           10
          ],
          "title": {
           "text": "pc2"
          }
         },
         "zaxis": {
          "range": [
           -10,
           10
          ],
          "title": {
           "text": "pc3"
          }
         }
        },
        "template": {
         "data": {
          "bar": [
           {
            "error_x": {
             "color": "#2a3f5f"
            },
            "error_y": {
             "color": "#2a3f5f"
            },
            "marker": {
             "line": {
              "color": "#E5ECF6",
              "width": 0.5
             }
            },
            "type": "bar"
           }
          ],
          "barpolar": [
           {
            "marker": {
             "line": {
              "color": "#E5ECF6",
              "width": 0.5
             }
            },
            "type": "barpolar"
           }
          ],
          "carpet": [
           {
            "aaxis": {
             "endlinecolor": "#2a3f5f",
             "gridcolor": "white",
             "linecolor": "white",
             "minorgridcolor": "white",
             "startlinecolor": "#2a3f5f"
            },
            "baxis": {
             "endlinecolor": "#2a3f5f",
             "gridcolor": "white",
             "linecolor": "white",
             "minorgridcolor": "white",
             "startlinecolor": "#2a3f5f"
            },
            "type": "carpet"
           }
          ],
          "choropleth": [
           {
            "colorbar": {
             "outlinewidth": 0,
             "ticks": ""
            },
            "type": "choropleth"
           }
          ],
          "contour": [
           {
            "colorbar": {
             "outlinewidth": 0,
             "ticks": ""
            },
            "colorscale": [
             [
              0,
              "#0d0887"
             ],
             [
              0.1111111111111111,
              "#46039f"
             ],
             [
              0.2222222222222222,
              "#7201a8"
             ],
             [
              0.3333333333333333,
              "#9c179e"
             ],
             [
              0.4444444444444444,
              "#bd3786"
             ],
             [
              0.5555555555555556,
              "#d8576b"
             ],
             [
              0.6666666666666666,
              "#ed7953"
             ],
             [
              0.7777777777777778,
              "#fb9f3a"
             ],
             [
              0.8888888888888888,
              "#fdca26"
             ],
             [
              1,
              "#f0f921"
             ]
            ],
            "type": "contour"
           }
          ],
          "contourcarpet": [
           {
            "colorbar": {
             "outlinewidth": 0,
             "ticks": ""
            },
            "type": "contourcarpet"
           }
          ],
          "heatmap": [
           {
            "colorbar": {
             "outlinewidth": 0,
             "ticks": ""
            },
            "colorscale": [
             [
              0,
              "#0d0887"
             ],
             [
              0.1111111111111111,
              "#46039f"
             ],
             [
              0.2222222222222222,
              "#7201a8"
             ],
             [
              0.3333333333333333,
              "#9c179e"
             ],
             [
              0.4444444444444444,
              "#bd3786"
             ],
             [
              0.5555555555555556,
              "#d8576b"
             ],
             [
              0.6666666666666666,
              "#ed7953"
             ],
             [
              0.7777777777777778,
              "#fb9f3a"
             ],
             [
              0.8888888888888888,
              "#fdca26"
             ],
             [
              1,
              "#f0f921"
             ]
            ],
            "type": "heatmap"
           }
          ],
          "heatmapgl": [
           {
            "colorbar": {
             "outlinewidth": 0,
             "ticks": ""
            },
            "colorscale": [
             [
              0,
              "#0d0887"
             ],
             [
              0.1111111111111111,
              "#46039f"
             ],
             [
              0.2222222222222222,
              "#7201a8"
             ],
             [
              0.3333333333333333,
              "#9c179e"
             ],
             [
              0.4444444444444444,
              "#bd3786"
             ],
             [
              0.5555555555555556,
              "#d8576b"
             ],
             [
              0.6666666666666666,
              "#ed7953"
             ],
             [
              0.7777777777777778,
              "#fb9f3a"
             ],
             [
              0.8888888888888888,
              "#fdca26"
             ],
             [
              1,
              "#f0f921"
             ]
            ],
            "type": "heatmapgl"
           }
          ],
          "histogram": [
           {
            "marker": {
             "colorbar": {
              "outlinewidth": 0,
              "ticks": ""
             }
            },
            "type": "histogram"
           }
          ],
          "histogram2d": [
           {
            "colorbar": {
             "outlinewidth": 0,
             "ticks": ""
            },
            "colorscale": [
             [
              0,
              "#0d0887"
             ],
             [
              0.1111111111111111,
              "#46039f"
             ],
             [
              0.2222222222222222,
              "#7201a8"
             ],
             [
              0.3333333333333333,
              "#9c179e"
             ],
             [
              0.4444444444444444,
              "#bd3786"
             ],
             [
              0.5555555555555556,
              "#d8576b"
             ],
             [
              0.6666666666666666,
              "#ed7953"
             ],
             [
              0.7777777777777778,
              "#fb9f3a"
             ],
             [
              0.8888888888888888,
              "#fdca26"
             ],
             [
              1,
              "#f0f921"
             ]
            ],
            "type": "histogram2d"
           }
          ],
          "histogram2dcontour": [
           {
            "colorbar": {
             "outlinewidth": 0,
             "ticks": ""
            },
            "colorscale": [
             [
              0,
              "#0d0887"
             ],
             [
              0.1111111111111111,
              "#46039f"
             ],
             [
              0.2222222222222222,
              "#7201a8"
             ],
             [
              0.3333333333333333,
              "#9c179e"
             ],
             [
              0.4444444444444444,
              "#bd3786"
             ],
             [
              0.5555555555555556,
              "#d8576b"
             ],
             [
              0.6666666666666666,
              "#ed7953"
             ],
             [
              0.7777777777777778,
              "#fb9f3a"
             ],
             [
              0.8888888888888888,
              "#fdca26"
             ],
             [
              1,
              "#f0f921"
             ]
            ],
            "type": "histogram2dcontour"
           }
          ],
          "mesh3d": [
           {
            "colorbar": {
             "outlinewidth": 0,
             "ticks": ""
            },
            "type": "mesh3d"
           }
          ],
          "parcoords": [
           {
            "line": {
             "colorbar": {
              "outlinewidth": 0,
              "ticks": ""
             }
            },
            "type": "parcoords"
           }
          ],
          "pie": [
           {
            "automargin": true,
            "type": "pie"
           }
          ],
          "scatter": [
           {
            "marker": {
             "colorbar": {
              "outlinewidth": 0,
              "ticks": ""
             }
            },
            "type": "scatter"
           }
          ],
          "scatter3d": [
           {
            "line": {
             "colorbar": {
              "outlinewidth": 0,
              "ticks": ""
             }
            },
            "marker": {
             "colorbar": {
              "outlinewidth": 0,
              "ticks": ""
             }
            },
            "type": "scatter3d"
           }
          ],
          "scattercarpet": [
           {
            "marker": {
             "colorbar": {
              "outlinewidth": 0,
              "ticks": ""
             }
            },
            "type": "scattercarpet"
           }
          ],
          "scattergeo": [
           {
            "marker": {
             "colorbar": {
              "outlinewidth": 0,
              "ticks": ""
             }
            },
            "type": "scattergeo"
           }
          ],
          "scattergl": [
           {
            "marker": {
             "colorbar": {
              "outlinewidth": 0,
              "ticks": ""
             }
            },
            "type": "scattergl"
           }
          ],
          "scattermapbox": [
           {
            "marker": {
             "colorbar": {
              "outlinewidth": 0,
              "ticks": ""
             }
            },
            "type": "scattermapbox"
           }
          ],
          "scatterpolar": [
           {
            "marker": {
             "colorbar": {
              "outlinewidth": 0,
              "ticks": ""
             }
            },
            "type": "scatterpolar"
           }
          ],
          "scatterpolargl": [
           {
            "marker": {
             "colorbar": {
              "outlinewidth": 0,
              "ticks": ""
             }
            },
            "type": "scatterpolargl"
           }
          ],
          "scatterternary": [
           {
            "marker": {
             "colorbar": {
              "outlinewidth": 0,
              "ticks": ""
             }
            },
            "type": "scatterternary"
           }
          ],
          "surface": [
           {
            "colorbar": {
             "outlinewidth": 0,
             "ticks": ""
            },
            "colorscale": [
             [
              0,
              "#0d0887"
             ],
             [
              0.1111111111111111,
              "#46039f"
             ],
             [
              0.2222222222222222,
              "#7201a8"
             ],
             [
              0.3333333333333333,
              "#9c179e"
             ],
             [
              0.4444444444444444,
              "#bd3786"
             ],
             [
              0.5555555555555556,
              "#d8576b"
             ],
             [
              0.6666666666666666,
              "#ed7953"
             ],
             [
              0.7777777777777778,
              "#fb9f3a"
             ],
             [
              0.8888888888888888,
              "#fdca26"
             ],
             [
              1,
              "#f0f921"
             ]
            ],
            "type": "surface"
           }
          ],
          "table": [
           {
            "cells": {
             "fill": {
              "color": "#EBF0F8"
             },
             "line": {
              "color": "white"
             }
            },
            "header": {
             "fill": {
              "color": "#C8D4E3"
             },
             "line": {
              "color": "white"
             }
            },
            "type": "table"
           }
          ]
         },
         "layout": {
          "annotationdefaults": {
           "arrowcolor": "#2a3f5f",
           "arrowhead": 0,
           "arrowwidth": 1
          },
          "coloraxis": {
           "colorbar": {
            "outlinewidth": 0,
            "ticks": ""
           }
          },
          "colorscale": {
           "diverging": [
            [
             0,
             "#8e0152"
            ],
            [
             0.1,
             "#c51b7d"
            ],
            [
             0.2,
             "#de77ae"
            ],
            [
             0.3,
             "#f1b6da"
            ],
            [
             0.4,
             "#fde0ef"
            ],
            [
             0.5,
             "#f7f7f7"
            ],
            [
             0.6,
             "#e6f5d0"
            ],
            [
             0.7,
             "#b8e186"
            ],
            [
             0.8,
             "#7fbc41"
            ],
            [
             0.9,
             "#4d9221"
            ],
            [
             1,
             "#276419"
            ]
           ],
           "sequential": [
            [
             0,
             "#0d0887"
            ],
            [
             0.1111111111111111,
             "#46039f"
            ],
            [
             0.2222222222222222,
             "#7201a8"
            ],
            [
             0.3333333333333333,
             "#9c179e"
            ],
            [
             0.4444444444444444,
             "#bd3786"
            ],
            [
             0.5555555555555556,
             "#d8576b"
            ],
            [
             0.6666666666666666,
             "#ed7953"
            ],
            [
             0.7777777777777778,
             "#fb9f3a"
            ],
            [
             0.8888888888888888,
             "#fdca26"
            ],
            [
             1,
             "#f0f921"
            ]
           ],
           "sequentialminus": [
            [
             0,
             "#0d0887"
            ],
            [
             0.1111111111111111,
             "#46039f"
            ],
            [
             0.2222222222222222,
             "#7201a8"
            ],
            [
             0.3333333333333333,
             "#9c179e"
            ],
            [
             0.4444444444444444,
             "#bd3786"
            ],
            [
             0.5555555555555556,
             "#d8576b"
            ],
            [
             0.6666666666666666,
             "#ed7953"
            ],
            [
             0.7777777777777778,
             "#fb9f3a"
            ],
            [
             0.8888888888888888,
             "#fdca26"
            ],
            [
             1,
             "#f0f921"
            ]
           ]
          },
          "colorway": [
           "#636efa",
           "#EF553B",
           "#00cc96",
           "#ab63fa",
           "#FFA15A",
           "#19d3f3",
           "#FF6692",
           "#B6E880",
           "#FF97FF",
           "#FECB52"
          ],
          "font": {
           "color": "#2a3f5f"
          },
          "geo": {
           "bgcolor": "white",
           "lakecolor": "white",
           "landcolor": "#E5ECF6",
           "showlakes": true,
           "showland": true,
           "subunitcolor": "white"
          },
          "hoverlabel": {
           "align": "left"
          },
          "hovermode": "closest",
          "mapbox": {
           "style": "light"
          },
          "paper_bgcolor": "white",
          "plot_bgcolor": "#E5ECF6",
          "polar": {
           "angularaxis": {
            "gridcolor": "white",
            "linecolor": "white",
            "ticks": ""
           },
           "bgcolor": "#E5ECF6",
           "radialaxis": {
            "gridcolor": "white",
            "linecolor": "white",
            "ticks": ""
           }
          },
          "scene": {
           "xaxis": {
            "backgroundcolor": "#E5ECF6",
            "gridcolor": "white",
            "gridwidth": 2,
            "linecolor": "white",
            "showbackground": true,
            "ticks": "",
            "zerolinecolor": "white"
           },
           "yaxis": {
            "backgroundcolor": "#E5ECF6",
            "gridcolor": "white",
            "gridwidth": 2,
            "linecolor": "white",
            "showbackground": true,
            "ticks": "",
            "zerolinecolor": "white"
           },
           "zaxis": {
            "backgroundcolor": "#E5ECF6",
            "gridcolor": "white",
            "gridwidth": 2,
            "linecolor": "white",
            "showbackground": true,
            "ticks": "",
            "zerolinecolor": "white"
           }
          },
          "shapedefaults": {
           "line": {
            "color": "#2a3f5f"
           }
          },
          "ternary": {
           "aaxis": {
            "gridcolor": "white",
            "linecolor": "white",
            "ticks": ""
           },
           "baxis": {
            "gridcolor": "white",
            "linecolor": "white",
            "ticks": ""
           },
           "bgcolor": "#E5ECF6",
           "caxis": {
            "gridcolor": "white",
            "linecolor": "white",
            "ticks": ""
           }
          },
          "title": {
           "x": 0.05
          },
          "xaxis": {
           "automargin": true,
           "gridcolor": "white",
           "linecolor": "white",
           "ticks": "",
           "title": {
            "standoff": 15
           },
           "zerolinecolor": "white",
           "zerolinewidth": 2
          },
          "yaxis": {
           "automargin": true,
           "gridcolor": "white",
           "linecolor": "white",
           "ticks": "",
           "title": {
            "standoff": 15
           },
           "zerolinecolor": "white",
           "zerolinewidth": 2
          }
         }
        }
       }
      },
      "text/html": [
       "<div>\n",
       "        \n",
       "        \n",
       "            <div id=\"af84a8c2-6b1e-49c6-9289-f26a9436966e\" class=\"plotly-graph-div\" style=\"height:600px; width:100%;\"></div>\n",
       "            <script type=\"text/javascript\">\n",
       "                require([\"plotly\"], function(Plotly) {\n",
       "                    window.PLOTLYENV=window.PLOTLYENV || {};\n",
       "                    \n",
       "                if (document.getElementById(\"af84a8c2-6b1e-49c6-9289-f26a9436966e\")) {\n",
       "                    Plotly.newPlot(\n",
       "                        'af84a8c2-6b1e-49c6-9289-f26a9436966e',\n",
       "                        [{\"hoverlabel\": {\"namelength\": 0}, \"hovertemplate\": \"contraceptive=No-use<br>pc1=%{x}<br>pc2=%{y}<br>pc3=%{z}\", \"legendgroup\": \"contraceptive=No-use\", \"marker\": {\"color\": \"#636efa\", \"symbol\": \"circle\"}, \"mode\": \"markers\", \"name\": \"contraceptive=No-use\", \"scene\": \"scene\", \"showlegend\": true, \"type\": \"scatter3d\", \"x\": [-0.655277861003403, -1.7951223771101257, 1.0243398582577137, 0.6453772485265189, -0.8191504497510915, 1.0939251914570423, 3.85140912278081, -1.5049931831441934, -0.6559051609440009, -0.9131485768390251, -0.2951067746215608, 3.6598807223681553, 0.9577867668243746, -1.272972044164719, -0.088628389015624, -1.5091392465657656, -1.5899585512516872, 2.71070716234102, 1.6356198803810484, -1.7019488013517112, -1.3652640935210978, -0.9066937641103867, 0.09408118945867087, -0.7742768337297207, 1.0775683196643902, -1.8007293615775382, 3.0352261492143473, 3.4228528990733786, 0.6550221953177915, 0.0784318159593032, -0.5271539454659601, -1.697374538174693, 1.2291471499355433, -1.8063563485967187, 0.2410626212675661, 4.468925489065533, 1.4751211668292132, 0.7838457350959362, -1.575611237633916, 1.765752755730796, 1.3437572940446014, -2.548501971090748, 2.133105711975015, 3.4923883112688965, 1.5829895333959094, 2.0260844416805974, 1.9735872797111609, -0.5205991396095654, 2.7194954316576667, -0.22878477342038409, 2.251953823566866, -0.4924848540207268, -1.7650275488419107, 0.9591177762904156, 2.8023937979742946, 2.1389820350336297, 3.5440638396283335, 1.5458144633385589, 0.7032812469947615, 1.4017881154055325, -1.5881974261597027, -0.9311616053594214, -2.4032266170134076, 0.8589390086550632, 1.3876160349178976, -1.144622091603418, 1.8093025190799537, 2.9927243739366105, -1.4819335092513202, -1.1376399909653585, 0.8166784594295621, -2.2722388372498585, -0.3882803503799754, 3.0233213612058596, 2.1406974056898984, -1.453546752337807, -0.3601258887200098, 2.07858941062835, 1.4522287597429875, 0.030021569393974695, 1.1072889068882228, 0.7095059942467863, -0.7601096645847525, 0.03710181118311022, -0.4878645564270156, 1.4982348623829318, -1.8066787409252034, -1.9389975301547935, -0.23767829108224858, -1.8998840871123408, 3.2941269103230013, 2.7252507582609433, 0.8246672494930907, 0.49092340559673747, 0.958720444007155, 0.4290807250660354, -1.5368491365043928, 4.423624653997904, 2.457883091877875, -1.809567831878973, -0.09935507514456345, -0.7473734861919921, -0.8463252438579454, 0.9317608440876116, 0.3583343748194072, -1.34961472002173, 0.7684194077525921, -2.451958050885836, -2.240458836758395, 2.2626335514019114, 4.182910210292197, 3.233135403110052, 1.5471165232201556, -1.329391083345344, -0.8729332209395465, -1.6701688008602473, -2.3831011214880973, -1.6925760238202656, 0.09319845803525027, 1.7201029063464477, -1.2372702314290915, -0.6809002901024568, 0.6608003772253304, -0.6161862913928189, 1.5552802335805918, -1.8644605600005923, 0.1624766822226204, 1.1389640806619135, 0.39511593326955424, 1.3196169714806711, 3.084087636532212, -2.4548471418396054, 0.9382674297967407, -1.3351692652528828, 2.77054839468404, 0.650578221520826, 3.306821790069809, -0.9612564336276364, -0.3589979228582246, 1.6224301173232125, 2.3627961492996987, 1.1770013308230718, 1.8855343085708114, 0.9773329454585301, 1.8864873541356892, 4.030399932615197, -1.1610770386360858, 4.071221447012351, 0.7877875498918676, 0.20288086178474646, -0.1080754017431543, 0.03306185523610265, 0.8251635941949202, 2.7628020191586327, -2.125474593251421, -1.4297056209060612, 0.32183593558315604, -2.5456128801369786, 3.1899261295390304, 1.3696079177401679, 1.7318131906619778, -0.7386821091778457, 0.05941209801343754, -1.1802708506017627, -0.11895328276045232, 0.3559938110372571, 0.7129254324759634, 0.49590405804711485, 2.6018772915819244, -0.011478427800959552, 2.3691949467443445, -0.43570972437080707, 2.156369634493529, -0.9774630134884679, 0.6465061173448418, 1.101510724980684, 1.2667024146150268, 0.26510902608050185, -1.2539262943539284, 2.5868552180231545, 3.9378209184450945, -0.889261077236694, 0.8011802808185529, 0.7809566441421667, 5.850163029495018, -2.1196964113438823, -0.7981710188987488, 1.0486565046183898, 1.9604908442810107, 3.807442495823754, -1.6452978447177924, 1.1862422597643867, 2.0117901818001087, -0.1596495583987667, 1.0783979973505282, -2.3814159492648486, -0.43450580564028646, 2.5516569677883996, 3.4091111538299748, 1.6631765818081694, -0.3996855193066946, -0.8247464935626803, -0.04778447132217618, -2.4635144147009136, 0.512383109232621, -0.7542832625299479, 0.8564241587456762, -2.4032266170134076, -0.2751383323301753, 0.39584078423791913, -1.385487730197484, -2.5051656067842063, -1.7736948217032191, 0.6367099756652105, 1.3409164232380977, -0.3213637875904864, -1.8413478323704369, -1.2209423751319441, -1.9204590657016563, 1.516772358912506, 0.8756641972354715, -0.8181386339690031, -1.2025280836948076, 0.18351271964547095, -0.7255917680278776, 4.423775848886262, -1.0448888763985917, 0.2785477914238799, -1.7019488013517112, 2.9379828407033495, -0.7263201718294677, 2.2873217131948755, -2.0037614498682417, 1.0403865640403422, 3.801090657836209, -2.5513910620445177, 1.030536277956819, 0.33871231905192284, 1.1211250045148615, -0.3844425350806859, 0.6800173244762473, 2.011545757103341, -0.4061721024640557, -1.576641062344625, -2.0095396317757808, -0.6557539660556424, 0.5393336521620662, 0.09684490237505432, -0.8846407796429827, 1.30591981310776, 0.4986419541125258, 1.164940436583559, 2.1361459978171426, 1.6066346184601192, 2.1759839140277064, 1.0821425828414084, 2.6249900192120803, 0.9389459125945204, -0.23596984192729284, 1.3876160349178976, -0.3399224255629823, -0.8765989358421717, 0.2535526622654241, -1.1601984088137351, -1.8702387419081312, -0.6544229565896014, 0.8309035936544795, -1.438544091207496, 1.1740864230183299, 2.398664423704712, 0.4010453100654516, 1.6904871458403885, 1.7498262191823744, 1.832926462701242, 0.3123562619753834, 2.4522561048586944, 2.0255426967317454, -1.763725488960314, 0.8724217707456257, 0.8908380558059089, 2.6121249099487085, -1.4933386781780396, 3.8133718726196517, 1.4678320988256623, 2.949539204518427, -1.7147090838973096, 2.060031053580867, 1.782607997756641, 0.7820093679843287, -0.18987467604703462, 1.1476058908609421, -1.1357305675647005, -1.5679737894833168, 2.685937265069161, -0.09935507514456345, -0.378664353173147, 1.7656267875701008, -0.8413044153364411, -0.06795446413797065, 0.5486070835210504, 1.2656845646139354, 0.0783996677303264, 2.4166501375861484, -0.4837484555038471, -0.5399142280115584, 3.9423720903832344, 1.0860585807863674, 0.16173420012588874, 3.0752922600214236, 2.216538385521653, 0.5074024567822436, -1.1428638630911185, -1.048205262134026, 4.32206310391602, -0.9627904109625267, -1.5322519741959213, -0.5610484065854848, -1.659592104598281, -1.411489548781409, 0.6300012493083633, -2.0780452192605896, 0.6436170263910723, 1.3597318148056723, 0.06109727023668647, 1.1976715328439438, -0.8565264940541442, 0.014720620088016802, -1.3825986392437144, 1.7372380370334404, 0.8775756142592765, 2.238091909089255, 4.582322701500334, 1.2764803763984462, 1.0572262264519314, 2.6736233119334325, -0.9383997276036127, 0.8177639216240099, -1.809567831878973, 0.8708927047534017, 1.2908279259508337, -1.4402292634307448, 0.41186522600280057, -2.204585826582641, 0.16055118690367393, 2.1166568592225286, 0.17748171477633262, -2.4016395859412345, 1.7357522798458154, 0.5661388585487185, -1.2102156890030045, 2.5810512192646433, 0.538384927816546, -0.9197564364327022, -0.6491493051064977, -1.1541190421508642, -1.7852511855182969, -0.47022762092768183, -0.4044109773720715, -0.44148790627834594, -1.5206956103808433, -0.14960441443359335, 2.3479695319851555, -0.911793463220146, -1.885789974256423, 2.0751266635945744, -0.19024891709141697, 1.9778253900036276, 4.983034881166667, 4.630932717289979, 1.2599063827063965, -1.7922332861563564, -1.3338141516340039, 0.718100942807991, 3.8844862718112037, 4.13377475856981, 2.970081066955203, 1.6812485883224746, 0.8258502627153055, 0.013786942905236615, -1.5849569932930039, -0.3649703934447684, 2.809654774359542, 4.54356060037081, -2.006650540822011, 1.0087113902666518, 0.8389615093735794, 2.0796453331150446, 1.3923233130870627, -1.6342957906844935, 0.4153859381165255, -0.0791314384681774, 2.5139027390218605, 2.180560548628126, -0.46824707824830547, 2.2082780920570126, -0.5581593156317154, 0.4850261770298168, 0.44048589399275456, -2.5108456475406693, -1.3639620336395013, 2.0445296763253253, 2.7596705136667423, -2.6791355880970893, -0.262476190935653, 0.50418584714337, -2.472181687562222, 0.6280427028039022, 0.22531510661712223, -0.6284211380056763, 0.8588839612946335, 0.7653281761511046, 1.2013903014838514, -0.41702006502931127, -1.723376356758618, -1.8541081149160352, -0.5378806315948996, 2.8792223347840364, 0.09174520326529505, -0.8182898288573617, -0.3544667534718527, 2.982169788204335, -1.4300280132345462, 3.6522922272978033, 2.005767575195802, 0.8003506031324145, 3.790259144989496, -0.5400654228999169, -0.1533199844289686, -1.422796576557052, 1.60640145215825, 2.056086040140403, 0.7981399949764248, -2.538149526006191, -0.9235010219235822, 0.5931473665581126, 0.9169620537826878, -1.0815433441132183, 0.31185991727355383, -0.9642967194697643, 1.1489400989715155, 0.22938721079310648, 0.2887471896433983, -0.9755506935081251, 1.6927700782964814, 1.1076422424242993, -1.743599993435004, 1.5787983825605434, -0.16402085370693573, -1.9060136109328092, 0.2979658545669659, -1.514766233584946, -0.8240680107649005, -0.5588857258101584, -1.8644605600005923, -0.27998283705493393, -1.3178347195302662, -0.9824867597294916, 1.0773131252793895, 2.194629576622018, 0.6889869871142729, -1.0628019117912317, -1.3453705154490816, 3.9145860114220854, -0.7101164885483211, -0.3501967320482318, -1.8269023776015896, -0.0064086471432429236, 0.6975030650872226, 2.7193213814650457], \"y\": [1.671672617805426, -1.2045580325457326, -1.556423014457016, -2.964333088279598, -1.0397850165553522, -2.3316488749038045, -1.0374941777373736, 0.23198595583931214, -1.1863217145629832, -1.6112448493725429, 1.6556793529354144, 2.468182854964733, -1.5806650733070764, -0.3424918438958186, -1.1022500343716524, -1.2659333209084307, -0.038502592385253234, 0.8793982396759019, 2.8348403359526957, 1.748436166656729, -1.5711748044151652, 0.3103374259088357, -0.6707866149165052, 0.25505874600852574, 0.05999414050166713, -0.5732461697669874, 1.6293280992664665, 1.090196086623374, -1.321271167983068, -2.0987216265670683, -0.4861062307992392, -0.26172858563412166, 1.2736322764061543, -0.7523531644693433, 0.045082361035036135, -0.2039619543504583, -1.825082160711213, -0.6468803750333912, -0.37164107322600454, -0.7375924225517025, 1.4477918293522345, 1.1151366892137478, -0.886243471250505, 2.275203724779407, 0.2838353978177226, -1.0157919961743584, 2.163067816474944, -1.32477607169762, -1.9842736729813584, -1.8152211583690987, 1.904152312887336, -1.4842143576111604, -0.19250140706680333, 1.8210082594301185, 1.7927307802953576, -1.1353347310500408, 0.40221473529147245, -2.3229433656838676, -1.7433055361799532, -1.6722435330061238, -1.2094617825748153, -0.5226122048677376, 2.4882287928674454, -2.4300252828013083, 1.2827176007806804, 0.5578551390857852, 3.4823155830508186, 0.6152451656403312, -0.1707010181951749, 2.2353171824393288, 0.627458922382221, -0.8859833144391772, -1.2973148462670476, -0.8737347344050928, -0.7936372743232945, 1.7495963536331895, 0.04990656819983933, 1.8237560766148089, 1.6421244486186988, -1.3312289091991734, -1.706799562111455, 0.8433687466293771, -1.3732212259070962, 0.2634932288234877, 0.03230313104887484, 0.2350198011680338, -0.8718553236084258, -0.8993165490389982, -1.5169185724888048, 1.6233150441219133, 1.52323818432726, 0.3807799481733856, 0.9675104717780857, -0.433799943836046, -0.5784193683373549, -2.063408510931876, 0.39088852054994466, 3.2821562772384074, -1.7175735570317485, -0.788679646374099, -1.7045842557041995, 2.0412077470638015, -0.7454350976700069, 1.0712343058878717, -1.3028288621190938, -0.1432397927646023, 1.0494932905791066, 0.21415273830316184, -1.800915764016771, -0.8583464739164882, 1.3898977252067346, -0.9618141616685021, -0.5618698731925533, -0.7254695334048898, 0.566899887723711, 0.8335037170791345, 1.9887389575580405, -2.0696512734550074, 0.5269687591934765, 1.1029330624127425, 0.03825291880436541, -1.7751511134117215, -1.4876225224517214, 0.19903088385810924, 0.7504844432916532, 0.7916582210781093, 0.3711697299282226, 2.2787321416027773, -1.7117941797356144, 2.1808417938301603, 0.13619758200655388, 0.29732841553748857, -1.644929128282449, -0.5591181789362363, 0.06774594802489452, -0.9263307122175944, 0.39443159136409256, -1.5346688303466671, 1.1376900811550745, 0.4567864104948271, 1.1063677959773923, -0.9241654876432456, 0.903066791257041, 2.5869183448340065, 1.0185475371239343, 0.4121818492219548, -1.8383612263809308, 2.026572696033431, 1.4592156947254886, -1.2242859085088753, -1.192338780161092, -1.7598629356045095, -0.6661919817483511, 1.965238116789262, -1.2744004751802382, -1.4656211439430915, -1.8216739958706523, 1.0319610119794211, 1.843680931761397, 1.0446690834143033, 0.747279490112189, -0.11163756872518647, 0.32732151189541603, -0.08560806745452583, -1.44921465232263, 0.8343160937116963, 1.86690388644491, -1.1975987592293396, -0.8357889985149982, -2.3560411749118053, 0.8161787539923158, -1.8103174083400162, -1.8971072382961287, 0.05216874601452868, -1.4172024854510972, -1.5404482076428012, 1.2680120155838108, 0.3819226481301438, -0.05227159888851886, 0.5942703222028479, 3.0398391695668425, -0.2714565428280074, -1.1459344384393517, -0.5637046977990645, 2.8512899548046406, -1.440751829648892, 3.732994687424934, -0.37801503450943275, -0.09470356457151262, 2.6772131551483125, -1.211190362211029, 3.1371930528467558, -0.9453719591737343, 1.1717666466297678, -0.8750427897681873, 0.06174988250151669, 0.033495989482180556, -1.3483557886845228, 2.0497534731637925, 1.774494462312608, -1.3100704865007502, 0.1706902103408932, 2.4465496202285797, 0.5468554472404686, -0.7047006778486309, 0.33792101289619025, 0.4320007225250697, 2.4882287928674454, -0.5183746737734396, 2.2536330432863574, -0.9889450637748783, -0.13249846930115364, 0.05702562463617699, -2.7148060565766183, 3.408461099858501, 0.8124361619757886, 0.12625280320349525, 0.8766093493560838, 0.4454427853772382, -1.1457282441695906, 0.807758775517883, -0.9306980743976149, -0.4121547943665812, -1.6340083126552571, -2.0258710035480076, 2.936697928067398, 0.5319674602777991, 1.3034547559161893, 1.748436166656729, 1.85012468392153, 0.5239410761536595, 2.776404348315383, -0.9132650477060066, 2.2709396249610205, -1.4673210625760158, 1.1983123664480746, 1.946419206196171, 1.0706517132775297, 1.6141601734420636, -1.1285014117477437, -0.7324417691343296, -1.8438548665430248, 2.216511805150672, -1.5421644915121222, -0.7469136932373532, -1.531780063733993, -1.201292661203941, -0.4654191574966373, 1.245060945832028, 2.8405696314159234, -0.9353160872926568, -1.755088810272613, -1.3148774976558413, -0.6139200137979743, 1.2575011427887364, -1.9501706117891835, -1.5011944163896123, -2.2345077093812935, 1.4905208569000663, 1.2827176007806804, -1.2285640153397734, 1.322394051387765, 0.7146253570674507, -0.3223794589238035, 0.9580095755467629, 1.869893269003202, -2.5902206552447105, -1.6810546205502033, -0.7840745958921037, 2.968626391970847, -2.223603883375277, -2.0307373882659623, -0.3413531543926163, -0.837188051218065, -0.14919866222447933, -1.8966805517341048, -1.2115879670148775, 1.5685720854245115, -0.6181499279854741, -2.1579316903554178, 1.888159048017324, -0.18345665842887746, 2.165403451508649, -0.4566227806816237, 1.5174219749842228, 0.23732547777183893, -2.314664788917224, -1.2670149360567071, 1.625567049194142, 1.7749343176762153, -1.2560347468666522, 0.5105701718527699, -1.7916915232151025, 1.765688870411279, -1.7045842557041995, -1.2948527662163973, 0.7411235080869372, -0.002574212682873542, 1.5758881210442943, -2.014573583191699, -2.1312366367961273, -0.5662372353725739, 1.2722661015484698, 1.4135181513121668, -1.9972169196841292, 1.40909711760057, 0.21284067248651156, -0.7400137934838235, 0.3517602625559655, -1.1427599346926371, 0.059098137544662734, -0.8214335223297641, -1.9009887467397983, 0.26719511172148547, 0.04686189553884707, -0.6005279030338171, 0.09070102823023317, -1.1407703252104047, -0.24036396866593743, -1.853185352314991, -0.7613979131072693, -1.3340268082167703, 0.7770638791662693, -1.599667563161108, 1.2466304089944513, 1.0856226599184875, 0.07660162175912982, -1.0721207410092048, -0.9281562450941484, -1.1680058537159543, -1.359892208149367, 2.166802504211716, 1.6183571251627276, -1.734974956865976, 0.8556215435055535, 3.045848254241555, 0.09407348219648791, -0.788679646374099, -0.3633003639711425, 3.4372009196207953, 0.24593445450632062, -0.37732840550243024, -0.9552104930064954, -1.314061243951653, 0.8895449791520564, 0.6051813128358574, 0.6439796231418039, 2.5308680740633056, 0.6675962451822167, 1.4789435706886316, 0.8175368911883165, -1.4532817729575718, -0.5098565646340352, 0.539915882967874, 1.7424191010586203, 0.3897283335734839, -1.157667630699105, 1.04555261496111, -1.643966053871363, -0.9332306119711241, 1.0128484000834657, 1.4091378267190993, -0.11288980072135561, -0.5526653414346829, -2.403953818343846, -1.0039160104158362, -0.5937576279774731, 1.0401182186169844, -0.4108100403385131, -1.9648852823274736, -1.2877337097800592, 0.9392368697149512, 0.6196664057404644, 1.1353280270475294, 1.5341182908359219, 1.5022712451695317, -2.427433371664936, 1.5415579222459153, -0.9256440832105918, 0.4674645395758205, 1.2185036276382146, 3.4924216134084443, 1.404272910435767, -0.8300893704716799, -1.7145920787532116, 0.8970904347774613, 0.839943592167641, -2.020163962227784, 1.6792089880894108, 2.260981883744915, -2.2868139963444865, 2.050390101322309, 2.911998947588913, 0.01382728069336478, -0.8370397620765453, 0.007525350995906441, -1.4544746313908776, -2.050652870698173, -0.04888702016338266, 0.189898688076149, -0.914973918298422, -0.18912992413664323, -0.8393136112733488, 1.075475920442333, -1.4237257804755095, 0.796382478943449, -2.4652790248736376, -1.3001127452846448, 1.1213121738942613, -1.9162892203139028, -0.7218737620952602, 0.22841780149026997, -0.8110164230947896, 0.48685250947481923, -1.3848578856813945, -1.0884404521317865, 3.144944860369983, -0.8886463841268285, -0.5852397252266052, -1.3034708282922993, 0.9372185424911417, -1.5851233030821736, -0.7975075734028519, -1.677503512074371, -0.21089750816949732, 2.8308088693832634, -1.6517585705131197, -1.1420232238527281, -0.33585951423052257, 2.1005975130414645, -1.247676627235729, -0.7173004120340154, -1.0613794175457563, 0.5652712573869609, -1.418395343884403, -0.021971688678178378, 2.4987927128093173, 1.4845037913019574, -1.1060348039413306, -1.0274456455698324, -0.8092409720511419, 2.1499092091765717, -1.464248793346043, -1.5501591752155115, -0.1977151813737709, 1.0690822501151067, -1.3940624174392653, -1.8012726597020905, 0.02956439920560438, -0.24705633854025114, -1.4450403156107872, -0.4188883707579516, 2.3063198120502952, 0.7916582210781093, 0.6502223856649354, -1.0581722423421966, 0.38497140425129933, -1.5318301455668992, 1.366458881004174, -1.672885499179329, -1.1396520113971547, 1.2719395786522583, 0.8207034906552761, -1.271225971433524, 0.05479332860774643, -0.2896255829681385, 0.8378384078023096, -1.5769541817112995, 0.892589651813049], \"z\": [-1.8625254434261815, 0.9612845890783603, 0.8883086407171579, -1.0099314138364557, -2.8063997187598684, -1.15977686708219, -0.3111242151082854, 0.4865936242163061, -1.2030704167050543, 0.9122193123353336, 0.7782510795821314, -0.03225200357446046, -1.6284796304631726, -2.424764870553027, 0.8181623143658986, -0.8810847830722304, -2.4051246213776523, -0.7587565428319195, 0.6348490806419889, 0.8271667753850875, 1.0586416747601686, 0.6243105177198264, 0.5684548784124466, 0.8373065347349508, 0.5181159665243346, -2.4373421731154528, -0.6871063705512396, -2.2586265831133745, 0.7798109143712645, 0.6794419982960979, 0.6835220638170252, 1.025147946625224, -0.8246384731363142, -2.610840757026409, -1.254195986188296, -0.28097135066751694, 0.6428892115542081, 0.48853484801230357, -0.6659664589380223, -2.3014415184953503, 0.6223391318929103, -0.6803916838263293, 0.4262642433081595, -2.328045072591517, -1.2547526890213905, -1.843746195185354, 0.09794212615250607, -0.9776466780675749, 0.10898227145019601, -1.2667841933118476, -1.90799606950372, 0.8326547232852858, 0.9124360773064843, 0.5292675117495458, -1.50422577565599, -1.2258998677749848, 0.3165727374741122, 0.6193856618290563, 0.6478809608658167, -1.1716976553370961, -1.192150679546637, 0.846657613402659, -2.2678300626450656, 0.7117334138515544, 0.02677853814005347, 0.9550166633696079, -1.5057228555588018, -0.109555038401294, -0.9423610164664612, 0.8067463786188916, 0.6007571985290292, -2.5355616335148055, 0.912368893275404, -0.2204903079597499, -2.0194452082385004, -0.6758070564077445, -1.4043406013141713, 0.6953477076974577, 0.2757058265026847, 0.9600150924677922, 0.4847454112801829, -1.5206100992982379, -1.2827845866951724, -0.8652747466107786, 0.8115952267770054, -1.1841252406080844, 0.9115737025889401, -0.9784418687540385, 0.6215175331571688, -0.5045292507381995, -1.319012263900152, -2.373637489047999, 0.64704499419755, -1.24690959481762, 0.44482327193528953, 0.6143763281697461, -0.6775318058428332, -0.25573214694615054, 0.5214718733141536, 0.899145980966585, 0.6108036564087762, 1.0733165826732127, 1.1825789531217754, 0.7391868858100233, -0.8904965357667098, 0.9476545548765174, 0.7326871520344771, -0.4434025982840391, -2.3988566956688997, 0.6268325387009288, -0.3877443275783217, -2.361497854962392, -1.2307596204942246, 1.0346486062330027, -1.0981344575590046, 0.9638717132309931, -0.5038164569607257, -0.6222657874221345, -0.802273763781459, 0.565482441489042, 0.92501337986891, -1.1203618308870127, 0.8046663576159746, 0.9585893351305778, -3.376557518974109, 0.6630192701418391, -2.873809800410933, 0.7679813467269245, 0.9570880304532158, 0.7491252138946205, 0.1681419672221996, -0.4558303199063943, -1.223629320067928, 1.0097931629882926, -0.3401266172947614, 0.8539525378646691, -0.14162300919902426, 0.8955061251745349, -2.6048868215228316, -1.275322666727657, -0.5326200104169663, 0.7675327736889799, -0.15484592150784315, 1.1487603302205303, 0.836693552431902, -0.41561160121639035, -1.2558644561534302, -0.25710145503114384, 0.47647998230547867, 0.4253842842429136, -0.9548559221198968, 0.8237996734239006, -3.141018934425072, -1.3350126572834768, -0.5834074540600511, -2.5640569325515656, 0.6708775772235194, -0.6679639622039744, -0.2170408090895728, 0.8828317671603524, 0.8674769835234208, -1.3689162633341134, 0.4193222189441859, -0.8663851733907214, -1.0135714394107727, -0.9671231582410554, -0.7506885469168799, 0.884735968956188, 0.36341284141891045, 0.8105095770840013, -0.34227900750436235, 0.8866510753131497, 0.3770428756207533, -0.37960642476825573, 0.5938846088379527, 0.4598899680354728, -1.6648830060472586, 0.9185286891890068, 0.841442419333324, -0.18505506541856598, -0.5647333561235248, -0.9781427068738976, 0.5631011777464339, 0.4761071263899485, -0.3572923012574123, -0.558552010815341, 1.1971799972171637, 0.8146046857005719, -1.7863825714140364, -0.1868879446488042, -0.44790482879363364, 0.9423423053554254, -2.0545279439633757, 0.8550316775533642, 0.36046819505663236, -0.3182630073429444, 0.7135253473177233, -1.3517522524935532, 0.4964369777086963, 0.6601292301274245, 0.7140148661197373, 0.9478041358165878, 0.7774709319913105, -0.49311348477345934, 0.6161010776048347, -0.9562816794571108, 0.6838277357014751, -2.2678300626450656, -1.2170624022613015, 0.9459712565863496, 0.9716476234036832, -0.4939758594910036, 0.8751529124394193, -1.0472145787035207, 0.9115588742639065, -1.4159059482189822, 0.7624410431206795, 0.8050216291838032, -1.0770012670153346, 0.6437515862717523, 0.6761859029807038, 0.8150118075935958, -0.6226057252840781, 0.6815914539719119, -0.9850087865606653, -0.40437528761239705, 0.3864590574599919, 0.7861092168815448, 0.8271667753850875, -0.49432488989228646, 1.002662862561996, 0.13672383094541318, -1.0787260164504233, 0.8617657606477628, -0.3492697546928948, -0.6928194054486843, 0.5768423883763364, 0.4866869256864222, 0.43677017878697727, -1.3306366462975854, 0.6971023285532228, 0.6927496789836988, -0.548297106285168, -1.1424397930572168, -1.1035814596951334, -1.3517135573713006, -1.5274826889893143, 1.2303747332542339, -0.999202203382178, 0.8579872284767683, 1.0458068312447895, 0.4611770489937426, 0.290048824264268, -2.196516463910427, 0.3539230863722577, 0.7160971377644711, 0.46283461439775075, -1.2326339508693838, 0.7050366433675593, 0.02677853814005347, -0.41546383229810663, 0.5754620059479505, 0.8688178026995865, -0.6307479813679895, 0.638163826897129, 0.8060335848414178, 0.9306574187134875, 0.7724312215304724, 0.25425605951343894, 0.8411395034715421, 0.8333003330316793, 0.45232199913235743, 0.9330386824560956, 0.380832312352874, -2.8348127906699054, 0.347973289403197, 0.01999365136154573, -0.9377092050167962, 0.2584702024862852, -1.2493471380301824, 0.7327804535045931, -1.1407150436221283, -0.3106756420703407, 0.3837593743674504, -0.4446140034028663, 0.9505816168910938, -1.3647651658578304, 0.3426867727682646, 0.4516245390607686, 0.6317573945916989, 0.3866107192596123, -0.853095077050822, -1.1051566281901515, -0.0221946411335875, 0.6108036564087762, -1.3057812030528753, 0.6734084219061979, -0.8127863790468526, -0.10650451288568298, 0.6786643919573356, 0.7096687265545223, -1.269700350765298, 0.18428780301107783, 0.7508194167459145, 0.8069369053230314, -0.4666743812253687, 0.20319327950446045, 0.6811667477311864, 0.37942413936336133, 0.7001117874767893, -1.5155444861689733, -0.5561816516338591, -1.138867121296247, -0.5561059757944165, 0.5613095348905068, -0.9805065560510707, -1.0714447947319592, -0.6586865775716554, 0.8597981288024877, 0.36167050763612024, -0.5576896360977968, 0.5814568872155976, 0.09705940233574005, 0.6048756685619675, -1.3388196783632995, 0.8110991979706824, 0.5546752632705333, 0.9840753450260382, 0.48704444789606743, -1.0638455387375962, -2.3608698295637, -0.3280951130043043, 0.7979089131052081, 0.20354959771337555, 0.3154267043645788, 1.2901020364204578, 0.20005915307912903, 0.899145980966585, 0.8458885401552307, 0.1295140681439132, 0.5868777719126909, -1.5579754912920265, -2.422849764196066, 0.43352654032682497, -0.2841996554217842, -1.1068399264803193, -0.4052570586994298, 0.4544953216053907, 0.38554691327680224, 1.0123802871409253, -0.7107595012164619, 0.7279505722060301, 1.0450116405583256, 0.574244189880311, 1.0753812699702447, 0.825442025949999, 0.5888752751786426, 0.6646768355458473, 0.8617956320684396, -0.9307956695616505, 0.4535396454177303, 0.29778378867288874, 0.5904504436736607, -0.9278686075470741, 0.545393619275722, 0.6472353511194232, -1.7118162416799063, -2.4373227767459644, -0.3734686836300854, 0.6848132833098122, 0.9737123107007154, 0.6880242943266198, 0.6945416124498677, -2.9461794875386342, -0.17824965975856988, 0.10515188895400596, 0.5962440634583088, 0.8946852016019113, -1.518627639127929, -0.694244993003632, 0.6441068578395809, -1.795624138046924, -0.3165297660994935, -1.0911537380727783, 0.5785298252010214, 0.8578267429755718, -1.3878849551063261, 0.8978093003249364, 0.9398786447038273, 1.0419699387442904, 0.6977977077652616, -0.5668265323293846, 0.870635853604791, -1.270274637946094, 0.27113520796127955, -1.0590170731096042, 0.8260204516653122, 0.8127303553254129, -2.195850857063568, -0.7915036075631122, 0.6563288888341778, -0.3988421345856372, -2.3848538055515265, 0.3365423105605469, -1.4324111941102062, -0.5303966496405244, -1.084497743570586, 0.5338106880232096, 0.9178830794426133, -0.7364530137614671, 0.16632831087381192, -1.4840397282086464, 0.6394485363856071, 0.9132984520240287, 0.8858558846266859, 0.47616340585990286, 0.08409972153632937, 1.1965146592080682, 0.9636549482598423, 0.7183003316581811, -0.8863227724244506, 0.958357527063784, 0.3547073724975957, 0.6678942357389887, 0.720748949214136, -0.41009741504918107, 0.955580045989278, -1.4599903802115264, -1.0155754526810334, 0.6061328780995606, 0.7060397753235981, 0.6993165967903253, -0.45755506934148277, 0.689382697850487, 0.6919544882972349, 0.2717602988261845, 0.8697473614482112, 0.9532511379527167, 1.0317215442184264, 0.48560778599772714, 0.793878617049926, 0.8538293649738763, 0.6847243763965131, -1.7041141953248722, 0.8900333901522465, 0.8263044006675433, 0.5829648716795355, -1.1665000456154628, -1.0148626589035594, -1.4487649711686592, -1.0545833669831872, 0.9387995050151322, 0.8484645899644709, 0.6630192701418391, 0.8313850568924509, 1.084359492722423, 0.6139539933988124, -1.5641915666755835, 0.42756428650252243, 0.43709921208779473, -1.0523625887417754, 0.6383134078371996, -2.0734130713575367, -0.4463968443296959, 0.9098081771720489, 0.8245796512324548, -0.4020915088314838, 0.6230255176211065, -2.2498497916264624]}, {\"hoverlabel\": {\"namelength\": 0}, \"hovertemplate\": \"contraceptive=Use<br>pc1=%{x}<br>pc2=%{y}<br>pc3=%{z}\", \"legendgroup\": \"contraceptive=Use\", \"marker\": {\"color\": \"#EF553B\", \"symbol\": \"circle\"}, \"mode\": \"markers\", \"name\": \"contraceptive=Use\", \"scene\": \"scene\", \"showlegend\": true, \"type\": \"scatter3d\", \"x\": [-0.4833710158149324, -1.7563602759806023, -1.4645989635287033, 1.720733168996962, -1.151229951197095, -1.8912168142510324, 1.4892596542325691, 3.2899894033482266, 0.5346661591766383, -0.4472660881858848, 2.7511802525447644, -0.41247795008126975, -1.7951223771101257, -1.2071754031608766, 1.5902035514872626, 0.17534997720859774, -0.026753560255945014, 2.156369634493529, -0.11005594442253067, 0.36250352947985814, 2.8476983558987046, -1.1956190393457988, 0.981858988488283, -1.5705115385241566, 0.5915924837149166, -0.9356606265168167, -1.6615015279989391, 0.06513722618369404, 2.1308192925967564, -2.3772247984294825, -1.659592104598281, -0.677033525218723, -0.9540249969501424, -1.6659776500248813, 1.0202677540817295, -1.8585842369419774, 0.025343306720314412, -1.6730578918140169, 1.325897312389244, -1.489419762513561, -1.974519198417618, -1.7332475483504468, 0.00623035896603939, -1.1036493823179048, 0.8044227073083988, -1.7291545386661569, 0.2149417560242593, -0.4651279218179228, 0.5899073114916678, -0.8413044153364411, -0.44204511263980967, 2.3356162288362254, -2.31255901986711, -1.1094275642254436, 1.603061975183937, 0.9653541204518045, -0.9109379686830352, -0.40051519699283294, 1.782512818152275, -1.8829008833026535, -1.723376356758618, -0.8265597694354092, -1.2761835274469733, -1.201548416141696, -0.6219145522965474, 4.42727429698224, -1.7349327205736957, 0.2754823766733648, 0.4707319171493282, -2.4131959497563122, -1.7002636291284623, -0.5386121681299618, 0.6175621540698648, -1.7708057307494496, 0.09299631738753215, -2.0796322503327627, -1.7175981748510791, -0.3985366479366037, 2.3071738344389736, 5.014867935395412, -1.5047679512575967, -1.5734006294779261, 0.503961973766215, 0.10769696654137993, -0.28091651423771424, -0.7679713639127606, -0.6314614238478043, -1.379709548289945, 2.773886000778252, -0.7649310780706325, -0.10998681876695929, -1.667279709906478, -1.2510372034001591, -0.8159280258130134, 1.1287164622951293, 3.4388853849143985, 0.2565929481075521, -0.7778766973567135, -1.7060418110360012, -0.780206210525618, 1.2669115745833344, 2.5255361025450926, -1.8829008833026535, -0.7176528989681593, -0.7105746508021711, 0.8304454314006295, -1.7204872658048485, 1.196369472962347, -0.22559649133442997, -2.5628492847085194, 0.9740184306031966, -2.42475231357139, 0.4393492489411251, 1.212521005462749, 0.01572730951348598, -1.030496475367027, -0.784476231949239, -2.4548471418396054, -1.7522672662963124, 0.6856215540104418, -1.9889646531864653, -0.90498858933537, 1.2301830698704699, -0.3889588331777551, 0.5771470289460693, 0.6187982210293621, -0.8101498439054745, -1.667279709906478, 0.4182286608997097, 0.3336126199421637, -2.4849419701078204, -0.417801522568184, -1.3350180703645242, -1.7650275488419107, 2.4302191923095795, 1.6088381634683286, -0.02881297352357622, 2.9271339751815564, -0.021126573236764538, -1.693281528490403, 0.7442539562802746, -1.257645062993836, -0.6866784720099957, 0.31507415548902645, -0.27126564318981505, -0.7263201718294677, -1.5409421461886827, 1.01737866312796, -2.3773229395805586, -1.317512327201781, -1.9089027018865785, -0.9697725116005862, -2.572720476300348, -0.9498512647009172, -2.091714050080581, -1.835471509311822, 3.6622652828974895, 0.1163642394026883, -1.35813079799468, 1.012783494442636, -2.1687128164068867, -1.3135905149576177, -0.2319001091747097, 0.4150326025804489, -2.3570993029041722, -1.2597044762614673, -1.7666145799140835, 1.5654287428727367, 0.7038807199257403, 0.3172847636450162, -2.0219485724084496, -1.8788078736183635, 2.0911035557790463, -2.1413799883569204, -0.9252322285635239, -1.9646480068257892, -2.578498658207887, -1.3639089799022188, 0.7309915147336422, -1.7262654477123873, -0.13605776300645558, 1.5615619779890029, 0.5961876524002406, -0.7858331975447984, -1.7765839126569885, -1.699059710397942, -2.076743159378993, -0.24242465465593116, -2.1573076474801676, 0.6493952082986112, -1.5149174284733045, -0.8168365740874065, -1.1377641639813594, -0.060998395364836165, -0.03732905149652606, 3.0591943713816137, -1.8441387821731303, -1.8553438040752785, 0.4179216935342183, -1.0024610603664432, -0.5807456266199426, -0.3501967320482318, 1.6448643621555885, 0.9203556751608925, -0.16454852036064568, 0.199587752981019, 1.3423763635747499, -0.3437400673429132, -1.2430484133366304, 1.8683954550270379, -2.3929723130799263, 3.373336284805297, -1.8730296917108247, 1.911076094020786, -0.8563752991657856, 0.9770295309262641, 1.9727836559738174, -1.5319006322829918, -0.8189683116551414, 2.4260940343963124, 0.8223054464487424, 0.14151056344950255, -1.282719062740547, 2.154159994261102, 1.8872194807940603, 0.6121903614356851, 1.4892066004952864, 4.442923670481608, -1.4875604962705007, -1.0958906577309895, -0.9527403556546865, 0.4736901337586689, -1.1891623746404802, 1.7052028421569758, -1.6701688008602473, -0.41609544483662936, -1.2728208492763606, -0.4953739449744962, -1.379709548289945, -0.09199654773154899, -2.4188759905127752, -0.09144515566928975, -0.49917357782580596, -1.0622993749899439, 0.9287205582454837, -1.9089027018865785, 3.074941886032057, 2.223167150623636, -1.1007602913641352, -0.9310104104710628, -1.0533309173733036, 0.21086965184827505, 1.331441205420088, 0.643970361927149, -1.3107014240038481, -0.3626085904004201, -1.5637536890635062, -1.3193686968651566, -1.5608645981097367, 1.0349335293945066, 0.3040223220983838, -2.4391977683402373, -1.831378499627532, -1.151229951197095, -1.8124569228327423, 1.0731152888773263, -1.681725164675325, 2.5688933723599403, -1.5781991438323533, -0.4392772981223562, 1.3556388051213824, -1.0750596575355422, 0.4477173306702486, -1.5321007793075627, -2.076743159378993, 0.6821022004061582, 0.18861241875523005, -1.168938737964094, 1.6879513904226953, 1.8254422030621484, -0.29904858941749235, 1.4620539169181235, -0.9533465141523627, -1.6285176087769546, -2.4461798689782968, -1.5734006294779261, 2.834931151851793, -1.7349327205736957, -1.1891623746404802, 0.5961876524002406, -1.737821811527465, 0.4939636914388655, 0.5301149872384985, -1.421766751846343, -0.5677293224682124, -1.7262654477123873, -0.28186523858323415, 1.1992585639161166, -1.8730296917108247, -2.6201498502911797, 2.2608443796820206, -0.9497000698125586, -0.9583673426738669, -0.01595454982690177, -1.18984085743826, 0.736265166216746, 1.3296369865374573, 0.35439443090357653, 1.154108923736846, -1.9804485752135155, 0.15017783631081089, -0.8980264912490784, 1.4551468661922617, -2.148489179730501, -2.2016967356288712, 0.7550529667093178, -1.3322801742991133, -2.3831011214880973, 2.159258725447298, -0.44777730417701717, 0.573074924770085, -0.9310104104710628, 2.525782239939995, -1.5483073591683942, -2.348432030042864, 0.4209876984080427, -0.09425537603480427, -1.1532893644647262, 1.7041029229230973, -1.7191852059232517, -1.7291545386661569, -1.3165326596486695, 1.0532516733037138, -2.3628774848117113, 0.6939354913356734, 1.1294207619438814, -1.835271362287251, 2.0028784842420326, 1.0448047209863354, 1.0619189461650222, -0.8104522336821915, 0.5887033927611471, -0.3493670543620935, 1.1481104212853772, -0.5213757635584212, 1.5127257173988014, -2.513832879645515, -0.6637169392681987, -0.4943039441926602, -1.631406699730724, 0.7154611878936562, 0.08493520302389983, 1.6794353124497456, -0.5456924099190973, 0.5570252562775404, 1.0345620139622183, -0.7581552196813613, 0.7054918551507512, -1.3006050005254228, -1.2460886991787583, 0.021505491421024907, -1.631406699730724, -0.3729063447849668, 1.4042511923344287, 0.6032678941893762, -0.7174286477907503, -1.3710422754286367, -2.4749726373649152, -2.118394351462286, -1.4134508208979641, -0.43349911621481735, -0.5976960470869473, -1.3610749363088792, -1.230515278548126, -1.7118199929435403, -1.9976319260477735, -1.5118771426311768, -1.3739313663824062, -1.6285176087769546, -1.382447444355356, -1.7406127613301585, -0.8123604520614642, -1.667279709906478, 3.128149441930428, -1.7147090838973096, -2.2148111809316773, -1.3737801714940476, -1.6797176001235912, 0.6133710032344988, -0.7980661921809755, 2.1014560008636036, 2.156369634493529, 0.4206595895996293, 0.6737118546592874, 2.186464462761744, -2.477861728318685, -1.7175981748510791, -1.2481481124463896, -0.7771659246834901, -0.13583744246252577, -1.8124569228327423, -0.6283020913462946, -1.4602276682205344, 1.468708498871079, -1.4761553273437813, 0.09417613196521464, -0.4710572986138201, -2.4375125961169886, -0.33899370376923055, -0.8074119478400635, -2.101059805739669, -1.0044966504062494, -1.3532611643615342, 0.15429666284607335, 0.5421504188157318, -1.260382959059247, -1.8240132866478203, -1.3680019895865088, 2.5988372416744125, -1.3135905149576177, -0.6594727346955501, 0.19834969239837424, 1.875407332470673, -1.9361084392010242, 1.071618037360187, -0.8749137636189228, 0.7577908627747286, -0.9024218907100854, -0.33583014786763943, 1.2796718571289327, 0.48723678518580654, -0.49241572836515546, -0.9726616025543556, -1.9889646531864653, 0.9894135788043327, -0.7197123122357906, 1.0177319986640367, 0.8010290859301943, -0.30470772466564944, 0.5354958368627766, -1.9406827023780424, -1.3120565376227273, -1.805376681043607, 3.985401487324285, -1.8066787409252034, -0.5569763024095006, 1.9823996531806458, 1.4367563979829507, -1.8441387821731303, 0.3420045248991124, 1.410905774287384, -1.148189665354967, -0.24036524138829998, -0.8837322313685897, -0.2776210340105857, 0.5857071036662034, -1.8066787409252034, -1.8643624188495163, -0.49826303592826565, 0.9620068672441852, -1.8082657719973763, -1.6944854472209234, -1.980297380325157, -1.3265019923915744, -0.8060568342211846, -1.0208515285757545, -1.7765839126569885, -0.40287700003718113, -1.9031245199790396, -2.0452124949269637, -1.803789649971434, -1.9357570972880946, -0.18331987019063994, 0.07182395636562595, 3.7183619297496295, -0.9107867737946768, 1.2812990642722324, -0.4741784486673502, 1.5305393308835735, -1.3667980708559881, -1.0971927176125862, 1.4011558591318711, -0.711723522172262, 2.1679259983086068, 0.16057631581206094, 0.8282348232446398, 0.7131524385865904, -1.611183063054338, 0.5989255484656515, 0.6968245822894429, -1.101212671007826, -0.8864701274340007, 2.1279832553802693, -0.41413097407554184, -1.099202209876407, -0.72106927783135, 1.1178643981288037, 0.6939354913356734, 0.5169252241806626, -1.188839982311995, -0.3552964311579909, -1.0742621280783806, -1.3652640935210978, 1.0062774988568162, -1.1753954026694127, 1.0573237774796982, 0.1857233278014606, 0.5076807424061227, -1.3711471021464101, -0.17894857488247093, 0.1848147795270676, 2.0086566661495713, -0.5144696157890972, 0.9451304837754183, -0.45867125711260404, 0.2758357122094415, 3.3802529826445658, -1.637184881638263, -1.4586695867328061, -1.1830618004044562, 2.7234163409452927, 1.4327914919481406, 1.4443478557632183, -0.27405346025903654, 1.033126177778404, 1.8716885638307652, -1.388225626262895, -1.4775622139431512, 1.1460510080177462, 0.9673786598783648, -0.006529923579558966, 1.0116004812204211, 1.0028801546218304, 0.6088948812085565, -2.578498658207887, -1.3351692652528828, -1.069107381608192, -1.3739313663824062, -1.2229759715486028, -2.1960697486096907, 1.8795261590059356, -0.35225614531586297, 2.773886000778252, -0.4838175811594185, -1.2526242344723317, -0.3085455399649389, 1.7837910109788557, 1.5626468500601416, 0.2367202755438414, 0.22516391172876365, -1.6730578918140169, -1.4401311222796689, 0.06699449880360712, -0.4073000683258409, 1.1652937721196355, -0.5802633602132545, 0.3617260025744645, 1.7606782833487, 1.6707680395884372, -0.40561489610259205, -1.0316781300798004, -1.6846142556290946, 0.033436096280484925, 0.13847027760737465, -0.4787967526379141, 0.4369183202412054, 0.371524137877243, -0.018086287394636708, 0.030172764282333214, -1.332128979410755, -1.5234335064462545, 1.7121640372867295, 0.48185593556152845, -2.348432030042864, -1.803789649971434, 0.2985951043035203, -2.6016113858380425, -0.5428033189653279, 1.1077612890836812, -2.0722670373530505, 0.12503151226399659, 0.49590405804711485, -1.5278806788877524, 1.4048284012476606, -0.3321837035278354, 0.5307934700362784, -1.026531569332217, -1.699059710397942, -0.4351360682908006, -1.6342957906844935, -0.6904471616537138, -0.6179956366320689, -0.8182898288573617, 0.44942340840180334, -1.861473327895747, -1.5724209619248144, -0.9497000698125586, -1.0684839461708417, -0.4623900257525118, 0.9764523220130324, 1.4417772265044548, 1.417866969417138, -1.0856363537975082, -2.0047652215741913, -1.8140439539049151, -1.8211241956940507, 1.9467818373898924, 0.5220249232904218, -2.4791637882002813, -0.66831410157667, -1.917569974747887, -1.5550864162021978, -0.8322858005622034, -1.1957702342341572, -1.5762897204316955, -0.30703737948102094, -0.3014103924618406, 2.1117245247386935, -0.8591662489684789, -0.3408509763891437, -1.0903347899905276, -1.7464890843887735, -1.7881402764720662, -0.8218574026089108, 0.9346499350413812, -1.6788360737215557, 1.017676951303607, -2.1573076474801676, -1.7621384578881412, -2.20747491753641, -0.28764342049077307, -1.0838781252852092, -1.6381645491913743, -0.44133671138998737, 3.510782600154265], \"y\": [1.0192842479638438, -0.44202843876978354, -0.6697550816011355, -1.3641391119580422, 1.6592434238242935, 1.373788012418933, 0.8049608765002859, -1.6075508707543005, -0.4350691654533905, -1.4776146994027095, -0.34197645612148764, -1.2886967841911456, -1.2045580325457326, 1.050309544283295, -1.3813067772055625, -0.22085524938560286, -1.005125858470317, -1.8971072382961287, -2.3638336915535616, -0.184332285695929, -1.1860451925152586, 0.7176068353459878, -1.3007400007287837, 0.05158615340418677, -1.106630565353256, 0.38606431338514147, 0.5839766853761543, 0.4236886012668896, 0.2778183322196137, 1.7396476977585047, -1.1407703252104047, 0.03426216135346256, -0.2854050414950158, 2.5114015323361225, -2.0472947876905185, 0.5425669612785733, -1.2583467921478988, 0.9166793943134611, -0.4865460861628466, 0.9038910826229135, 0.015080179335688337, -1.1074338566443975, -0.0762449102257146, 1.8267876367262526, 0.2799742650640055, 0.6532038639434725, -0.39336258587950806, -0.7344404040689138, 0.8203585097032674, -0.002574212682873542, 1.370806534140396, -0.045779721252679054, 1.8363361017563955, 1.9931389911949062, 0.047064006348444896, -1.7367228675926778, -1.104841945508025, -0.3750335562308957, 1.2902147303807576, -0.6358410186690098, 0.48685250947481923, 2.0637149342438486, -0.37881832580057406, 1.229416538985651, -1.5948512602760596, -0.8833158708920807, 0.8195552184121261, -0.5248275112749927, -1.3840545943902531, 0.976682332079111, -0.1785529083997948, -0.23614342719281475, -0.3227272692677024, -0.026150052598149745, -1.3275739707152172, 1.0828512566183723, 0.32050115500616566, 1.0474789738088528, -0.26216823460919236, -0.13753267480073686, 1.7071059854234274, 0.13476183063851352, 2.289712330792832, -0.15162807081828444, -0.3520233193047861, -0.15541284038796294, 1.5499462002995976, -1.1552964182435315, -1.0635750149092131, -0.5840468667932993, 0.7834258490727453, 0.7503280398448078, -0.1354472761228456, -0.4242951705330968, -0.445215904929545, -1.1699314692739013, 0.2859913306621144, 0.033802803334593574, -0.012201553931141376, 0.7668684496481887, -0.6668459392985087, -1.7868007355990672, -0.6358410186690098, 0.2744140444506793, 2.120153801120619, 0.801159117309432, 0.4036768322404924, -0.5144430834968634, 0.5837706974949298, 1.4482751700544994, 3.338816607443536, 1.3093850410164183, 1.930305482954814, -1.5875445973706535, -1.260808872198549, 0.3788075179462924, -0.5913957072518568, 0.29732841553748857, 1.3186092818180868, 0.8544114890625361, 0.43095856550732214, -0.8062327916665866, -0.5205990655221151, -0.7077362651682028, -0.6907521791816226, -0.01139826263999999, -0.5906465250017503, 0.7503280398448078, -2.3771995976102285, 0.6474244866473383, -0.7147282099414412, 2.0015141004470047, -0.9045765281072459, -0.19250140706680333, 0.5785739128091376, 0.13173027052707006, -1.8569871115058447, -1.6367506341971976, -0.8260188637679612, 1.4989091349537487, -0.4743730385394859, 0.9659410086156625, -1.6087997589430678, -0.6973348477688981, -1.5595381446408672, 0.5239410761536595, -1.3697492000379254, -1.964119110456192, 1.822387603089387, -0.9386700832031143, 0.11274007643993116, -1.6306001478146965, -0.1460111960647177, -1.5219131901129646, -1.0178380133653626, -0.12283845659604069, 1.2213811461637323, -0.40115510252126474, -0.23917111023263163, -1.2237203055197086, -0.10950522199621941, 0.357007129074664, -1.6832699269574583, 0.7518975030072311, 1.2401578624490999, 0.11407975558013471, 1.6517477626588382, 0.8316650154009969, 2.5106648214962135, -0.19093194390437992, -0.4979223827372807, 1.1247967019188607, 0.5899807885612164, 2.5435870156320344, -1.0344219085074007, 1.6093665454549049, 0.020340158403935764, -0.07281975576397813, 0.5155527980999773, 0.5700281867091459, -1.6152525964446214, -0.9777482593641872, -1.8470293702897393, 0.5877614549458325, 0.14020130187050373, 1.6652604894224023, 0.9996755793840452, -0.4310614183813122, -0.09674958176251679, -1.500378162685424, -1.0995819664397772, 0.8303754180936997, -0.3982062956995728, 0.5370867809280536, -1.9529184289738741, -0.02802946339481673, 0.1266885751069396, 2.2194932834292094, 0.6687218257729044, 0.5390028903896943, 4.379200712905713, 0.05479332860774643, 0.380959573719058, 1.0584786656541694, 1.6639269725711034, 1.277186388918922, 0.006351995217862269, -0.7011366069597519, 0.20460427327301894, 2.426813839985682, 0.3944525914388237, 1.1213082968226347, 0.9584453474502074, 0.3610109990751158, 0.7401643107474779, -0.8823995345064998, -2.606384460318974, 1.1595740963511454, 0.004338855872239672, 0.3504205834157621, 0.8065659170845771, -0.1577840528435361, 0.6967452681238662, 0.3219972375932145, -1.0239222837994828, 1.0899900220985077, 1.0676793203404134, 0.5446191407584825, -0.349808012897531, 2.831931193650069, -1.4387375128786377, 1.6800292690017276, -0.03832310022151032, -1.6050480815851205, 0.8335037170791345, 1.3442909727448484, -0.6879501930668283, -1.4010386803768335, -1.1552964182435315, 1.1025394680624496, 1.0602937812168822, -1.0448990479513929, 0.1878252041315683, 0.27499163881679795, 1.4998683322932083, 0.11274007643993116, 1.317165642924864, -0.9743822720767775, 1.7436119594919257, -0.8680705540387476, 2.2566145215648943, -0.884234359113011, -0.9749557793456992, 0.17505757252091356, 0.27383145184033736, 1.3794481823317228, 1.5268061322877655, 0.5233584835433175, 1.4436304550534387, 0.3386280175931455, 0.7989938927350834, 1.7252634271880518, 1.6377992639918297, 1.6592434238242935, -0.7055039691397722, 1.607996287137057, 1.1662064260164418, -1.7646699467596008, 1.9426845184593995, -1.1375631500068448, -0.9835738414216012, -1.2361190500680923, -0.8013890818465219, -0.9459862522048267, 0.9996755793840452, 3.4046593406676475, -1.210781086025066, -0.620552840861798, -0.4384773302939514, -0.013613569047255136, -0.4504167168234657, -0.29027142621297025, -0.8749836225938606, 1.512857633620757, 0.047801383834508264, 0.13476183063851352, -0.03141390873802367, 0.8195552184121261, -0.03832310022151032, -1.8470293702897393, 0.9027308956464529, -0.8624339702413825, 1.1956728865128816, 0.8346639040555951, 0.6443888993277666, 0.5700281867091459, -0.6040124310584167, -0.5976187607311902, 0.9584453474502074, -0.6590137581376867, -0.8686400340995404, -1.867371539283974, -1.617844507580994, -0.4286163279518373, 0.5512554808773343, -0.8144245879353507, -0.2349927463126603, -0.22407046225084673, 2.543041121686666, 0.5268898829753514, -0.4073110845465164, 0.06081039420585536, -1.6710506745728182, -0.6917349626365066, -1.0383861702408221, 0.10213649197899387, -0.6422938561705629, 1.9887389575580405, -1.9802829155304553, 2.1764835169915604, -1.181623952415125, -0.8680705540387476, 0.9580852413394155, 0.6408513241563691, 0.9906308307461195, 1.306831296979641, -1.2813570290740084, 0.8073821707887655, -1.5115788441677416, 2.164750324731807, 0.6532038639434725, 0.7029012501491179, -1.1184138394459158, 1.406509216917753, -0.9041999233781283, -1.0917097005452048, 1.9827218919599314, -1.5943278348400445, 1.9329143837123621, -1.3679408711488963, 0.10027017334026901, -1.0234548881189294, -0.8802436016621079, -0.092408715299978, -0.6524575852678929, 1.648639839363356, 0.11702856240182667, -1.9287468276466726, 1.2761444382897111, 1.596033310855084, 0.2746438284728992, -1.6418008292970143, -0.5344086477619808, -1.8308655652154757, 0.3160799149060324, -2.117714824691143, 1.9526095882186598, -1.236902632315435, 3.3432378475436693, 0.6332382996783552, -1.4271602266672025, 1.596033310855084, -2.1574449635843767, 0.10347617111919745, -0.2523072322670783, 0.4766561089206442, -1.4048234499465118, 0.7968182508468933, 0.32032166284242286, -1.1749651270323473, -1.3039145044754985, -0.3337033749975942, 0.3577406294891009, 1.305143426461957, 0.15414980053751215, 0.6804855972103023, -1.528215992845114, -1.3216477727121851, 1.512857633620757, -1.4175790901802148, 0.9031666675498972, -1.0970494288662684, 0.7503280398448078, 1.6638168505291795, 0.23732547777183893, 2.7791655486680065, -1.6671061218831948, -0.641280489901, -2.0006250845246902, -1.167469465866892, -1.586535318198288, -1.8971072382961287, 0.9310044977095872, -0.32197018273784084, -0.8850506128171991, 0.87999392808122, 0.32050115500616566, -0.21862295335717233, 0.3382344232428524, 1.1865485950106764, -0.7055039691397722, 2.308338215917746, 2.303284224730723, -0.17880897811392565, -0.33705237266382826, 2.4195577111929873, -0.22263070042925054, -0.20172564786847205, -1.7869937610672444, -0.3283638530650674, -0.17873240056353776, -0.11875595851536967, 0.8491481239255113, 1.2964114215245388, -1.2586436476242002, 0.7036583366789794, -0.37280126020246523, -1.8334574763518483, 1.7448273031891575, 0.357007129074664, -0.5135674562298119, 1.2168750009384985, -1.092871064946297, -0.982492226273325, -0.6979621032130373, -0.6045950236687587, 0.36441916391567675, -1.0089106280399955, -0.04145139920694517, 0.8442647495863814, -0.9480717275263595, 1.663045183015147, -1.5474244705803697, 0.43095856550732214, -1.8991215550663822, -0.5774472085848485, -0.4550347297185079, -0.8004760892683422, 0.9029606796686727, -1.370106095723245, 1.0276725260175257, -1.2245235968108499, 0.8892181688828886, 3.2073833824688016, -0.8718553236084258, 0.581572801463736, -2.6039223802683233, -0.18818412671968932, 0.1266885751069396, -1.890167674023534, 0.21493861921824192, 1.2306093974189567, 0.42079983465421533, -0.009609642794768725, 0.8111669403584439, 0.29552238531619607, -0.8718553236084258, 0.7089183157472267, -1.317863003142507, 1.7378325821957916, 0.9723938461172156, -0.3449042628684484, 0.18143153380434188, -0.8086452106392165, 1.16999119558612, 2.0218694382428235, 0.14020130187050373, -0.5359781109244042, -0.053611278028722356, 0.512941384308343, -0.9550310008427524, 0.7776097731116374, 0.9362644767778348, -0.9973333418285605, 1.4848566765337208, -1.4503002946790347, 0.5066752802411673, 0.7766546029803063, -0.9720280492423797, 0.010355921470348667, 1.0708577011587543, 1.0458462600119396, -0.2373956591889839, -2.2298099472334356, 0.9428550496448651, 0.2947562134449142, -0.1490191700607364, 1.0138035702147965, -1.5847466983530567, -0.987375600612455, -0.14207960578814166, -0.2718923147314516, 0.09827556561381319, -0.8941921003291163, -1.7412370504795958, 0.6017099536128411, -0.7590069916078979, -0.9041999233781283, -1.1823810389449867, 0.08117905891757198, -0.3684338980224448, -0.6386715891434518, -1.5711748044151652, 0.3022703326661667, 0.13537709470570053, -0.6275420662124132, -1.1276054087907392, 1.271499723288651, 3.4956407033453143, 3.909303783109693, 0.12706517983605714, -1.7606791893086982, 0.26897457321868895, -1.1544931269523904, -1.490370339636412, 0.9842568694626911, 0.15885305832812066, 1.7623846653237374, -1.1815647852407987, -0.08517229555108159, -1.1479435505768458, -1.9148574961539908, -2.247560205091298, 0.13841268202527252, -0.618924004136511, -0.07465845744211572, -1.251227735711561, 2.802338288136683, -0.9442699683355057, 0.3251152908295813, -1.5873555991106045, -1.7977677559875385, -1.2855222804444308, -0.07320023756472215, 0.020340158403935764, -0.5591181789362363, -0.7291804250006663, -1.3216477727121851, -0.03216711819625877, -0.859279175538466, 0.6108514411247584, -0.7970679244277812, -1.0635750149092131, -1.7337413893141407, 1.7088018936027958, 0.7341472451493688, -0.6929674855888777, -0.320960903565475, -1.287357105050942, -0.9546543961136351, 0.9166793943134611, 0.16319454917543805, -0.5789928756062764, 1.128728292195437, -0.24600442953492888, -0.9154973437344373, 0.028639110860532342, -0.02756206771426351, -0.2848816160590005, -0.798260782861087, 4.99331820833092, 1.2493821032507684, 1.0189873924875417, 0.2708499735618002, -0.9908805043270071, -1.3778986123650017, 1.0752250633387748, -1.2546528901732974, -1.676687258370183, -0.9877522053415727, -1.1955132839078069, -1.1973519855859442, 1.617707254709767, 0.9906308307461195, -0.9550310008427524, -1.1902329291496068, 0.6857455762785497, -1.9140412424498026, 0.989310860649714, -0.927749267575923, -0.650682134224245, -1.1975987592293396, 2.3725114032980414, -2.10087755941146, -1.033839315897059, 0.606094305414037, 2.1054808873805944, 1.6652604894224023, 2.5005681638529653, 1.6792089880894108, 1.3696463471639355, -0.5075035192242686, -0.5852397252266052, -1.458612209548678, 0.6257426385129, 1.7763331639907458, -1.867371539283974, -0.8050229436121054, -0.47215773213223083, 1.3219541960241579, 0.5546767582674442, 0.622634715217418, 0.7381549922214471, -0.6515180969722316, 1.1387452005858691, -0.45597693743679196, -1.8578033652100332, -0.7591538123147956, -0.8810795644100945, -0.9373304040629108, 0.36226710814291135, 1.2772791005847852, 1.5080007549991088, 1.0630651845169976, 0.21793750787284022, -0.7904682662193303, -0.6113612715169743, 2.407178675688402, 0.740600082650922, -0.7843122841940786, 0.11479626637339611, 1.1522579273494333, 0.4729040108078107, 0.08751453310656641, 0.988058628653545, 1.083030748782115, 0.058701332768897906, -0.09674958176251679, -0.2756770843011302, -0.8720348157721688, -0.43766107658976316, -0.6411336691941022, 0.12081333197150508, -1.9894244030423724, 0.176020723575641], \"z\": [-1.3234086152564135, 0.9497192421735495, -0.8677946867323312, 0.254830346694235, 1.0878089915926, -0.46724608587113453, 0.29762769772850933, -0.2782760967197344, 0.8731706220513772, 0.8369401888237296, -0.0839194475657631, -1.1117126414356522, 0.9612845890783603, 0.876164868097034, 0.7813188988352022, 0.9009531273106637, 0.9060187404399282, 0.3770428756207533, 0.9042939910048398, 0.5771040678638071, -0.3477793545766587, 0.9258757545864542, 1.0450940374673157, -0.6321063848918568, 0.7785238334129945, -0.5273871907169579, 1.0011548780980581, -1.0841987514727118, -1.006538194436233, -2.15598056804387, -0.6586865775716554, 0.6445250540759976, -1.0784268545702824, -0.8738458474699327, 0.6282407116904415, -0.989144840941305, -1.468916752638509, 0.9514439916086381, 0.7118938993527508, -0.6518139878805789, -0.468970835306223, 1.0491410151523899, 0.8695979502904074, 0.9648836688886079, 0.9808168782408523, 0.8884430087793186, 0.7317400089381507, 0.6227353492248083, 0.592970383795213, -0.8127863790468526, -0.5243040377580022, 0.02950521553045048, -0.3786768660196312, 0.9400282256438979, -1.0191154969986584, 0.8128799362654834, 0.9336516647591443, 0.8716626375874394, 0.013080115906399892, -0.9154408859247192, 0.9132984520240287, 1.0108160232070333, 1.0852218674399672, 1.0496634520079906, -1.044933126435338, -0.2818337253850612, 0.8635875655346085, 0.7205993682740656, 0.6152387028872903, -0.45496794518885003, 1.012720225002869, -1.0432083770002496, -1.0587690210472058, 0.8875806340617743, -1.356204883319769, -2.420262640043433, 0.9381538952687387, -0.9072972894887107, 0.6401226350408281, -0.772241425238451, 1.1404469400965966, -0.6445341065142117, 0.8119052932182723, 0.788241257991924, -1.2419178455060114, 1.0018004878444515, 1.0540984984865047, 0.9965030666483933, 0.40719574006152176, 0.8655850688005603, 0.7851755195984031, 0.9762994348533481, 0.853870140955679, 0.8364441600174065, 0.3986137346412418, -0.3339149710559634, 0.7326023836556951, -0.7313093120399963, 0.987864781758159, 0.9610942321564871, 0.6364651949010762, 0.6341837426328933, -0.9154408859247192, 1.039946027429061, -0.7051538256009231, 0.67190043744226, 0.9257261736463838, 0.5113256039599815, 0.5071073224526182, -2.419549846265959, 0.5013601692062277, -0.50467883167827, 0.5629780048556411, 0.3382517262897505, 0.7492333436897702, -1.0797787480898409, 0.7695863866426192, -0.4558303199063943, 0.7890212358004782, 0.9876072408052055, -0.5311094434179982, -2.4152642109452485, 0.3172570423427584, 0.9213735240768597, 0.7163852253012193, 0.7172476000187635, 0.8612996032621165, 0.9762994348533481, 1.0565098034320561, 0.45282685164025643, -0.4069818081345183, 1.0987437718466604, 0.8611500223220462, 0.9124360773064843, 0.3239911254371572, -0.9140700677053621, 0.735943247349871, -2.1109414901045804, 1.0795173243508849, 0.8644499402521527, 0.6577479663848165, 0.9866624691786711, -1.1452172741317226, 0.5513862499015527, -1.1099987965616898, 1.002662862561996, -0.5168337994697618, 0.6158129900680865, -0.4789610137160159, -2.4380549668929263, -1.0272903805259146, 0.7095798196412232, -2.2837072831375975, 1.0938601523302014, -2.305852429338882, -0.8897230679624648, -0.2764691201579224, 0.8255244228589891, 0.7617282493432058, 0.8385977542277377, -2.4468428327232314, 0.7750183456831051, 0.646372976401879, 0.6366819598722271, -0.3919669623595305, 0.8165869760886139, -0.9501369266391514, 0.5962658725805607, 1.2862563202183828, 0.5728186023253633, -0.4946886532684774, -1.0761388922977904, 0.3388454857109485, -0.17724619590931762, 0.7228699159811225, -0.6048133984345843, -2.308562726382308, 0.7368728060984957, 0.8432495656774026, 0.9008707304016736, 0.7924444964036443, -1.1686210123824494, 0.5557390692533433, 0.7875956482455305, 0.8627251908170642, 0.8395944970074426, -2.4078349184210777, 0.9929454379830666, -2.2484888055675647, 0.6063123304603077, -0.9059402263169405, -1.0351334747296852, -0.5223215775876935, -3.2608623081708386, 0.5500169418165595, -0.2444833764869157, -0.9270062328295299, -0.4912391543983003, 0.6491096814945821, -1.298702752951774, 1.1766882778853702, 0.9098081771720489, -1.166896262947361, 0.5408328586543566, -0.8700650980880212, -1.201976233920716, 0.44325900800139745, 0.9256589896153034, 0.9001579366241999, -1.2580935527155663, -0.3679738938323646, -1.1565895080919921, -1.0512834490530805, -1.1796794259198111, 0.6624560573044358, -1.2351946669727387, 0.7043150258885096, -0.4950285911304209, 0.972659579061298, -1.4644532172511673, 0.7742557824399859, 0.5941726963747009, -0.9598543512180807, -1.5708257019441902, 0.030707528109938365, 0.8500399282417557, -1.2307487159330988, -0.39282084526871236, -1.1158596003774182, -0.8694108009914185, 1.0814324307078464, 0.5085479531032089, 0.9417265670297086, -1.731968023149756, 0.9638717132309931, 0.8635312860646541, -2.5734080112192737, 0.8202270016629307, 0.9965030666483933, 0.967743546872104, -2.1568429427614144, -1.3721339541374966, -0.9835883686579295, -0.7155277644873722, 0.8754023048539148, -1.0272903805259146, -2.0324900506984216, 0.14655352385400947, 0.9773113905109629, 0.6980144727364124, 1.003029208473217, 0.4716720799114344, -1.7663241260022446, 0.9867448660876612, 0.7874460673054602, 0.5168960695971451, 1.065018235644922, 0.750162902438395, 1.077445957267277, 0.4226177077295336, 0.7583202016179494, -0.5668174397900454, -1.050421074335536, 1.0878089915926, 0.8867182593442301, -1.256962562701676, 0.914160826741573, 0.39983363156843127, 1.0028796275331466, 0.8832279844922503, 0.25775740870881136, -0.592112922981366, -1.1612026244194045, -1.1291496967173174, -2.4078349184210777, 1.2858316139776569, 0.7154515280180777, 1.0287206183861939, 0.845182256382066, 0.5911893548901702, 0.7903059452889561, 0.3589039311227403, -1.0874314853717382, 0.9647340879485374, -0.418547155039329, -0.6445341065142117, 0.6526999376032536, 0.8635875655346085, 0.9417265670297086, 0.5557390692533433, 0.8511598439122534, -1.3831250138615114, 0.7751116471532211, -0.5391021185618392, 0.7580992981122816, 0.9008707304016736, 1.013515415689333, 0.5237533255823366, -1.0512834490530805, -2.309425101099852, -1.7896715847830171, 0.9452170116639551, 0.9079338467968899, -1.0644911484839898, 0.9507311978311643, 0.6114601707162958, 0.145907914107616, -0.0005156523179492659, 0.4003493886374564, -0.3451831378846866, 0.6314558612417661, 0.6615936825868916, -1.2697675347963784, -2.3598487813667464, -2.4104220425737104, -1.3127619225391014, 1.0222208846106475, -0.5038164569607257, 0.38947059724310834, -0.9501932061091057, 0.4563172962745029, 0.6980144727364124, 0.8672711231133962, -2.404262246660108, -0.3546837974924653, -1.6107382770800547, 0.644663730454942, 0.9177334985025428, 0.6721083787118349, -0.9244191086768971, 0.8884430087793186, -0.7657857896008579, 0.5918199215409207, -0.4168224056042405, 0.619602426800207, 0.890458096392972, -0.25560196237556854, 0.6554665141166336, 0.2867751446011723, 0.6291030864079858, 1.1585858845946095, 0.7660961117906395, 0.7521604057043467, 0.6432555574654294, 0.7083775070617353, 0.8023374495794132, -0.5312590243580686, -0.8971523604866356, -2.830310560160311, 0.9523063663261824, -1.1435488041665884, 0.7753758678927504, 0.6592559508487543, 0.7820814620783213, 0.13405724441757716, 0.8390224604684633, -0.5822285028969312, 0.6693133132896273, 1.3054568200573893, 1.0363733556680912, 0.7740887869344804, 0.9523063663261824, -0.3790430421485857, 0.531115434075427, -1.2695507698252275, -0.805448877858434, 1.0337862315154585, -2.219843925590734, -2.408697293138622, -0.9872969186154236, 0.9080834277369604, 0.5583824728759305, -0.6988858998921708, -0.10203425642879382, 0.9630093385134488, -0.5683926082850634, -1.042155645360832, 1.0213585098931033, 0.9647340879485374, 0.8354322043597918, -0.838287432037956, 0.8398672508383059, 0.9762994348533481, -1.9819167894914569, 0.9505816168910938, -0.3148135084727673, 0.872715369226857, -2.422700183255995, 0.7789485396537202, 1.0506489996163275, 0.5616821001957951, 0.3770428756207533, 0.8101805437831837, 0.5326083754437217, 0.3281943638488774, -2.232271647213089, 0.9381538952687387, 0.8662978625780341, 0.8248788131125957, 0.5246828843309612, 0.8867182593442301, -1.179902410285029, 1.1537370364364958, 0.3061946600531463, -0.9175055732217512, 0.9501853995591958, 0.7465230466463447, -0.3812639901722639, 0.5542310847894056, 1.0223704655507182, -2.3341309634044918, -0.8877392674400589, -1.0849939421591757, 0.9716068474218806, 0.662813579514081, 0.8255916068900696, 0.8370073728548099, 0.8975708124715671, -1.9079247469381226, 0.7750183456831051, -1.2064935075259537, -2.897802868938099, 0.2240469156027161, -0.9660141471316835, 1.0626695993456587, 0.7610154555657319, -1.1516910602505, 1.1195779702924558, -1.0572786209309697, 0.51305035339507, 0.8474528040891228, 0.7135362518788493, 0.6971520980188681, -0.5311094434179982, -1.2629415659024343, 0.869870534339004, 1.0211009689401498, 0.7117443184126804, -1.332334987683396, 0.715522850583675, -1.1639953183718201, 1.1092149359671328, -0.9385715797343405, -0.687658678827517, 0.9115737025889401, -0.8113768657052428, -1.5138350704397698, 0.7388987982732752, -0.9270062328295299, -0.6903147990330167, 0.47840616300583305, 0.9515935725487086, 1.1630209310731237, 0.8723754313649134, 0.7041742686500151, 0.5814677917767238, 0.9115737025889401, -1.0140002841860152, 0.8077992800405757, 0.5416952333719008, -0.9509993013566956, 1.0375756682475792, -0.49382627855093314, 1.0470763278553576, 0.7006015968890452, 0.7099635801178794, 0.8627251908170642, 0.9988734258298754, -1.0024349372812045, -0.44546728558107135, 0.9240014242112952, -0.48053618221103384, -1.029411347292901, 0.8122343265190898, -0.21346813732860292, 0.7850085240928978, -1.75138753860173, -1.0662969544759713, 0.7148948251849832, 0.7244450844761406, 0.9807344813318623, -0.7808555744937029, 0.9161583300075248, 0.42675376211017346, 0.6352518079781957, 0.6504680850184494, 0.5120383977374553, 1.0393004176826677, 0.7168099315419451, 0.6320301484225621, -0.5553192769163149, 0.7113045690763117, 0.5094104976030198, 0.6518762580079621, -1.1680080300794007, 0.8878797959419151, 0.8407472099035518, 0.619602426800207, -1.1350601002164247, -2.5806878925856407, 0.8759481031258832, -2.6989030435104637, 1.0586416747601686, 0.47605615292357273, 1.0128698059429393, 0.851887850567637, 0.7030238063957226, 0.6666852433729252, 1.1803172291162944, 0.9921203758759259, -1.168553828351369, 0.6803219573613437, -0.46731326990221494, 0.725885884908998, 0.6385861616680628, 1.125887347146129, -0.00405569663557449, 0.9274509230814723, -0.9915823841538672, -2.555832449340931, 0.517693341143159, 0.6510314676381195, 0.7007423541275396, 0.7075973594709145, -1.1721936841434193, 0.3692669654480632, 0.8105767611150817, 1.0791707067023655, 0.4731800643753721, -1.3671137159170605, 0.9930127917964137, 0.5909575468233764, -0.9747020317052967, -1.096052185914271, -2.308562726382308, 1.0097931629882926, -1.2168565418512765, 1.0213585098931033, 1.1357951286469317, -2.236923458662754, 0.5641979017828305, 0.7397326840819917, 0.40719574006152176, 0.8699378881523508, -1.0087028629899568, 0.9106705518895931, 0.590326980172626, 0.7560387493497664, 0.7321647151788764, 0.6824538286894561, 0.9514439916086381, -1.0901417824151638, -1.4680543779209647, 0.6522491139234924, 0.8664650278658061, -1.0440707517177938, -0.5412339898899516, 0.4909052071937855, 0.6219727859816891, 0.8378025635412738, 1.5707508477145666, 0.9017331051192179, 0.8083217168961764, 0.7303881154185925, -1.125427444016277, 0.8093072645045135, 1.0196752116029357, 0.9433019053069934, 0.8113719518015455, 0.8735777439444012, -1.0918665318502523, -1.4594723725006846, 0.9070416006586689, -0.3546837974924653, 0.9240014242112952, 0.820021141252906, -2.407984499361148, 0.7945091837006764, -1.2077520995753959, -0.5328341928530866, 0.8628075877260543, 0.884735968956188, 1.0410251671177562, -1.3079130743809877, 0.9753698761047236, 0.7661070163517656, -0.9919114174546849, 0.8395944970074426, 1.02417744211253, 0.9398786447038273, 0.9786697940348301, -0.5560320706937888, 0.9636549482598423, -1.3964151102014108, -1.0015725625636602, 1.0277350707778568, 0.9452170116639551, -2.674047600265754, 0.7838062115134098, 0.6038338414836761, -1.256466533895353, 0.7509018136549045, 1.0304453678212824, -0.2714791828681006, -0.9758547446014058, 0.8494350944771649, 0.592465531287314, -1.1012000261702588, -0.38212636488980817, -0.5941776102783981, -1.0645735453929797, 1.102301400511987, -0.2900252492591376, 1.0745188952527005, -0.6569618281365669, 0.7440181496204354, 0.917516733531392, 0.5102837768816901, -1.0269912186457737, 0.9380867112376584, -0.4966037596254392, 0.8138766790451882, 0.813014304327644, 0.9602318574389429, 0.7516146074323784, 0.926588548363928, -0.4270854586728717, -2.2484888055675647, 0.9248637989288394, -2.4352774858184207, 0.9886599724446229, -0.4807529471821846, -0.7448182542105964, 0.7131524914021931, -0.5305442487765415]}],\n",
       "                        {\"height\": 600, \"legend\": {\"tracegroupgap\": 0}, \"margin\": {\"t\": 60}, \"scene\": {\"domain\": {\"x\": [0.0, 1.0], \"y\": [0.0, 1.0]}, \"xaxis\": {\"range\": [-10, 10], \"title\": {\"text\": \"pc1\"}}, \"yaxis\": {\"range\": [-10, 10], \"title\": {\"text\": \"pc2\"}}, \"zaxis\": {\"range\": [-10, 10], \"title\": {\"text\": \"pc3\"}}}, \"template\": {\"data\": {\"bar\": [{\"error_x\": {\"color\": \"#2a3f5f\"}, \"error_y\": {\"color\": \"#2a3f5f\"}, \"marker\": {\"line\": {\"color\": \"#E5ECF6\", \"width\": 0.5}}, \"type\": \"bar\"}], \"barpolar\": [{\"marker\": {\"line\": {\"color\": \"#E5ECF6\", \"width\": 0.5}}, \"type\": \"barpolar\"}], \"carpet\": [{\"aaxis\": {\"endlinecolor\": \"#2a3f5f\", \"gridcolor\": \"white\", \"linecolor\": \"white\", \"minorgridcolor\": \"white\", \"startlinecolor\": \"#2a3f5f\"}, \"baxis\": {\"endlinecolor\": \"#2a3f5f\", \"gridcolor\": \"white\", \"linecolor\": \"white\", \"minorgridcolor\": \"white\", \"startlinecolor\": \"#2a3f5f\"}, \"type\": \"carpet\"}], \"choropleth\": [{\"colorbar\": {\"outlinewidth\": 0, \"ticks\": \"\"}, \"type\": \"choropleth\"}], \"contour\": [{\"colorbar\": {\"outlinewidth\": 0, \"ticks\": \"\"}, \"colorscale\": [[0.0, \"#0d0887\"], [0.1111111111111111, \"#46039f\"], [0.2222222222222222, \"#7201a8\"], [0.3333333333333333, \"#9c179e\"], [0.4444444444444444, \"#bd3786\"], [0.5555555555555556, \"#d8576b\"], [0.6666666666666666, \"#ed7953\"], [0.7777777777777778, \"#fb9f3a\"], [0.8888888888888888, \"#fdca26\"], [1.0, \"#f0f921\"]], \"type\": \"contour\"}], \"contourcarpet\": [{\"colorbar\": {\"outlinewidth\": 0, \"ticks\": \"\"}, \"type\": \"contourcarpet\"}], \"heatmap\": [{\"colorbar\": {\"outlinewidth\": 0, \"ticks\": \"\"}, \"colorscale\": [[0.0, \"#0d0887\"], [0.1111111111111111, \"#46039f\"], [0.2222222222222222, \"#7201a8\"], [0.3333333333333333, \"#9c179e\"], [0.4444444444444444, \"#bd3786\"], [0.5555555555555556, \"#d8576b\"], [0.6666666666666666, \"#ed7953\"], [0.7777777777777778, \"#fb9f3a\"], [0.8888888888888888, \"#fdca26\"], [1.0, \"#f0f921\"]], \"type\": \"heatmap\"}], \"heatmapgl\": [{\"colorbar\": {\"outlinewidth\": 0, \"ticks\": \"\"}, \"colorscale\": [[0.0, \"#0d0887\"], [0.1111111111111111, \"#46039f\"], [0.2222222222222222, \"#7201a8\"], [0.3333333333333333, \"#9c179e\"], [0.4444444444444444, \"#bd3786\"], [0.5555555555555556, \"#d8576b\"], [0.6666666666666666, \"#ed7953\"], [0.7777777777777778, \"#fb9f3a\"], [0.8888888888888888, \"#fdca26\"], [1.0, \"#f0f921\"]], \"type\": \"heatmapgl\"}], \"histogram\": [{\"marker\": {\"colorbar\": {\"outlinewidth\": 0, \"ticks\": \"\"}}, \"type\": \"histogram\"}], \"histogram2d\": [{\"colorbar\": {\"outlinewidth\": 0, \"ticks\": \"\"}, \"colorscale\": [[0.0, \"#0d0887\"], [0.1111111111111111, \"#46039f\"], [0.2222222222222222, \"#7201a8\"], [0.3333333333333333, \"#9c179e\"], [0.4444444444444444, \"#bd3786\"], [0.5555555555555556, \"#d8576b\"], [0.6666666666666666, \"#ed7953\"], [0.7777777777777778, \"#fb9f3a\"], [0.8888888888888888, \"#fdca26\"], [1.0, \"#f0f921\"]], \"type\": \"histogram2d\"}], \"histogram2dcontour\": [{\"colorbar\": {\"outlinewidth\": 0, \"ticks\": \"\"}, \"colorscale\": [[0.0, \"#0d0887\"], [0.1111111111111111, \"#46039f\"], [0.2222222222222222, \"#7201a8\"], [0.3333333333333333, \"#9c179e\"], [0.4444444444444444, \"#bd3786\"], [0.5555555555555556, \"#d8576b\"], [0.6666666666666666, \"#ed7953\"], [0.7777777777777778, \"#fb9f3a\"], [0.8888888888888888, \"#fdca26\"], [1.0, \"#f0f921\"]], \"type\": \"histogram2dcontour\"}], \"mesh3d\": [{\"colorbar\": {\"outlinewidth\": 0, \"ticks\": \"\"}, \"type\": \"mesh3d\"}], \"parcoords\": [{\"line\": {\"colorbar\": {\"outlinewidth\": 0, \"ticks\": \"\"}}, \"type\": \"parcoords\"}], \"pie\": [{\"automargin\": true, \"type\": \"pie\"}], \"scatter\": [{\"marker\": {\"colorbar\": {\"outlinewidth\": 0, \"ticks\": \"\"}}, \"type\": \"scatter\"}], \"scatter3d\": [{\"line\": {\"colorbar\": {\"outlinewidth\": 0, \"ticks\": \"\"}}, \"marker\": {\"colorbar\": {\"outlinewidth\": 0, \"ticks\": \"\"}}, \"type\": \"scatter3d\"}], \"scattercarpet\": [{\"marker\": {\"colorbar\": {\"outlinewidth\": 0, \"ticks\": \"\"}}, \"type\": \"scattercarpet\"}], \"scattergeo\": [{\"marker\": {\"colorbar\": {\"outlinewidth\": 0, \"ticks\": \"\"}}, \"type\": \"scattergeo\"}], \"scattergl\": [{\"marker\": {\"colorbar\": {\"outlinewidth\": 0, \"ticks\": \"\"}}, \"type\": \"scattergl\"}], \"scattermapbox\": [{\"marker\": {\"colorbar\": {\"outlinewidth\": 0, \"ticks\": \"\"}}, \"type\": \"scattermapbox\"}], \"scatterpolar\": [{\"marker\": {\"colorbar\": {\"outlinewidth\": 0, \"ticks\": \"\"}}, \"type\": \"scatterpolar\"}], \"scatterpolargl\": [{\"marker\": {\"colorbar\": {\"outlinewidth\": 0, \"ticks\": \"\"}}, \"type\": \"scatterpolargl\"}], \"scatterternary\": [{\"marker\": {\"colorbar\": {\"outlinewidth\": 0, \"ticks\": \"\"}}, \"type\": \"scatterternary\"}], \"surface\": [{\"colorbar\": {\"outlinewidth\": 0, \"ticks\": \"\"}, \"colorscale\": [[0.0, \"#0d0887\"], [0.1111111111111111, \"#46039f\"], [0.2222222222222222, \"#7201a8\"], [0.3333333333333333, \"#9c179e\"], [0.4444444444444444, \"#bd3786\"], [0.5555555555555556, \"#d8576b\"], [0.6666666666666666, \"#ed7953\"], [0.7777777777777778, \"#fb9f3a\"], [0.8888888888888888, \"#fdca26\"], [1.0, \"#f0f921\"]], \"type\": \"surface\"}], \"table\": [{\"cells\": {\"fill\": {\"color\": \"#EBF0F8\"}, \"line\": {\"color\": \"white\"}}, \"header\": {\"fill\": {\"color\": \"#C8D4E3\"}, \"line\": {\"color\": \"white\"}}, \"type\": \"table\"}]}, \"layout\": {\"annotationdefaults\": {\"arrowcolor\": \"#2a3f5f\", \"arrowhead\": 0, \"arrowwidth\": 1}, \"coloraxis\": {\"colorbar\": {\"outlinewidth\": 0, \"ticks\": \"\"}}, \"colorscale\": {\"diverging\": [[0, \"#8e0152\"], [0.1, \"#c51b7d\"], [0.2, \"#de77ae\"], [0.3, \"#f1b6da\"], [0.4, \"#fde0ef\"], [0.5, \"#f7f7f7\"], [0.6, \"#e6f5d0\"], [0.7, \"#b8e186\"], [0.8, \"#7fbc41\"], [0.9, \"#4d9221\"], [1, \"#276419\"]], \"sequential\": [[0.0, \"#0d0887\"], [0.1111111111111111, \"#46039f\"], [0.2222222222222222, \"#7201a8\"], [0.3333333333333333, \"#9c179e\"], [0.4444444444444444, \"#bd3786\"], [0.5555555555555556, \"#d8576b\"], [0.6666666666666666, \"#ed7953\"], [0.7777777777777778, \"#fb9f3a\"], [0.8888888888888888, \"#fdca26\"], [1.0, \"#f0f921\"]], \"sequentialminus\": [[0.0, \"#0d0887\"], [0.1111111111111111, \"#46039f\"], [0.2222222222222222, \"#7201a8\"], [0.3333333333333333, \"#9c179e\"], [0.4444444444444444, \"#bd3786\"], [0.5555555555555556, \"#d8576b\"], [0.6666666666666666, \"#ed7953\"], [0.7777777777777778, \"#fb9f3a\"], [0.8888888888888888, \"#fdca26\"], [1.0, \"#f0f921\"]]}, \"colorway\": [\"#636efa\", \"#EF553B\", \"#00cc96\", \"#ab63fa\", \"#FFA15A\", \"#19d3f3\", \"#FF6692\", \"#B6E880\", \"#FF97FF\", \"#FECB52\"], \"font\": {\"color\": \"#2a3f5f\"}, \"geo\": {\"bgcolor\": \"white\", \"lakecolor\": \"white\", \"landcolor\": \"#E5ECF6\", \"showlakes\": true, \"showland\": true, \"subunitcolor\": \"white\"}, \"hoverlabel\": {\"align\": \"left\"}, \"hovermode\": \"closest\", \"mapbox\": {\"style\": \"light\"}, \"paper_bgcolor\": \"white\", \"plot_bgcolor\": \"#E5ECF6\", \"polar\": {\"angularaxis\": {\"gridcolor\": \"white\", \"linecolor\": \"white\", \"ticks\": \"\"}, \"bgcolor\": \"#E5ECF6\", \"radialaxis\": {\"gridcolor\": \"white\", \"linecolor\": \"white\", \"ticks\": \"\"}}, \"scene\": {\"xaxis\": {\"backgroundcolor\": \"#E5ECF6\", \"gridcolor\": \"white\", \"gridwidth\": 2, \"linecolor\": \"white\", \"showbackground\": true, \"ticks\": \"\", \"zerolinecolor\": \"white\"}, \"yaxis\": {\"backgroundcolor\": \"#E5ECF6\", \"gridcolor\": \"white\", \"gridwidth\": 2, \"linecolor\": \"white\", \"showbackground\": true, \"ticks\": \"\", \"zerolinecolor\": \"white\"}, \"zaxis\": {\"backgroundcolor\": \"#E5ECF6\", \"gridcolor\": \"white\", \"gridwidth\": 2, \"linecolor\": \"white\", \"showbackground\": true, \"ticks\": \"\", \"zerolinecolor\": \"white\"}}, \"shapedefaults\": {\"line\": {\"color\": \"#2a3f5f\"}}, \"ternary\": {\"aaxis\": {\"gridcolor\": \"white\", \"linecolor\": \"white\", \"ticks\": \"\"}, \"baxis\": {\"gridcolor\": \"white\", \"linecolor\": \"white\", \"ticks\": \"\"}, \"bgcolor\": \"#E5ECF6\", \"caxis\": {\"gridcolor\": \"white\", \"linecolor\": \"white\", \"ticks\": \"\"}}, \"title\": {\"x\": 0.05}, \"xaxis\": {\"automargin\": true, \"gridcolor\": \"white\", \"linecolor\": \"white\", \"ticks\": \"\", \"title\": {\"standoff\": 15}, \"zerolinecolor\": \"white\", \"zerolinewidth\": 2}, \"yaxis\": {\"automargin\": true, \"gridcolor\": \"white\", \"linecolor\": \"white\", \"ticks\": \"\", \"title\": {\"standoff\": 15}, \"zerolinecolor\": \"white\", \"zerolinewidth\": 2}}}},\n",
       "                        {\"responsive\": true}\n",
       "                    ).then(function(){\n",
       "                            \n",
       "var gd = document.getElementById('af84a8c2-6b1e-49c6-9289-f26a9436966e');\n",
       "var x = new MutationObserver(function (mutations, observer) {{\n",
       "        var display = window.getComputedStyle(gd).display;\n",
       "        if (!display || display === 'none') {{\n",
       "            console.log([gd, 'removed!']);\n",
       "            Plotly.purge(gd);\n",
       "            observer.disconnect();\n",
       "        }}\n",
       "}});\n",
       "\n",
       "// Listen for the removal of the full notebook cells\n",
       "var notebookContainer = gd.closest('#notebook-container');\n",
       "if (notebookContainer) {{\n",
       "    x.observe(notebookContainer, {childList: true});\n",
       "}}\n",
       "\n",
       "// Listen for the clearing of the current output cell\n",
       "var outputEl = gd.closest('.output');\n",
       "if (outputEl) {{\n",
       "    x.observe(outputEl, {childList: true});\n",
       "}}\n",
       "\n",
       "                        })\n",
       "                };\n",
       "                });\n",
       "            </script>\n",
       "        </div>"
      ]
     },
     "metadata": {},
     "output_type": "display_data"
    }
   ],
   "source": [
    "plot_first_3_pcas(dat_3_pcs_scaled, \"contraceptive\")"
   ]
  },
  {
   "cell_type": "markdown",
   "metadata": {},
   "source": [
    "### Barplots for Qualitative Data"
   ]
  },
  {
   "cell_type": "code",
   "execution_count": 123,
   "metadata": {
    "scrolled": false
   },
   "outputs": [
    {
     "data": {
      "image/png": "[encoded data removed]",
      "text/plain": [
       "<Figure size 720x1080 with 6 Axes>"
      ]
     },
     "metadata": {
      "needs_background": "light"
     },
     "output_type": "display_data"
    }
   ],
   "source": [
    "# All qualitative columns we want to plot out \n",
    "# Note this is everything besides `wife_age` and `num_child`\n",
    "col_names = list(X_train.columns.values)[1:]\n",
    "# remove `num_child` column\n",
    "col_names.pop(2)\n",
    "labels_dic = {\"wife_education\":[\"low\",\"low-mid\",\"mid\",\"high\"],\n",
    "         \"husband_education\":[\"low\",\"low-mid\",\"mid\",\"high\"],\n",
    "         \"wife_religion\":[\"Non-Islam\",\"Islam\"],\n",
    "         \"wife_work\":[\"Yes\",\"No\"],\n",
    "          \"standard_living\":[\"low\",\"low-mid\",\"mid\",\"high\"]\n",
    "         }\n",
    "k = 2\n",
    "fig, axes = plt.subplots(int(np.ceil((len(col_names) - 1)/k)), k, figsize=(10,15))\n",
    "for i in range(0, len(col_names) - 1):\n",
    "    sns.catplot(x=\"contraceptive\", hue=col_names[i], kind=\"count\",\n",
    "            palette=\"pastel\", \n",
    "            data=train, ax=axes[i//k,i%k], legend_out = True)\n",
    "    if(col_names[i] in labels_dic):\n",
    "        cur_lab = labels_dic[col_names[i]]\n",
    "        l = axes[i//k,i%k].get_legend()\n",
    "        set_legend(l, cur_lab)\n",
    "# closed all extra figure\n",
    "for i in range(0, len(col_names) - 1):\n",
    "    plt.close(i+2)\n",
    "\n",
    "plt.show()"
   ]
  },
  {
   "cell_type": "code",
   "execution_count": 125,
   "metadata": {},
   "outputs": [
    {
     "data": {
      "text/plain": [
       "<Figure size 720x1080 with 0 Axes>"
      ]
     },
     "metadata": {},
     "output_type": "display_data"
    },
    {
     "data": {
      "image/png": "[encoded data removed]",
      "text/plain": [
       "<Figure size 450.25x360 with 1 Axes>"
      ]
     },
     "metadata": {
      "needs_background": "light"
     },
     "output_type": "display_data"
    }
   ],
   "source": [
    "plt.figure(figsize=(10,15))\n",
    "labels = ['Good', \"Not Good\"]\n",
    "fig = sns.catplot(x=\"contraceptive\", hue=col_names[-1], \n",
    "            kind=\"count\",palette=\"pastel\", \n",
    "            data=train, legend_out = True)\n",
    "\n",
    "set_legend(fig._legend, labels)"
   ]
  },
  {
   "cell_type": "markdown",
   "metadata": {},
   "source": [
    "### Heatmap\n",
    "\n",
    "Here we want to further explore the correlation of `contraceptive` to other varaibles in the dataset"
   ]
  },
  {
   "cell_type": "code",
   "execution_count": 126,
   "metadata": {
    "scrolled": false
   },
   "outputs": [
    {
     "data": {
      "image/png": "[encoded data removed]",
      "text/plain": [
       "<Figure size 792x648 with 2 Axes>"
      ]
     },
     "metadata": {
      "needs_background": "light"
     },
     "output_type": "display_data"
    }
   ],
   "source": [
    "plt.figure(figsize=(11, 9))\n",
    "matrix = np.triu(train.corr())\n",
    "ax=sns.heatmap(train.corr(), annot = True, fmt='.1g',square=True, mask=matrix)\n",
    "ax.set_ylim(10, 0) # set the ylim to bottom, top\n",
    "plt.savefig('heatmap.png')"
   ]
  },
  {
   "cell_type": "markdown",
   "metadata": {},
   "source": [
    "From the above heatmap, we observe that `contraceptive` doesn't have too strong relationship with any of the current features. The highest correlation is with `wife_education`, which is 0.3. This is still a weak correlation. We also notice that `wife_age`, `wife_religion`, and `husband_occupation` extremly weakly negatively correlated with `contraceptive`. Therefore, it may be a good choice to either drop these features or transformed them in some way. "
   ]
  },
  {
   "cell_type": "markdown",
   "metadata": {},
   "source": [
    "### Boxplots for Quantitative Discrete Varaibles\n",
    "\n",
    "Here we want to draw the box plots for quantitative featrues to explore their distributions."
   ]
  },
  {
   "cell_type": "code",
   "execution_count": 25,
   "metadata": {
    "scrolled": false
   },
   "outputs": [
    {
     "data": {
      "image/png": "[encoded data removed]",
      "text/plain": [
       "<Figure size 720x360 with 2 Axes>"
      ]
     },
     "metadata": {
      "needs_background": "light"
     },
     "output_type": "display_data"
    }
   ],
   "source": [
    "fig1, axes = plt.subplots(1, 2, figsize=(10,5))\n",
    "sns.boxplot(x=\"contraceptive\", y=\"wife_age\", data=train,\n",
    "    palette=\"Set2\",ax=axes[0]).set(\n",
    "    xlabel=\"Contraceptive Method\")\n",
    "axes[0].set_title('Box Plot of `wife_age` v.s. `contraceptive`')\n",
    "\n",
    "sns.boxplot(x=\"contraceptive\", y='num_child', data=train,\n",
    "    palette=\"Set2\",ax=axes[1]).set(\n",
    "    xlabel=\"Contraceptive Method\")\n",
    "axes[1].set_title('Box Plot of `num_child` v.s. `contraceptive`')\n",
    "\n",
    "plt.show()"
   ]
  },
  {
   "cell_type": "markdown",
   "metadata": {},
   "source": [
    "### Empirical Distribution: `wife_age`\n",
    "\n",
    "From previous heatmap, we observe that `wife_age` has a extremely weak negative correlation with `contraceptive`, we want to explore why it's the case. First, we will plot out the empirical distribution of `wife_age` to visualize the data shape, and whether the shape is different between 2 different `contraceptive` groups.\n",
    "\n",
    "(Note: Since the bin width for `wife_age` is 1, which is way smaller than the range of `wife_age`, to better visualize the distribution, we choose to keep `kde` parameter of `distplot`, and approximetaly draw its distribution plot below.)"
   ]
  },
  {
   "cell_type": "code",
   "execution_count": 26,
   "metadata": {},
   "outputs": [
    {
     "data": {
      "image/png": "[encoded data removed]",
      "text/plain": [
       "<Figure size 576x288 with 1 Axes>"
      ]
     },
     "metadata": {
      "needs_background": "light"
     },
     "output_type": "display_data"
    }
   ],
   "source": [
    "# wife_age distribution plot\n",
    "plt.figure(figsize=(8, 4))\n",
    "sns.distplot(train.loc[(train[\"contraceptive_num\"]==0) , \"wife_age\"])\n",
    "sns.distplot(train.loc[(train[\"contraceptive_num\"]==1) , \"wife_age\"])\n",
    "plt.xlabel(\"Wife's Age\")\n",
    "plt.title(\"Empirical Distribution of Wife's Age (Colored by Contraceptive Method)\")\n",
    "plt.legend(labels=[\"No-Use\", \"Use\"]) \n",
    "plt.axvline(22, color='k', linestyle='dashed')\n",
    "plt.axvline(40, color='k', linestyle='dashed')\n",
    "plt.show();"
   ]
  },
  {
   "cell_type": "markdown",
   "metadata": {},
   "source": [
    "### Suggested Transformation: `wife_age`\n",
    "Larger values of `wife_age` will carry larger weights in the model, and it could hurt the model's performance. We could use the following 2 methods to transform the `wife_age`.\n",
    "##### Method 1: \n",
    "From the above distribution, we observe that the data could be split into 3 age bins according to their difference between the 2 age groups.\n",
    "1. age <= 22; \n",
    "2. 22 < age < 40; \n",
    "3. age >= 40;\n",
    "\n",
    "After changing the quantitative discrete data to categorical data, we could use one-hot-encoding to create three new features for age. Also from the above graph, we observe that the empirical distribution are similar between 2 contraceptive method groups when the wife's age <= 22. So, we predict that dropping the feature associated with whether wife's age <= 22 could potentially be helpful.\n",
    "##### Method 2:\n",
    "Normalized `wife_age`"
   ]
  },
  {
   "cell_type": "markdown",
   "metadata": {},
   "source": [
    "### Empirical Distribution: `num_child`"
   ]
  },
  {
   "cell_type": "markdown",
   "metadata": {},
   "source": [
    "(Note: Since the bin width for `num_child` is 1, which is way smaller than the range of `num_child`, to better visualize the distribution, we choose to keep `kde` parameter of `distplot`, and approximetaly draw its distribution plot below.)"
   ]
  },
  {
   "cell_type": "code",
   "execution_count": 27,
   "metadata": {},
   "outputs": [
    {
     "data": {
      "image/png": "[encoded data removed]",
      "text/plain": [
       "<Figure size 576x288 with 1 Axes>"
      ]
     },
     "metadata": {
      "needs_background": "light"
     },
     "output_type": "display_data"
    }
   ],
   "source": [
    "plt.figure(figsize=(8, 4))\n",
    "sns.distplot(train.loc[(train[\"contraceptive_num\"]==0) , \"num_child\"])\n",
    "sns.distplot(train.loc[(train[\"contraceptive_num\"]==1) , \"num_child\"])\n",
    "plt.xlabel(\"Number of Children\")\n",
    "plt.title(\"Empirical Distribution of Number of Children (Colored by Contraceptive Method)\")\n",
    "plt.legend(labels=[\"No-Use\", \"Use\"]) \n",
    "plt.show();"
   ]
  },
  {
   "cell_type": "markdown",
   "metadata": {},
   "source": [
    "### Suggested Transformation: `num_child`\n",
    "\n",
    "From the above graph, we notice that for both `contraceptive` groups, the distributions of `num_child` are right skewed. In skewed data, the tail may act as an outlier for the statistical model and that outliers may adversely affect the model’s performance especially regression-based models. Therefore, we could potentially use the following two methods to transform `num_child` feature.\n",
    "1. Log transformed `num_child`\n",
    "2. Normalized `num_child`"
   ]
  },
  {
   "cell_type": "markdown",
   "metadata": {},
   "source": [
    "# Feature Engineering:\n",
    "\n",
    "##### Summary of Major General Changes \n",
    "1. Seperate `wife_age` into 3 bins\n",
    "2. Normalization features\n",
    "3. Log transformed features\n",
    "4. Combined features \n",
    "5. Remove useless features"
   ]
  },
  {
   "cell_type": "code",
   "execution_count": 28,
   "metadata": {},
   "outputs": [],
   "source": [
    "# Here we seperate `wife_age` into different bins\n",
    "# and create new feature `age_bins` for that\n",
    "data_trans = data.copy()\n",
    "data_trans[\"age_bins\"] = data_trans[\"wife_age\"].mask(data_trans[\"wife_age\"] <= 22, 0)\n",
    "data_trans[\"age_bins\"] = np.where(data_trans[\"age_bins\"].between(23,43), 1,\n",
    "                                    data_trans[\"age_bins\"])\n",
    "data_trans[\"age_bins\"] = data_trans[\"age_bins\"].mask(data_trans[\"age_bins\"] >= 44, 2)\n",
    "data_trans[\"age_bins\"].replace({0: \"age<= 22\", 1: \"22<age<44\", 2:\"age>=44\"}, inplace=True)"
   ]
  },
  {
   "cell_type": "code",
   "execution_count": 29,
   "metadata": {},
   "outputs": [],
   "source": [
    "# one hot encoding the `age_bins`\n",
    "data_trans = ohe(data_trans, \"age_bins\")\n",
    "data_trans.drop(\"age_bins\", axis=1, inplace=True)"
   ]
  },
  {
   "cell_type": "markdown",
   "metadata": {},
   "source": [
    "Note: For right now, we will keep `wife_age_normalized`, `wife_age`, `wife_age_mean_centered` since we want to explore the performance for each transformation under different models, but we won't keep all of them in the model at the same time."
   ]
  },
  {
   "cell_type": "code",
   "execution_count": 30,
   "metadata": {},
   "outputs": [],
   "source": [
    "# normalized `wife_age`\n",
    "wife_age = data_trans['wife_age']\n",
    "data_trans['wife_age_mean_centered'] = wife_age / np.std(wife_age)\n",
    "data_trans['wife_age_normalized'] = (wife_age - np.mean(wife_age)) / np.std(wife_age)"
   ]
  },
  {
   "cell_type": "code",
   "execution_count": 31,
   "metadata": {},
   "outputs": [],
   "source": [
    "# log transformed `num_child`\n",
    "data_trans['log_num_child'] = np.log(data_trans['num_child']+1e-10)"
   ]
  },
  {
   "cell_type": "code",
   "execution_count": 32,
   "metadata": {},
   "outputs": [],
   "source": [
    "# normalized the number of child\n",
    "num_child = data_trans['num_child']\n",
    "data_trans['num_child_normalized'] = (num_child - np.mean(num_child)) / np.std(num_child)"
   ]
  },
  {
   "cell_type": "markdown",
   "metadata": {},
   "source": [
    "Note: Similarly as above `household_education` is duplicate feature of`wife_education` and `husband_education`, but we keep both for comparison of performance under different models in the next section"
   ]
  },
  {
   "cell_type": "code",
   "execution_count": 33,
   "metadata": {},
   "outputs": [],
   "source": [
    "# combine wife_education and husband_education together\n",
    "data_trans['house_hold_education'] = data_trans['wife_education'] + data_trans['husband_education']"
   ]
  },
  {
   "cell_type": "code",
   "execution_count": 34,
   "metadata": {},
   "outputs": [],
   "source": [
    "# preprocess the features for one hot encoding\n",
    "data_trans['wife_education'].replace({1: \"low\", 2: \"low_mid\", 3:\"mid\", 4:\"high\"}, inplace=True)\n",
    "data_trans['husband_education'].replace({1: \"low\", 2: \"low_mid\", 3:\"mid\", 4:\"high\"}, inplace=True)\n",
    "data_trans['husband_occupation'].replace({1: \"1\", 2: \"2\", 3:\"3\", 4:\"4\"}, inplace=True)\n",
    "data_trans['standard_living'].replace({1: \"low\", 2: \"low_mid\", 3:\"mid\", 4:\"high\"}, inplace=True)"
   ]
  },
  {
   "cell_type": "code",
   "execution_count": 35,
   "metadata": {},
   "outputs": [],
   "source": [
    "# one hot encoding\n",
    "cols_ohe = ['wife_education', 'husband_education',\n",
    "            'husband_occupation', 'standard_living']\n",
    "for i in cols_ohe:\n",
    "    data_trans = ohe(data_trans, i)\n",
    "    data_trans.drop(i, axis = 1, inplace=True)"
   ]
  },
  {
   "cell_type": "code",
   "execution_count": 36,
   "metadata": {},
   "outputs": [
    {
     "data": {
      "text/plain": [
       "Index(['wife_age', 'num_child', 'wife_religion', 'wife_work', 'media_exposure',\n",
       "       'contraceptive', 'age_bins=22<age<44', 'age_bins=age<= 22',\n",
       "       'age_bins=age>=44', 'wife_age_mean_centered', 'wife_age_normalized',\n",
       "       'log_num_child', 'num_child_normalized', 'house_hold_education',\n",
       "       'wife_education=high', 'wife_education=low', 'wife_education=low_mid',\n",
       "       'wife_education=mid', 'husband_education=high', 'husband_education=low',\n",
       "       'husband_education=low_mid', 'husband_education=mid',\n",
       "       'husband_occupation=1', 'husband_occupation=2', 'husband_occupation=3',\n",
       "       'husband_occupation=4', 'standard_living=high', 'standard_living=low',\n",
       "       'standard_living=low_mid', 'standard_living=mid'],\n",
       "      dtype='object')"
      ]
     },
     "execution_count": 36,
     "metadata": {},
     "output_type": "execute_result"
    }
   ],
   "source": [
    "# print what features we have right now\n",
    "data_trans.columns"
   ]
  },
  {
   "cell_type": "markdown",
   "metadata": {},
   "source": [
    "# Model Building:"
   ]
  },
  {
   "cell_type": "code",
   "execution_count": 37,
   "metadata": {},
   "outputs": [],
   "source": [
    "seed = 292734"
   ]
  },
  {
   "cell_type": "markdown",
   "metadata": {},
   "source": [
    "## 1. Logistic Regression "
   ]
  },
  {
   "cell_type": "code",
   "execution_count": 38,
   "metadata": {},
   "outputs": [
    {
     "name": "stdout",
     "output_type": "stream",
     "text": [
      "Training Data Size: {1104}\n",
      "Test Data Size: {369}\n"
     ]
    }
   ],
   "source": [
    "X_train_lr, X_test_lr,Y_train_lr,Y_test_lr = train_test_split(data_trans.drop('contraceptive', axis=1),\n",
    "                                                  data_trans['contraceptive'], test_size=0.25, \n",
    "                                                  random_state=seed)\n",
    "\n",
    "print(\"Training Data Size:\", {len(X_train_lr)})\n",
    "print(\"Test Data Size:\", {len(X_test_lr)})"
   ]
  },
  {
   "cell_type": "code",
   "execution_count": 39,
   "metadata": {},
   "outputs": [
    {
     "data": {
      "text/plain": [
       "Index(['wife_age', 'num_child', 'wife_religion', 'wife_work', 'media_exposure',\n",
       "       'age_bins=22<age<44', 'age_bins=age<= 22', 'age_bins=age>=44',\n",
       "       'wife_age_mean_centered', 'wife_age_normalized', 'log_num_child',\n",
       "       'num_child_normalized', 'house_hold_education', 'wife_education=high',\n",
       "       'wife_education=low', 'wife_education=low_mid', 'wife_education=mid',\n",
       "       'husband_education=high', 'husband_education=low',\n",
       "       'husband_education=low_mid', 'husband_education=mid',\n",
       "       'husband_occupation=1', 'husband_occupation=2', 'husband_occupation=3',\n",
       "       'husband_occupation=4', 'standard_living=high', 'standard_living=low',\n",
       "       'standard_living=low_mid', 'standard_living=mid'],\n",
       "      dtype='object')"
      ]
     },
     "execution_count": 39,
     "metadata": {},
     "output_type": "execute_result"
    }
   ],
   "source": [
    "X_train_lr.columns"
   ]
  },
  {
   "cell_type": "markdown",
   "metadata": {},
   "source": [
    "Since we should only keep one of the `wife_age_normalized` or `wife_age` or `wife_age_mean_centered` , we will test which feature is better for the model in the below cell using the basic logistic regression model and cross validation error."
   ]
  },
  {
   "cell_type": "code",
   "execution_count": 40,
   "metadata": {},
   "outputs": [
    {
     "name": "stdout",
     "output_type": "stream",
     "text": [
      "Cross Validation Accuracy with `wife_age`: 0.7137515\n",
      "Cross Validation Accuracy with `wife_age_normalized`: 0.7137515\n",
      "Cross Validation Accuracy with `wife_age_mean_centered`: 0.7128466\n"
     ]
    }
   ],
   "source": [
    "# create basic logistic regression model\n",
    "lr = LogisticRegression(solver='lbfgs',max_iter=5000) #default solver is 'lbfgs', set it here to avoid the warning\n",
    "\n",
    "X_train_ori = X_train_lr.drop(['wife_age_normalized','wife_age_mean_centered'], axis=1)\n",
    "cv_accs_ori = cross_validate_accuracy(lr, X_train_ori, Y_train_lr)\n",
    "\n",
    "X_train_nor = X_train_lr.drop(['wife_age','wife_age_mean_centered'], axis=1)\n",
    "cv_accs_nor = cross_validate_accuracy(lr, X_train_nor, Y_train_lr)\n",
    "\n",
    "X_train_cen = X_train_lr.drop(['wife_age','wife_age_normalized'], axis=1)\n",
    "cv_accs_cen = cross_validate_accuracy(lr, X_train_cen, Y_train_lr)\n",
    "\n",
    "print('Cross Validation Accuracy with `wife_age`: {:0.7f}\\n\\\n",
    "Cross Validation Accuracy with `wife_age_normalized`: {:0.7f}\\n\\\n",
    "Cross Validation Accuracy with `wife_age_mean_centered`: {:0.7f}'.format(\n",
    "    cv_accs_ori, cv_accs_nor, cv_accs_cen))\n"
   ]
  },
  {
   "cell_type": "markdown",
   "metadata": {},
   "source": [
    "Since the cross validation accuracy with `wife_age` is similar to with `wife_age_normalized`, and both of them is slightly better than with `wife_age_mean_centered`, we randomly pick one, and will keep `wife_age`."
   ]
  },
  {
   "cell_type": "code",
   "execution_count": 41,
   "metadata": {},
   "outputs": [],
   "source": [
    "X_train_lr.drop('wife_age_normalized', axis=1, inplace=True)\n",
    "X_test_lr.drop('wife_age_normalized', axis=1, inplace=True)\n",
    "X_train_lr.drop('wife_age_mean_centered', axis=1, inplace=True)\n",
    "X_test_lr.drop('wife_age_mean_centered', axis=1, inplace=True)"
   ]
  },
  {
   "cell_type": "markdown",
   "metadata": {},
   "source": [
    "Since `household_education` is duplicate feature of`wife_education` and `husband_education`, let's first find out which one performs better with basic logistic regression model."
   ]
  },
  {
   "cell_type": "code",
   "execution_count": 42,
   "metadata": {},
   "outputs": [
    {
     "name": "stdout",
     "output_type": "stream",
     "text": [
      "Cross Validation Accuracy with `household_education`: 0.710111\n",
      "Cross Validation Accuracy with `wife_education` & `husband_education`: 0.712847\n",
      "\n"
     ]
    }
   ],
   "source": [
    "education_drop_cols = ['wife_education=high',\n",
    "       'wife_education=low', 'wife_education=low_mid', 'wife_education=mid',\n",
    "       'husband_education=high', 'husband_education=low',\n",
    "       'husband_education=low_mid', 'husband_education=mid']\n",
    "\n",
    "X_train_house = X_train_lr.drop(education_drop_cols, axis=1)\n",
    "cv_accs_house = cross_validate_accuracy(lr, X_train_house, Y_train_lr)\n",
    "\n",
    "X_train_wh = X_train_lr.drop('house_hold_education', axis=1)\n",
    "cv_accs_wh = cross_validate_accuracy(lr, X_train_wh, Y_train_lr)\n",
    "\n",
    "print('Cross Validation Accuracy with `household_education`: {:0.6f}\\n\\\n",
    "Cross Validation Accuracy with `wife_education` & `husband_education`: {:0.6f}\\n'.format(\n",
    "    cv_accs_house, cv_accs_wh))"
   ]
  },
  {
   "cell_type": "markdown",
   "metadata": {},
   "source": [
    "From the above cross validation accuracy comparison, we can conclude that one hot encoding of `husband_education` and `wife_education` is better than `household_eudcation`. So we will drop `household_education` for the rest of feature selections."
   ]
  },
  {
   "cell_type": "code",
   "execution_count": 43,
   "metadata": {},
   "outputs": [],
   "source": [
    "X_train_lr.drop('house_hold_education', axis=1, inplace=True)\n",
    "X_test_lr.drop('house_hold_education', axis=1, inplace=True)"
   ]
  },
  {
   "cell_type": "markdown",
   "metadata": {},
   "source": [
    "Next we want to find out whether dropping a significant features could help improving the model accuracy"
   ]
  },
  {
   "cell_type": "code",
   "execution_count": 44,
   "metadata": {},
   "outputs": [],
   "source": [
    "def remove_feature(model, X_train, Y_train):\n",
    "    model = clone(model)\n",
    "    base_accuracy = cross_validate_accuracy(model, X_train, Y_train)\n",
    "    features = list(X_train.columns.values)\n",
    "    f_rm = []\n",
    "    improve_accs = []\n",
    "    for f in features:\n",
    "        X_train_cur = X_train.copy()\n",
    "        X_train_cur = X_train_cur.drop(f, axis = 1)\n",
    "        cur_mean_cv_ac = cross_validate_accuracy(model, X_train_cur, Y_train)\n",
    "        \n",
    "        if (cur_mean_cv_ac > base_accuracy):\n",
    "            f_rm.append(f)\n",
    "            cur_improved = cur_mean_cv_ac - base_accuracy\n",
    "            improve_accs.append(cur_improved)\n",
    "            print(\"W/o `{}` improved CV accuracy by {:0.11f}\".format(f, cur_improved))\n",
    "    return f_rm,improve_accs"
   ]
  },
  {
   "cell_type": "code",
   "execution_count": 45,
   "metadata": {
    "scrolled": false
   },
   "outputs": [
    {
     "name": "stdout",
     "output_type": "stream",
     "text": [
      "W/o `wife_work` improved CV accuracy by 0.00181406828\n",
      "W/o `media_exposure` improved CV accuracy by 0.00271493213\n",
      "W/o `age_bins=22<age<44` improved CV accuracy by 0.00452900041\n",
      "W/o `age_bins=age<= 22` improved CV accuracy by 0.00271493213\n",
      "W/o `age_bins=age>=44` improved CV accuracy by 0.00271493213\n",
      "W/o `wife_education=low` improved CV accuracy by 0.00090086384\n",
      "W/o `wife_education=low_mid` improved CV accuracy by 0.00090497738\n",
      "W/o `wife_education=mid` improved CV accuracy by 0.00090497738\n",
      "W/o `husband_education=high` improved CV accuracy by 0.00090497738\n",
      "W/o `husband_education=low` improved CV accuracy by 0.00361990950\n",
      "W/o `husband_education=low_mid` improved CV accuracy by 0.00361579597\n",
      "W/o `husband_occupation=1` improved CV accuracy by 0.00180584122\n",
      "W/o `husband_occupation=2` improved CV accuracy by 0.00180995475\n",
      "W/o `husband_occupation=3` improved CV accuracy by 0.00181406828\n",
      "W/o `husband_occupation=4` improved CV accuracy by 0.00180584122\n",
      "W/o `standard_living=high` improved CV accuracy by 0.00090086384\n",
      "W/o `standard_living=low` improved CV accuracy by 0.00090086384\n",
      "W/o `standard_living=low_mid` improved CV accuracy by 0.00271493213\n"
     ]
    }
   ],
   "source": [
    "features_rm, improved_accs = remove_feature(lr, X_train_lr, Y_train_lr)"
   ]
  },
  {
   "cell_type": "code",
   "execution_count": 46,
   "metadata": {},
   "outputs": [
    {
     "data": {
      "text/plain": [
       "Index(['wife_age', 'num_child', 'wife_religion', 'log_num_child',\n",
       "       'num_child_normalized', 'wife_education=high', 'husband_education=mid',\n",
       "       'standard_living=mid'],\n",
       "      dtype='object')"
      ]
     },
     "execution_count": 46,
     "metadata": {},
     "output_type": "execute_result"
    }
   ],
   "source": [
    "final_X_train_lr = X_train_lr.copy()\n",
    "final_X_test_lr = X_test_lr.copy()\n",
    "for f in features_rm:\n",
    "    final_X_train_lr.drop(f,axis=1, inplace=True)\n",
    "    final_X_test_lr.drop(f,axis=1, inplace=True)\n",
    "final_X_train_lr.columns"
   ]
  },
  {
   "cell_type": "markdown",
   "metadata": {},
   "source": [
    "Regularization discourages learning a more complex or flexible model, so as to avoid the risk of overfitting. Since our base logistic regression model already doesn't have a high training accuracy, we don't need to be afraid of overfitting, and we know that the larger the `Cs` parameter in `LogisticRegressionCV`, the stronger the regularization. So we want a larger `Cs`."
   ]
  },
  {
   "cell_type": "code",
   "execution_count": 47,
   "metadata": {
    "scrolled": false
   },
   "outputs": [
    {
     "name": "stdout",
     "output_type": "stream",
     "text": [
      "Cur model(Cs:3 , cv:12); Train Accuracy: 0.7174; CV Accuracy: 0.7147\n"
     ]
    }
   ],
   "source": [
    "# Model Hyperparameters Tunning \n",
    "Css= list(range(3,7))\n",
    "cvs = list(range(12,17))\n",
    "params_lr = []\n",
    "models_lr = []\n",
    "params_labs_lr = [\"Cs\", \"cv\"]\n",
    "\n",
    "for cur_cs in Css:\n",
    "    for cur_cv in cvs:\n",
    "        models_lr.append(LogisticRegressionCV(Cs=cur_cs, fit_intercept=True, \n",
    "                                  cv=cur_cv,max_iter=5000))\n",
    "        params_lr.append(params_labs_lr[0] + \":\" + str(cur_cs) + \" , \" \n",
    "                         + params_labs_lr[1] + \":\" + str(cur_cv))\n",
    "        \n",
    "best_model_lr, best_train_lr, best_cv_lr = model_hyper_tune(models_lr, params_lr,final_X_train_lr,\n",
    "                                                           Y_train_lr)"
   ]
  },
  {
   "cell_type": "code",
   "execution_count": 48,
   "metadata": {},
   "outputs": [
    {
     "data": {
      "text/plain": [
       "LogisticRegressionCV(Cs=3, class_weight=None, cv=12, dual=False,\n",
       "           fit_intercept=True, intercept_scaling=1.0, max_iter=5000,\n",
       "           multi_class='warn', n_jobs=None, penalty='l2',\n",
       "           random_state=None, refit=True, scoring=None, solver='lbfgs',\n",
       "           tol=0.0001, verbose=0)"
      ]
     },
     "execution_count": 48,
     "metadata": {},
     "output_type": "execute_result"
    }
   ],
   "source": [
    "best_model_lr"
   ]
  },
  {
   "cell_type": "markdown",
   "metadata": {},
   "source": [
    "Also, since our logistic regression doesn't have large dimensions, we don't necessarily need a sparse model. So we predict that `l2` penalty would work at least as good as `l1` penalty, but we are still going to try it empirically bellow. "
   ]
  },
  {
   "cell_type": "code",
   "execution_count": 49,
   "metadata": {},
   "outputs": [
    {
     "name": "stdout",
     "output_type": "stream",
     "text": [
      "Train accuracy of Logistic Regression with l1 penalty is: 0.7156\n",
      "CV accuracy of Logistic Regression with l1 penalty is: 0.7174\n",
      "Test accuracy of Logistic Regression with l1 penalty is: 0.7100\n"
     ]
    }
   ],
   "source": [
    "# this is the best logistic regression model with l1 penalty we get\n",
    "l1_lr = LogisticRegressionCV(penalty='l1', solver='liblinear', Cs=3, cv=10, \n",
    "                             refit=True, max_iter=5000) \n",
    "l1_lr.fit(final_X_train_lr, Y_train_lr)\n",
    "pred_train_l1 = l1_lr.predict(final_X_train_lr)\n",
    "pred_test_l1 = l1_lr.predict(final_X_test_lr)\n",
    "train_accuracy_l1 = accuracy_score(Y_train_lr, pred_train_l1)\n",
    "cv_accuracy_l1 = cross_validate_accuracy(l1_lr, final_X_train_lr, Y_train_lr)\n",
    "test_accuracy_l1 = accuracy_score(Y_test_lr, pred_test_l1)\n",
    "print(f\"Train accuracy of Logistic Regression with l1 penalty is: {train_accuracy_l1:.4f}\")\n",
    "print(f\"CV accuracy of Logistic Regression with l1 penalty is: {cv_accuracy_l1:.4f}\")\n",
    "print(f\"Test accuracy of Logistic Regression with l1 penalty is: {test_accuracy_l1:.4f}\")"
   ]
  },
  {
   "cell_type": "markdown",
   "metadata": {},
   "source": [
    "Logistic regression with l1 penalty indeed doesn't perform better than logistic regression model with l2 penalty"
   ]
  },
  {
   "cell_type": "code",
   "execution_count": 50,
   "metadata": {
    "scrolled": false
   },
   "outputs": [
    {
     "name": "stdout",
     "output_type": "stream",
     "text": [
      "Train accuracy of best logistic regression model is: 0.7174\n",
      "CV accuracy of best logistic regression model is: 0.7147\n",
      "Test accuracy of best logistic regression model is: 0.7127\n"
     ]
    }
   ],
   "source": [
    "model_predicted_test = best_model_lr.predict(final_X_test_lr)\n",
    "best_test_lr = accuracy_score(Y_test_lr, model_predicted_test)\n",
    "\n",
    "print(f\"Train accuracy of best logistic regression model is: {best_train_lr:.4f}\")\n",
    "print(f\"CV accuracy of best logistic regression model is: {best_cv_lr:.4f}\")\n",
    "print(f\"Test accuracy of best logistic regression model is: {best_test_lr:.4f}\")"
   ]
  },
  {
   "cell_type": "markdown",
   "metadata": {},
   "source": [
    "Coefficient and intercept of best logistic regression is:"
   ]
  },
  {
   "cell_type": "code",
   "execution_count": 51,
   "metadata": {},
   "outputs": [
    {
     "name": "stdout",
     "output_type": "stream",
     "text": [
      "Best Model's Coeffs:\n",
      "-0.087*`wife_age` + 0.153*`num_child` + -0.671*`wife_religion` + 0.308*`log_num_child` + 0.066*`num_child_normalized` + 1.231*`wife_education=high` + -0.017*`husband_education=mid` + 0.015*`standard_living=mid`  \n",
      "\n",
      "Best Model's Intercept:[2.59984347]\n"
     ]
    }
   ],
   "source": [
    "coeffs = best_model_lr.coef_[0]\n",
    "features = list(final_X_train_lr.columns)\n",
    "coef_and_features = \"\"\n",
    "for i in range(len(coeffs)):\n",
    "    coef = coeffs[i]\n",
    "    cur_feature= features[i]\n",
    "    coef_and_features += str(round(coef,3))+\"*`\"+cur_feature + \"` + \"\n",
    "\n",
    "coef_and_features = coef_and_features[:len(coef_and_features)-2]\n",
    "print(\"Best Model's Coeffs:\\n{} \\n\\nBest Model's Intercept:{}\".format(\n",
    "             coef_and_features, best_model_lr.intercept_))"
   ]
  },
  {
   "cell_type": "code",
   "execution_count": 52,
   "metadata": {},
   "outputs": [
    {
     "data": {
      "image/png": "[encoded data removed]",
      "text/plain": [
       "<Figure size 432x288 with 1 Axes>"
      ]
     },
     "metadata": {
      "needs_background": "light"
     },
     "output_type": "display_data"
    }
   ],
   "source": [
    "# line plot for coefficients\n",
    "g = sns.lineplot(x=list(range(len(coeffs))), y=coeffs)\n",
    "g.set_xticks(range(len(features)))\n",
    "g.set_xticklabels(features)\n",
    "g.set_xticklabels(g.get_xticklabels(), rotation=30, ha='center')\n",
    "g.set(ylabel='Model Coefficients', \n",
    "      title=\"Logistic Regression Features Coefficients\")\n",
    "plt.show()"
   ]
  },
  {
   "cell_type": "markdown",
   "metadata": {},
   "source": [
    "## Confusion Matrix"
   ]
  },
  {
   "cell_type": "code",
   "execution_count": 53,
   "metadata": {},
   "outputs": [
    {
     "data": {
      "text/plain": [
       "<Figure size 720x720 with 0 Axes>"
      ]
     },
     "metadata": {},
     "output_type": "display_data"
    },
    {
     "data": {
      "image/png": "[encoded data removed]",
      "text/plain": [
       "<Figure size 432x288 with 2 Axes>"
      ]
     },
     "metadata": {
      "needs_background": "light"
     },
     "output_type": "display_data"
    }
   ],
   "source": [
    "np.set_printoptions(precision=2)\n",
    "\n",
    "lab_names = [\"No-Use(0)\", \"Use(1)\"]\n",
    "# Plot normalized confusion matrix\n",
    "plot_confusion_matrix(Y_test_lr.values, model_predicted_test, labels=lab_names,\n",
    "                      title='Confusion matrix(Logistic Regression)')\n",
    "\n",
    "plt.show()"
   ]
  },
  {
   "cell_type": "markdown",
   "metadata": {},
   "source": [
    "### Result:"
   ]
  },
  {
   "cell_type": "code",
   "execution_count": 54,
   "metadata": {},
   "outputs": [
    {
     "data": {
      "text/plain": [
       "<Figure size 720x360 with 0 Axes>"
      ]
     },
     "metadata": {},
     "output_type": "display_data"
    },
    {
     "data": {
      "image/png": "[encoded data removed]",
      "text/plain": [
       "<Figure size 723x432 with 1 Axes>"
      ]
     },
     "metadata": {
      "needs_background": "light"
     },
     "output_type": "display_data"
    }
   ],
   "source": [
    "# accuracy plot of \n",
    "# best logistic regression with l1 penalty \n",
    "# best logistic regression with l2 penalty \n",
    "figure(figsize=(10,5))\n",
    "label = [\"best l1 penalty\", \"best l2 penalty\"]\n",
    "accs = pd.DataFrame({'Different Penalization': label, \n",
    "                     'training': [train_accuracy_l1,best_train_lr],\n",
    "                     'cv': [cv_accuracy_l1,best_cv_lr],\n",
    "                    'test':[test_accuracy_l1,best_test_lr]})\n",
    "\n",
    "accs = pd.melt(accs, id_vars = \"Different Penalization\")\n",
    "accs = accs.rename({\"variable\": \"type\", \"value\": \"accuracy\"}, axis = 1)\n",
    "\n",
    "sns.catplot(x = 'Different Penalization', y='accuracy', hue = 'type',data=accs, kind='bar', \n",
    "            palette = 'GnBu', height = 6, aspect = 1.5)\n",
    "plt.title(\"Training and CV accuracies for Two Models\")\n",
    "plt.show()"
   ]
  },
  {
   "cell_type": "markdown",
   "metadata": {},
   "source": [
    "# KNN"
   ]
  },
  {
   "cell_type": "code",
   "execution_count": 55,
   "metadata": {},
   "outputs": [
    {
     "name": "stdout",
     "output_type": "stream",
     "text": [
      "Training Data Size: {1104}\n",
      "Test Data Size: {369}\n"
     ]
    }
   ],
   "source": [
    "X_train_knn, X_test_knn, Y_train_knn, Y_test_knn = train_test_split(data_trans.drop('contraceptive', axis=1),\n",
    "                                                  data_trans['contraceptive'], test_size=0.25, \n",
    "                                                  random_state=seed)\n",
    "\n",
    "print(\"Training Data Size:\", {len(X_train_knn)})\n",
    "print(\"Test Data Size:\", {len(X_test_knn)})"
   ]
  },
  {
   "cell_type": "code",
   "execution_count": 56,
   "metadata": {},
   "outputs": [
    {
     "name": "stdout",
     "output_type": "stream",
     "text": [
      "Cross Validation Accuracy with `household_education`: 0.697458\n",
      "Cross Validation Accuracy with `wife_education` & `husband_education`: 0.669379\n",
      "\n"
     ]
    }
   ],
   "source": [
    "# create basic KNN classifier\n",
    "knn = KNeighborsClassifier()\n",
    "\n",
    "education_drop_cols = ['wife_education=high',\n",
    "       'wife_education=low', 'wife_education=low_mid', 'wife_education=mid',\n",
    "       'husband_education=high', 'husband_education=low',\n",
    "       'husband_education=low_mid', 'husband_education=mid']\n",
    "\n",
    "X_train_house = X_train_knn.drop(education_drop_cols, axis=1)\n",
    "cv_accs_house = cross_validate_accuracy(knn, X_train_house, Y_train_knn)\n",
    "\n",
    "knn = KNeighborsClassifier()\n",
    "X_train_wh = X_train_knn.drop('house_hold_education', axis=1)\n",
    "cv_accs_wh = cross_validate_accuracy(knn, X_train_wh, Y_train_knn)\n",
    "\n",
    "print('Cross Validation Accuracy with `household_education`: {:0.6f}\\n\\\n",
    "Cross Validation Accuracy with `wife_education` & `husband_education`: {:0.6f}\\n'.format(\n",
    "    cv_accs_house, cv_accs_wh))"
   ]
  },
  {
   "cell_type": "markdown",
   "metadata": {},
   "source": [
    "There is a 2\\% increase in the validation accuracy if we don't use the `household_education`. Hence, we stick with the original two features about education."
   ]
  },
  {
   "cell_type": "code",
   "execution_count": 57,
   "metadata": {},
   "outputs": [],
   "source": [
    "X_train_knn.drop(education_drop_cols, axis=1, inplace=True)\n",
    "X_test_knn.drop(education_drop_cols, axis=1, inplace=True)"
   ]
  },
  {
   "cell_type": "code",
   "execution_count": 58,
   "metadata": {},
   "outputs": [
    {
     "name": "stdout",
     "output_type": "stream",
     "text": [
      "      Cross Validation Accuracy with `wife_age`: 0.6965529\n",
      "      Cross Validation Accuracy with `wife_age_mean_centered`: 0.6856684\n",
      "      Cross Validation Accuracy with `wife_age_normalized`: 0.6883957\n",
      "\n"
     ]
    }
   ],
   "source": [
    "X_train_ori = X_train_knn.drop(['wife_age_mean_centered', 'wife_age_normalized'], axis=1)\n",
    "cv_accs_ori = cross_validate_accuracy(knn, X_train_ori, Y_train_knn)\n",
    "\n",
    "X_train_cen = X_train_knn.drop(['wife_age', 'wife_age_normalized'], axis=1)\n",
    "cv_accs_cen = cross_validate_accuracy(knn, X_train_cen, Y_train_knn)\n",
    "\n",
    "X_train_nor = X_train_knn.drop(['wife_age', 'wife_age_mean_centered'], axis=1)\n",
    "cv_accs_nor = cross_validate_accuracy(knn, X_train_nor, Y_train_knn)\n",
    "\n",
    "print('      Cross Validation Accuracy with `wife_age`: {:0.7f}\\n\\\n",
    "      Cross Validation Accuracy with `wife_age_mean_centered`: {:0.7f}\\n\\\n",
    "      Cross Validation Accuracy with `wife_age_normalized`: {:0.7f}\\n'.format(\n",
    "    cv_accs_ori, cv_accs_cen, cv_accs_nor))\n"
   ]
  },
  {
   "cell_type": "markdown",
   "metadata": {},
   "source": [
    "Because the normalized version outperforms other two variants, we keep `wife_age` and drop the others."
   ]
  },
  {
   "cell_type": "code",
   "execution_count": 59,
   "metadata": {},
   "outputs": [],
   "source": [
    "X_train_knn.drop('wife_age', axis=1, inplace=True)\n",
    "X_test_knn.drop('wife_age', axis=1, inplace=True)\n",
    "\n",
    "X_train_knn.drop('wife_age_normalized', axis=1, inplace=True)\n",
    "X_test_knn.drop('wife_age_normalized', axis=1, inplace=True)"
   ]
  },
  {
   "cell_type": "code",
   "execution_count": 60,
   "metadata": {},
   "outputs": [
    {
     "name": "stdout",
     "output_type": "stream",
     "text": [
      "W/o `age_bins=age>=44` improved CV accuracy by 0.00271081859\n",
      "W/o `house_hold_education` improved CV accuracy by 0.00452900041\n",
      "W/o `husband_occupation=2` improved CV accuracy by 0.00270670506\n",
      "W/o `husband_occupation=3` improved CV accuracy by 0.00723981900\n",
      "W/o `husband_occupation=4` improved CV accuracy by 0.00363636364\n",
      "W/o `standard_living=low_mid` improved CV accuracy by 0.01356232003\n"
     ]
    }
   ],
   "source": [
    "# feature selection for knn\n",
    "features_rm, improved_accs_knn = remove_feature(knn, X_train_knn, Y_train_knn)"
   ]
  },
  {
   "cell_type": "code",
   "execution_count": 61,
   "metadata": {},
   "outputs": [
    {
     "data": {
      "text/plain": [
       "Index(['num_child', 'wife_religion', 'wife_work', 'media_exposure',\n",
       "       'age_bins=22<age<44', 'age_bins=age<= 22', 'wife_age_mean_centered',\n",
       "       'log_num_child', 'num_child_normalized', 'husband_occupation=1',\n",
       "       'standard_living=high', 'standard_living=low', 'standard_living=mid'],\n",
       "      dtype='object')"
      ]
     },
     "execution_count": 61,
     "metadata": {},
     "output_type": "execute_result"
    }
   ],
   "source": [
    "final_X_train_knn = X_train_knn.copy()\n",
    "final_X_test_knn = X_test_knn.copy()\n",
    "for f in features_rm:\n",
    "    final_X_train_knn.drop(f,axis=1, inplace=True)\n",
    "    final_X_test_knn.drop(f,axis=1, inplace=True)\n",
    "final_X_train_knn.columns"
   ]
  },
  {
   "cell_type": "markdown",
   "metadata": {},
   "source": [
    "Next, we need to tune two hyperparameters of the kNN model--- the number of neighbors $n$ and the Minkowski metric $p$. The candidates $p = 1$, which is the absolute norm, or $p= 2$, which is the Euclidean norm."
   ]
  },
  {
   "cell_type": "code",
   "execution_count": 62,
   "metadata": {
    "scrolled": false
   },
   "outputs": [
    {
     "name": "stdout",
     "output_type": "stream",
     "text": [
      "Cur model(n:1, p:1); Train Accuracy: 0.9266; CV Accuracy: 0.6585\n",
      "Cur model(n:1, p:2); Train Accuracy: 0.9266; CV Accuracy: 0.6621\n",
      "Cur model(n:3, p:1); Train Accuracy: 0.8243; CV Accuracy: 0.6766\n",
      "Cur model(n:5, p:1); Train Accuracy: 0.7772; CV Accuracy: 0.6802\n",
      "Cur model(n:5, p:2); Train Accuracy: 0.7754; CV Accuracy: 0.6848\n",
      "Cur model(n:7, p:2); Train Accuracy: 0.7545; CV Accuracy: 0.6929\n",
      "Cur model(n:9, p:1); Train Accuracy: 0.7500; CV Accuracy: 0.6974\n",
      "Cur model(n:11, p:2); Train Accuracy: 0.7455; CV Accuracy: 0.6983\n",
      "Cur model(n:13, p:3); Train Accuracy: 0.7274; CV Accuracy: 0.6992\n",
      "Cur model(n:15, p:1); Train Accuracy: 0.7301; CV Accuracy: 0.7011\n",
      "Cur model(n:21, p:1); Train Accuracy: 0.7219; CV Accuracy: 0.7020\n",
      "Cur model(n:27, p:2); Train Accuracy: 0.7165; CV Accuracy: 0.7083\n",
      "Cur model(n:28, p:3); Train Accuracy: 0.7174; CV Accuracy: 0.7119\n"
     ]
    }
   ],
   "source": [
    "# Model Hyperparameters Tunning for Uniform weights\n",
    "ns = list(range(1, 100))\n",
    "ps = list(range(1, 4))\n",
    "# dummy best model start \n",
    "best_model_knn = KNeighborsClassifier(n_neighbors=ns[0], p=ps[0], weights=\"uniform\")\n",
    "best_train_knn = 0\n",
    "best_cv_knn = 0\n",
    "\n",
    "for n in ns:\n",
    "    for p in ps:\n",
    "        cur_model = KNeighborsClassifier(n_neighbors=n, p=p, weights=\"uniform\")\n",
    "        cur_model.fit(final_X_train_knn, Y_train_knn)\n",
    "        model_predicted_train = cur_model.predict(final_X_train_knn)\n",
    "        train_accuracy = accuracy_score(Y_train_knn, model_predicted_train)\n",
    "        cv_accuracy = cross_validate_accuracy(cur_model, final_X_train_knn, \n",
    "                                              Y_train_knn)\n",
    "        if(cv_accuracy > best_cv_knn):\n",
    "            best_cv_knn = cv_accuracy\n",
    "            best_train_knn = train_accuracy\n",
    "            best_model_knn = cur_model\n",
    "            print(\"Cur model(n:{}, p:{}); Train Accuracy: {:0.4f}; CV Accuracy: {:0.4f}\".format(\n",
    "             n, p, train_accuracy, cv_accuracy))\n",
    "        elif(cv_accuracy == best_cv_knn and \n",
    "              train_accuracy > best_train_knn):\n",
    "            best_cv_knn = cv_accuracy\n",
    "            best_train_knn = train_accuracy\n",
    "            best_model_knn = cur_model\n",
    "            print(\"Cur model(n:{}, p:{}); Train Accuracy: {:0.4f}; CV Accuracy: {:0.4f}\".format(\n",
    "             n, p, train_accuracy, cv_accuracy))"
   ]
  },
  {
   "cell_type": "code",
   "execution_count": 63,
   "metadata": {},
   "outputs": [
    {
     "name": "stdout",
     "output_type": "stream",
     "text": [
      "Train accuracy of kNN with Uniform Weights is: 0.7174\n",
      "CV accuracy of kNN with Uniform Weights is: 0.7119\n",
      "Test accuracy of kNN with Uniform Weights is: 0.7019\n"
     ]
    }
   ],
   "source": [
    "best_test_knn = best_model_knn.score(final_X_test_knn, Y_test_knn)\n",
    "print(f\"Train accuracy of kNN with Uniform Weights is: {best_train_knn:.4f}\")\n",
    "print(f\"CV accuracy of kNN with Uniform Weights is: {best_cv_knn:.4f}\")\n",
    "print(f\"Test accuracy of kNN with Uniform Weights is: {best_test_knn:.4f}\")"
   ]
  },
  {
   "cell_type": "code",
   "execution_count": 64,
   "metadata": {},
   "outputs": [
    {
     "data": {
      "text/plain": [
       "KNeighborsClassifier(algorithm='auto', leaf_size=30, metric='minkowski',\n",
       "           metric_params=None, n_jobs=None, n_neighbors=28, p=3,\n",
       "           weights='uniform')"
      ]
     },
     "execution_count": 64,
     "metadata": {},
     "output_type": "execute_result"
    }
   ],
   "source": [
    "best_model_knn"
   ]
  },
  {
   "cell_type": "markdown",
   "metadata": {},
   "source": [
    "The optimal kNN model uses 28 neighbors and $l_3$ distance. Finally, we need to decide the weights for each neighbor of a given query point. Should we assign uniform weights? Or should we allocate more weights to neighbors closer to the query point."
   ]
  },
  {
   "cell_type": "code",
   "execution_count": 65,
   "metadata": {},
   "outputs": [
    {
     "name": "stdout",
     "output_type": "stream",
     "text": [
      "Train accuracy of kNN with Distance Weights is: 0.9330\n",
      "CV accuracy of kNN with Distance Weights is: 0.6784\n",
      "Test accuracy of kNN with Distance Weights is: 0.6694\n"
     ]
    }
   ],
   "source": [
    "# this is the best KNN model with `distance` weights\n",
    "distance_knn = KNeighborsClassifier(n_neighbors=28, p=3, weights=\"distance\") \n",
    "distance_knn.fit(final_X_train_knn, Y_train_knn)\n",
    "\n",
    "train_accuracy_distance = distance_knn.score(final_X_train_knn,Y_train_knn)\n",
    "cv_accuracy_distance = cross_validate_accuracy(distance_knn, final_X_train_knn, Y_train_knn)\n",
    "test_accuracy_distance = distance_knn.score(final_X_test_knn,Y_test_knn)\n",
    "print(f\"Train accuracy of kNN with Distance Weights is: {train_accuracy_distance:.4f}\")\n",
    "print(f\"CV accuracy of kNN with Distance Weights is: {cv_accuracy_distance:.4f}\")\n",
    "print(f\"Test accuracy of kNN with Distance Weights is: {test_accuracy_distance:.4f}\")"
   ]
  },
  {
   "cell_type": "markdown",
   "metadata": {},
   "source": [
    "### Result:"
   ]
  },
  {
   "cell_type": "code",
   "execution_count": 66,
   "metadata": {},
   "outputs": [
    {
     "data": {
      "image/png": "[encoded data removed]",
      "text/plain": [
       "<Figure size 723x432 with 1 Axes>"
      ]
     },
     "metadata": {
      "needs_background": "light"
     },
     "output_type": "display_data"
    }
   ],
   "source": [
    "label = [\"Uniform\", \"Distance\"]\n",
    "accs = pd.DataFrame({'Weight Function': label, \n",
    "                     'training': [best_train_knn, train_accuracy_distance],\n",
    "                     'cv': [best_cv_knn, cv_accuracy_distance],\n",
    "                    'test':[best_test_knn,test_accuracy_distance]})\n",
    "\n",
    "accs = pd.melt(accs, id_vars = \"Weight Function\")\n",
    "accs = accs.rename({\"variable\": \"type\", \"value\": \"accuracy\"}, axis = 1)\n",
    "\n",
    "sns.catplot(x = 'Weight Function', y='accuracy', hue = 'type',data=accs, kind='bar', \n",
    "            palette = 'GnBu', height = 6, aspect = 1.5)\n",
    "plt.title(\"Training and CV accuracies for Two Weights\")\n",
    "plt.show()"
   ]
  },
  {
   "cell_type": "markdown",
   "metadata": {},
   "source": [
    "## Confusion Matrix"
   ]
  },
  {
   "cell_type": "code",
   "execution_count": 67,
   "metadata": {},
   "outputs": [
    {
     "data": {
      "text/plain": [
       "<Figure size 720x720 with 0 Axes>"
      ]
     },
     "metadata": {},
     "output_type": "display_data"
    },
    {
     "data": {
      "image/png": "[encoded data removed]",
      "text/plain": [
       "<Figure size 432x288 with 2 Axes>"
      ]
     },
     "metadata": {
      "needs_background": "light"
     },
     "output_type": "display_data"
    }
   ],
   "source": [
    "# Plot normalized confusion matrix\n",
    "lab_names = [\"No-Use(0)\", \"Use(1)\"]\n",
    "predicted_test_knn = best_model_knn.predict(final_X_test_knn)\n",
    "plot_confusion_matrix(Y_test_knn.values,predicted_test_knn, \n",
    "                      labels=lab_names,\n",
    "                      title='Confusion matrix(KNN)')\n",
    "\n",
    "plt.show()"
   ]
  },
  {
   "cell_type": "markdown",
   "metadata": {},
   "source": [
    "# Random Forest\n",
    "In this section, we will use a random forest model to predict whether a family uses contraceptive or not. We will first train a basic model with default parameters and all features. Next, we conduct analysis on the remaining features and utilize feature engineering to further improve our results. Then, we will filter out features that are harmful to our predictions. Finally, we tune a set of parameters from the ensemble.RandomForestClassifier class to achieve the optimal result. In the end of section, we include a summary and interpretation of our result"
   ]
  },
  {
   "cell_type": "markdown",
   "metadata": {},
   "source": [
    "## I. Train a basic model\n",
    "We first train a basic model with all features available and default parameters."
   ]
  },
  {
   "cell_type": "markdown",
   "metadata": {},
   "source": [
    "We need to prepare data by converting the contraceptive column into labels. A family uses a contraceptive, regardless whether it's short-term or long-term, has a label of 1, and a family that doesn't use a contraceptive has a label of 0.\n",
    "Then, we split the data into training set and test set with a ratio of 3:1."
   ]
  },
  {
   "cell_type": "code",
   "execution_count": 68,
   "metadata": {},
   "outputs": [],
   "source": [
    "train, test = train_test_split(data, test_size=0.25, random_state=seed)\n",
    "X_train = train.drop(\"contraceptive\", axis = 1)\n",
    "X_test = test.drop(\"contraceptive\", axis = 1)\n",
    "y_train = train[\"contraceptive\"]\n",
    "y_test = test[\"contraceptive\"]\n",
    "r = 234 #random state"
   ]
  },
  {
   "cell_type": "code",
   "execution_count": 69,
   "metadata": {},
   "outputs": [],
   "source": [
    "def get_accuracy(model, X_train, y_train, X_test, y_test):\n",
    "    \"\"\"\n",
    "    Fit a model on X_train and y_train, and return the score of predictions on X_test and y_test.\n",
    "    \"\"\"\n",
    "    model.fit(X_train, y_train)\n",
    "    return model.score(X_test, y_test)"
   ]
  },
  {
   "cell_type": "markdown",
   "metadata": {},
   "source": [
    "Train the first random forest classifier model. Calculate the cross validation accuracy for feature selection. Calculate and store the training accuracy in addition to the cross validation accuracy for summary and comparison at the end. \n",
    "\n",
    "(We specify n_estimators here to suppress warning, and we choose 20 because this is the number used in lab 11.)"
   ]
  },
  {
   "cell_type": "code",
   "execution_count": 70,
   "metadata": {},
   "outputs": [
    {
     "name": "stdout",
     "output_type": "stream",
     "text": [
      "Basic model has cross validation accuracy: 0.6675524475524476\n",
      "Basic model has training accuracy: 0.9755434782608695\n"
     ]
    }
   ],
   "source": [
    "model = ensemble.RandomForestClassifier(n_estimators = 20, random_state = r)\n",
    "feature_set_cv_accuracies = cross_validate_accuracy(model, X_train, y_train)\n",
    "training_accuracy_basic = get_accuracy(model, X_train, y_train, X_train, y_train)\n",
    "cv_basic = feature_set_cv_accuracies\n",
    "print (\"Basic model has cross validation accuracy: \" + str(feature_set_cv_accuracies))\n",
    "print(\"Basic model has training accuracy: \" + str(training_accuracy_basic))"
   ]
  },
  {
   "cell_type": "code",
   "execution_count": 71,
   "metadata": {},
   "outputs": [
    {
     "data": {
      "text/plain": [
       "['wife_age',\n",
       " 'wife_education',\n",
       " 'husband_education',\n",
       " 'num_child',\n",
       " 'wife_religion',\n",
       " 'wife_work',\n",
       " 'husband_occupation',\n",
       " 'standard_living',\n",
       " 'media_exposure']"
      ]
     },
     "execution_count": 71,
     "metadata": {},
     "output_type": "execute_result"
    }
   ],
   "source": [
    "features = list(X_train.columns)\n",
    "features"
   ]
  },
  {
   "cell_type": "markdown",
   "metadata": {},
   "source": [
    "## II. Feature engineering\n",
    "\n",
    "In this section, we need to improve our current features to make better predictions. In this section, we will focus on two set of features. The first set includes wife_education and husband_education, and the second set involves num_child."
   ]
  },
  {
   "cell_type": "markdown",
   "metadata": {},
   "source": [
    "### 1. Education of a household\n",
    "\n",
    "In the original dataset, we have two columns, wife education and husband education. During our EDA stage, we have found out that both wife education and education of a household can be good indicators of whehter a family uses contraceptives. Since using contraceptives should be related to the entire family, we would like to see if the total education of a household can be a feature to improve our model performance."
   ]
  },
  {
   "cell_type": "code",
   "execution_count": 72,
   "metadata": {},
   "outputs": [
    {
     "data": {
      "image/png": "[encoded data removed]",
      "text/plain": [
       "<Figure size 576x288 with 1 Axes>"
      ]
     },
     "metadata": {
      "needs_background": "light"
     },
     "output_type": "display_data"
    }
   ],
   "source": [
    "training_data = X_train.copy()\n",
    "training_data[\"contraceptive\"] = y_train\n",
    "training_data[\"household_education_sum\"] = training_data[\"wife_education\"] + training_data[\"husband_education\"]\n",
    "plt.figure(figsize=(8, 4))\n",
    "sns.distplot(training_data.loc[(training_data[\"contraceptive\"]==0) , \"household_education_sum\"])\n",
    "sns.distplot(training_data.loc[(training_data[\"contraceptive\"]==1) , \"household_education_sum\"])\n",
    "plt.xlabel(\"Sum of Household Education\")\n",
    "plt.title(\"Empirical Distribution of Household Education\")\n",
    "plt.legend(labels=[\"No Contraceptive Method\", \"Used Contraceptive Method\"]) \n",
    "plt.axvline(6, color='k', linestyle='dashed')\n",
    "plt.show();"
   ]
  },
  {
   "cell_type": "markdown",
   "metadata": {},
   "source": [
    "This plot shows that there is a clear threshold at sum of household education equals 6. When the sum of household education is less than 6, the family is more likely to use no contraceptives. When the sum of houshold is at least 6, the family is more likely to use contraceptives.\n",
    "As a result, a feature indicating the education level of a household may improve our model performance."
   ]
  },
  {
   "cell_type": "markdown",
   "metadata": {},
   "source": [
    "#### Numerical values and boolean bins\n",
    "\n",
    "We can either use the above threshold of 6 to construct boolean bins as a new feature, or just add the sum of wife and husband education levels as a new feature. First, we should check that whether adding each of the two features into our existing dataset improves the model performance. If so, we should add the corresponding column to the feature set. Although the two features might be redundant when both are added, we can eliminate the harmful results of the redundancy through feature filtering in the next step."
   ]
  },
  {
   "cell_type": "code",
   "execution_count": 73,
   "metadata": {},
   "outputs": [],
   "source": [
    "X_train[\"household_education\"] = (X_train[\"wife_education\"] + X_train[\"husband_education\"] >= 6).astype(int)\n",
    "X_test[\"household_education\"] = (X_test[\"wife_education\"] + X_test[\"husband_education\"] >= 6).astype(int)\n",
    "X_train[\"household_education_sum\"] = X_train[\"wife_education\"] + X_train[\"husband_education\"]\n",
    "X_test[\"household_education_sum\"] = X_test[\"wife_education\"] + X_test[\"husband_education\"]"
   ]
  },
  {
   "cell_type": "code",
   "execution_count": 74,
   "metadata": {},
   "outputs": [
    {
     "name": "stdout",
     "output_type": "stream",
     "text": [
      "Cross validation accuracy with household_education_sum: 0.6820567667626491\n"
     ]
    }
   ],
   "source": [
    "features_sum = features[:]\n",
    "features_sum.append(\"household_education_sum\")\n",
    "print(\"Cross validation accuracy with household_education_sum: \" \n",
    "      + str(cross_validate_accuracy(model, X_train[features_sum], y_train)))"
   ]
  },
  {
   "cell_type": "code",
   "execution_count": 75,
   "metadata": {},
   "outputs": [
    {
     "name": "stdout",
     "output_type": "stream",
     "text": [
      "Cross validation accuracy with household_education: 0.6612093788564376\n"
     ]
    }
   ],
   "source": [
    "features_bool = features[:]\n",
    "features_bool.append(\"household_education\")\n",
    "print(\"Cross validation accuracy with household_education: \" + \n",
    "      str(cross_validate_accuracy(model, X_train[features_bool], y_train)))"
   ]
  },
  {
   "cell_type": "markdown",
   "metadata": {},
   "source": [
    "Since household_education_sum achieves an improvement in cross validation accuracy, we may add it into our feature set. It shows that the combined information of household education is indeed helpful in predicting whether a family uses contraceptives or not."
   ]
  },
  {
   "cell_type": "markdown",
   "metadata": {},
   "source": [
    "### 2. Log number of child"
   ]
  },
  {
   "cell_type": "markdown",
   "metadata": {},
   "source": [
    "In our EDA stage, we have shown that the number of children is right skewed. Taking a log of the number of children may make the dirstibution closer to a normal distribution and thus leads to a better feature."
   ]
  },
  {
   "cell_type": "code",
   "execution_count": 76,
   "metadata": {},
   "outputs": [
    {
     "data": {
      "image/png": "[encoded data removed]",
      "text/plain": [
       "<Figure size 576x288 with 1 Axes>"
      ]
     },
     "metadata": {
      "needs_background": "light"
     },
     "output_type": "display_data"
    }
   ],
   "source": [
    "plt.figure(figsize=(8, 4))\n",
    "training_data[\"log_num_child\"] = np.log(training_data[\"num_child\"] + 1)\n",
    "sns.distplot(training_data[\"log_num_child\"])\n",
    "plt.xlabel(\"Log Number of Children\")\n",
    "plt.title(\"Empirical Distribution of Log Number of Children\")\n",
    "plt.show();"
   ]
  },
  {
   "cell_type": "markdown",
   "metadata": {},
   "source": [
    "Each distribution in the resulting plot is indeed more symmetric about the global maximum and closer to a normal distribution. Now we add log_num_child and compare it with our basic model."
   ]
  },
  {
   "cell_type": "code",
   "execution_count": 77,
   "metadata": {},
   "outputs": [],
   "source": [
    "X_train[\"log_num_child\"] = np.log(X_train[\"num_child\"] + 1)\n",
    "X_test[\"log_num_child\"] = np.log(X_test[\"num_child\"] + 1)"
   ]
  },
  {
   "cell_type": "code",
   "execution_count": 78,
   "metadata": {},
   "outputs": [
    {
     "name": "stdout",
     "output_type": "stream",
     "text": [
      "Cross validation accuracy with log_num_child: 0.6883628136569312\n"
     ]
    }
   ],
   "source": [
    "features_log = features[:]\n",
    "features_log.append(\"log_num_child\")\n",
    "print(\"Cross validation accuracy with log_num_child: \" + str(cross_validate_accuracy(model, X_train[features_log], y_train)))"
   ]
  },
  {
   "cell_type": "markdown",
   "metadata": {},
   "source": [
    "Since the cross validation accuracy with log_num_child is more than than the cross validation accuracy from our original model, we would add the log_num_child feature to our feature set."
   ]
  },
  {
   "cell_type": "markdown",
   "metadata": {},
   "source": [
    "### Feature engineering results"
   ]
  },
  {
   "cell_type": "markdown",
   "metadata": {},
   "source": [
    "This is our updated set of features."
   ]
  },
  {
   "cell_type": "code",
   "execution_count": 79,
   "metadata": {},
   "outputs": [
    {
     "data": {
      "text/plain": [
       "['wife_age',\n",
       " 'wife_education',\n",
       " 'husband_education',\n",
       " 'num_child',\n",
       " 'wife_religion',\n",
       " 'wife_work',\n",
       " 'husband_occupation',\n",
       " 'standard_living',\n",
       " 'media_exposure',\n",
       " 'household_education_sum',\n",
       " 'log_num_child']"
      ]
     },
     "execution_count": 79,
     "metadata": {},
     "output_type": "execute_result"
    }
   ],
   "source": [
    "features.append(\"household_education_sum\")\n",
    "features.append(\"log_num_child\")\n",
    "features"
   ]
  },
  {
   "cell_type": "markdown",
   "metadata": {},
   "source": [
    "Re-calculate training accuracy and cross validation accuracy with our new feature set."
   ]
  },
  {
   "cell_type": "code",
   "execution_count": 80,
   "metadata": {},
   "outputs": [
    {
     "name": "stdout",
     "output_type": "stream",
     "text": [
      "Feature engineered model has cross validation accuracy: 0.6802385849444673\n",
      "Feature engineered model has training accuracy: 0.9755434782608695\n"
     ]
    }
   ],
   "source": [
    "feature_set_cv_accuracies = cross_validate_accuracy(model, X_train[features], y_train)\n",
    "training_accuracy_feature_engineering = get_accuracy(model, X_train[features], y_train, X_train[features], y_train)\n",
    "cv_feature_engineering = feature_set_cv_accuracies\n",
    "print (\"Feature engineered model has cross validation accuracy: \" + str(cv_feature_engineering))\n",
    "print(\"Feature engineered model has training accuracy: \" + str(training_accuracy_feature_engineering))"
   ]
  },
  {
   "cell_type": "markdown",
   "metadata": {},
   "source": [
    "## III. Feature selection\n",
    "\n",
    "Among all features, some features can be harmful to the prediction process. In this step, we will train models without a selected column. If the cross validation accuracy improves, it shows that the selected column contributes negatively to our prediction and should be removed."
   ]
  },
  {
   "cell_type": "markdown",
   "metadata": {},
   "source": [
    "Below is the full set of features."
   ]
  },
  {
   "cell_type": "code",
   "execution_count": 81,
   "metadata": {},
   "outputs": [
    {
     "data": {
      "text/plain": [
       "['wife_age',\n",
       " 'wife_education',\n",
       " 'husband_education',\n",
       " 'num_child',\n",
       " 'wife_religion',\n",
       " 'wife_work',\n",
       " 'husband_occupation',\n",
       " 'standard_living',\n",
       " 'media_exposure',\n",
       " 'household_education_sum',\n",
       " 'log_num_child']"
      ]
     },
     "execution_count": 81,
     "metadata": {},
     "output_type": "execute_result"
    }
   ],
   "source": [
    "features"
   ]
  },
  {
   "cell_type": "markdown",
   "metadata": {},
   "source": [
    "Evaluate features as followed. For each iteration:\n",
    "1. Train a model for each set of features such that exactly one feature is not used.\n",
    "2. If average cross validation accuracy > original cross validation accuracy, and average cross validation accuracy > existing average cross validation accuracy, update the feature to be removed. \n",
    "3. Remove the candidtate feature if exists. If there is none, we are done with filtering"
   ]
  },
  {
   "cell_type": "code",
   "execution_count": 82,
   "metadata": {},
   "outputs": [],
   "source": [
    "def filter_feature(features, X_train, y_train, feature_set_cv_accuracies):\n",
    "    removal_candidate = None\n",
    "    removal_cv = feature_set_cv_accuracies\n",
    "    remove = False\n",
    "    for f in features:\n",
    "        X_train_cur = X_train.copy()\n",
    "        X_train_cur = X_train_cur.drop(f, axis = 1)\n",
    "        cv_accuracy = cross_validate_accuracy(model, X_train_cur, y_train)\n",
    "        if (cv_accuracy > feature_set_cv_accuracies and cv_accuracy > removal_cv):\n",
    "            removal_cv = cv_accuracy\n",
    "            removal_candidate = f\n",
    "            remove = True\n",
    "    return (removal_candidate, removal_cv, remove)"
   ]
  },
  {
   "cell_type": "code",
   "execution_count": 83,
   "metadata": {},
   "outputs": [
    {
     "name": "stdout",
     "output_type": "stream",
     "text": [
      "Iteration 1\n",
      "We should remove media_exposure\n",
      "CV accuracy is 0.6965364047716989, improved 0.016297819827231552\n",
      "Iteration 2\n",
      "We should remove husband_education\n",
      "CV accuracy is 0.7019539284245168, improved 0.0054175236528178905\n",
      "Iteration 3\n",
      "We should remove wife_religion\n",
      "CV accuracy is 0.7019621554915674, improved 8.2270670506146e-06\n",
      "Iteration 4\n",
      "We are done with feature filtering\n"
     ]
    }
   ],
   "source": [
    "remove = True\n",
    "counter = 1\n",
    "features_experiment = features[:]\n",
    "while remove and len(features_experiment) > 0:\n",
    "    print(\"Iteration \" + str(counter))\n",
    "    counter += 1\n",
    "    remove_feature, remove_cv, remove = filter_feature(features_experiment, X_train[features_experiment], y_train, feature_set_cv_accuracies)\n",
    "    if remove:\n",
    "        print(\"We should remove \" + remove_feature)\n",
    "        print(\"CV accuracy is \" + str(remove_cv) + \", improved \" + str(remove_cv - feature_set_cv_accuracies))\n",
    "        feature_set_cv_accuracies = remove_cv\n",
    "        features_experiment.remove(remove_feature)\n",
    "    else:\n",
    "        print(\"We are done with feature filtering\")"
   ]
  },
  {
   "cell_type": "markdown",
   "metadata": {},
   "source": [
    "We have removed any feature that contributes negatively to the model performance.\n",
    "\n",
    "Here is our updated set of features:"
   ]
  },
  {
   "cell_type": "code",
   "execution_count": 84,
   "metadata": {},
   "outputs": [
    {
     "data": {
      "text/plain": [
       "['wife_age',\n",
       " 'wife_education',\n",
       " 'num_child',\n",
       " 'wife_work',\n",
       " 'husband_occupation',\n",
       " 'standard_living',\n",
       " 'household_education_sum',\n",
       " 'log_num_child']"
      ]
     },
     "execution_count": 84,
     "metadata": {},
     "output_type": "execute_result"
    }
   ],
   "source": [
    "features = features_experiment[:]\n",
    "features"
   ]
  },
  {
   "cell_type": "markdown",
   "metadata": {},
   "source": [
    "We now recalculate training error and cross validation error for comparison and analysis."
   ]
  },
  {
   "cell_type": "code",
   "execution_count": 85,
   "metadata": {},
   "outputs": [
    {
     "name": "stdout",
     "output_type": "stream",
     "text": [
      "Feature filtered model has cross validation accuracy: 0.7019621554915674\n",
      "Feature filtered model has training accuracy: 0.9755434782608695\n"
     ]
    }
   ],
   "source": [
    "training_accuracy_filtered = get_accuracy(model, X_train[features], y_train, X_train[features], y_train)\n",
    "cv_filtered = feature_set_cv_accuracies\n",
    "print (\"Feature filtered model has cross validation accuracy: \" + str(cv_filtered))\n",
    "print(\"Feature filtered model has training accuracy: \" + str(training_accuracy_filtered))"
   ]
  },
  {
   "cell_type": "markdown",
   "metadata": {},
   "source": [
    "## \tIV. Parameter tuning"
   ]
  },
  {
   "cell_type": "markdown",
   "metadata": {},
   "source": [
    "As we have finalized our features, we should tune the parameters of the random forest classifier to improve cross validation accuracy, meanwhile reducing overfitting. We will be focusing on two parameters: number of estimators and max depth.\n",
    "\n",
    "First, we calculate the baseline cross validation accuracy to make sure our final result is improved. "
   ]
  },
  {
   "cell_type": "code",
   "execution_count": 86,
   "metadata": {},
   "outputs": [
    {
     "name": "stdout",
     "output_type": "stream",
     "text": [
      "Baseline cross validation accuracy: 0.7019621554915674\n"
     ]
    }
   ],
   "source": [
    "# Use cross validation to tune random forest parameters\n",
    "print(\"Baseline cross validation accuracy: \" + str(cv_filtered))"
   ]
  },
  {
   "cell_type": "markdown",
   "metadata": {},
   "source": [
    "### Tune number of estimators"
   ]
  },
  {
   "cell_type": "markdown",
   "metadata": {},
   "source": [
    "In order to find our the best number of estimators, we fit a model for various numbers of estimators, holding the other parameters and features constant."
   ]
  },
  {
   "cell_type": "code",
   "execution_count": 87,
   "metadata": {},
   "outputs": [],
   "source": [
    "# Tune number of estimators\n",
    "num_estimators = np.arange(5, 105, 5)\n",
    "cv_accuracies = []\n",
    "X_train_columns = X_train[features]\n",
    "for n in num_estimators:\n",
    "    model = ensemble.RandomForestClassifier(n_estimators = n, random_state = r)\n",
    "    cv_accuracies.append(cross_validate_accuracy(model, X_train_columns, y_train))"
   ]
  },
  {
   "cell_type": "code",
   "execution_count": 88,
   "metadata": {},
   "outputs": [
    {
     "data": {
      "image/png": "[encoded data removed]",
      "text/plain": [
       "<Figure size 720x288 with 1 Axes>"
      ]
     },
     "metadata": {
      "needs_background": "light"
     },
     "output_type": "display_data"
    }
   ],
   "source": [
    "plt.figure(figsize = (10, 4))\n",
    "plt.plot(num_estimators, cv_accuracies)\n",
    "plt.xticks(num_estimators)\n",
    "plt.title(\"Number of estimators vs cross validation accuracy\")\n",
    "plt.xlabel(\"Number of estimators\")\n",
    "plt.ylabel(\"Cross validation accuracies\")\n",
    "plt.show();"
   ]
  },
  {
   "cell_type": "markdown",
   "metadata": {},
   "source": [
    "The graph shows that there is a local and global maxima at n = 90."
   ]
  },
  {
   "cell_type": "code",
   "execution_count": 89,
   "metadata": {},
   "outputs": [],
   "source": [
    "estimator = 90"
   ]
  },
  {
   "cell_type": "markdown",
   "metadata": {},
   "source": [
    "### Tune max depth"
   ]
  },
  {
   "cell_type": "markdown",
   "metadata": {},
   "source": [
    "Next, we tune the max depth of each decision. This parameter is mainly used to reduce overfitting."
   ]
  },
  {
   "cell_type": "code",
   "execution_count": 90,
   "metadata": {},
   "outputs": [],
   "source": [
    "# Tune max depth\n",
    "depth = np.arange(5, 105, 10)\n",
    "cv_accuracies = []\n",
    "X_train_columns = X_train[features]\n",
    "for n in depth:\n",
    "    model = ensemble.RandomForestClassifier(n_estimators = estimator, max_depth = n, random_state = r)\n",
    "    cv_accuracies.append(cross_validate_accuracy(model, X_train_columns, y_train))"
   ]
  },
  {
   "cell_type": "code",
   "execution_count": 91,
   "metadata": {},
   "outputs": [
    {
     "data": {
      "image/png": "[encoded data removed]",
      "text/plain": [
       "<Figure size 720x288 with 1 Axes>"
      ]
     },
     "metadata": {
      "needs_background": "light"
     },
     "output_type": "display_data"
    }
   ],
   "source": [
    "plt.figure(figsize = (10, 4))\n",
    "plt.plot(depth, cv_accuracies)\n",
    "plt.xticks(depth)\n",
    "plt.title(\"Max depth vs cross validation accuracy\")\n",
    "plt.xlabel(\"Max depth\")\n",
    "plt.ylabel(\"Cross validation accuracies\");"
   ]
  },
  {
   "cell_type": "markdown",
   "metadata": {},
   "source": [
    "From this plot, we observe that the best cross validation error occurs between 1 and 15. We should closely examine this range to tune the max_depth parameter at a finer granularity."
   ]
  },
  {
   "cell_type": "code",
   "execution_count": 92,
   "metadata": {},
   "outputs": [],
   "source": [
    "# Tune max depth from 1 to 15\n",
    "depth = np.linspace(1, 15, 15)\n",
    "cv_accuracies = []\n",
    "X_train_columns = X_train[['num_child', 'wife_age', \"household_education\"]]\n",
    "for n in depth:\n",
    "    model = ensemble.RandomForestClassifier(n_estimators = estimator, max_depth = n, random_state = r)\n",
    "    cv_accuracies.append(cross_validate_accuracy(model, X_train_columns, y_train))"
   ]
  },
  {
   "cell_type": "code",
   "execution_count": 93,
   "metadata": {},
   "outputs": [
    {
     "data": {
      "image/png": "[encoded data removed]",
      "text/plain": [
       "<Figure size 720x288 with 1 Axes>"
      ]
     },
     "metadata": {
      "needs_background": "light"
     },
     "output_type": "display_data"
    }
   ],
   "source": [
    "plt.figure(figsize = (10, 4))\n",
    "plt.plot(depth, cv_accuracies)\n",
    "plt.xticks(depth)\n",
    "plt.title(\"Max depth vs cross validation accuracy\")\n",
    "plt.xlabel(\"Max depth\")\n",
    "plt.ylabel(\"Cross validation accuracies\");"
   ]
  },
  {
   "cell_type": "markdown",
   "metadata": {},
   "source": [
    "We can observe that at max_depth = 4, the cross validation accuracy achieves a local maxima as well as a global maxima. As a result, we should use 4 for the max_depth parameter."
   ]
  },
  {
   "cell_type": "code",
   "execution_count": 94,
   "metadata": {},
   "outputs": [],
   "source": [
    "best_depth = 4"
   ]
  },
  {
   "cell_type": "markdown",
   "metadata": {},
   "source": [
    "### Results after tuning"
   ]
  },
  {
   "cell_type": "markdown",
   "metadata": {},
   "source": [
    "Now, we have tuned our model according to cross validation accuracy. We should calculate and store the cross validation accuracy and training accuracy."
   ]
  },
  {
   "cell_type": "code",
   "execution_count": 95,
   "metadata": {},
   "outputs": [
    {
     "name": "stdout",
     "output_type": "stream",
     "text": [
      "Final model has cross validation accuracy: 0.7210283833813247\n",
      "Final filtered model has training accuracy: 0.7472826086956522\n"
     ]
    }
   ],
   "source": [
    "model = ensemble.RandomForestClassifier(n_estimators = estimator, max_depth = best_depth, random_state = r)\n",
    "cv_final = cross_validate_accuracy(model, X_train_columns, y_train)\n",
    "training_final = get_accuracy(model, X_train[features], y_train, X_train[features], y_train)\n",
    "print (\"Final model has cross validation accuracy: \" + str(cv_final))\n",
    "print(\"Final filtered model has training accuracy: \" + str(training_final))"
   ]
  },
  {
   "cell_type": "markdown",
   "metadata": {},
   "source": [
    "As expected, the cross validation accuracy has increased, and the training accuracy has decreased to a similar level as the croess validation accuracy, implying that the parameter tuning has improved the model performance and that we have greatly reduced overfitting."
   ]
  },
  {
   "cell_type": "markdown",
   "metadata": {},
   "source": [
    "## V. Summary and interpretation"
   ]
  },
  {
   "cell_type": "markdown",
   "metadata": {},
   "source": [
    "First, we should look at the developments of training accuracies and cross validation accuracies along the way."
   ]
  },
  {
   "cell_type": "code",
   "execution_count": 96,
   "metadata": {},
   "outputs": [
    {
     "data": {
      "image/png": "[encoded data removed]",
      "text/plain": [
       "<Figure size 723x432 with 1 Axes>"
      ]
     },
     "metadata": {
      "needs_background": "light"
     },
     "output_type": "display_data"
    }
   ],
   "source": [
    "training_accuracies = [training_accuracy_basic, training_accuracy_feature_engineering, \n",
    "                       training_accuracy_filtered, training_final]\n",
    "cv_accuracies = [cv_basic, cv_feature_engineering, cv_filtered, cv_final]\n",
    "label = [\"basic\", \"feature_engineering\", \"filtered\", \"final\"]\n",
    "accuracies = pd.DataFrame(data={'step': label, 'training': training_accuracies,'cv': cv_accuracies})\n",
    "\n",
    "accuracies = pd.melt(accuracies, id_vars = \"step\")\n",
    "accuracies = accuracies.rename({\"variable\": \"type\", \"value\": \"accuracy\"}, axis = 1)\n",
    "\n",
    "sns.catplot(x = 'step', y='accuracy', hue = 'type',data=accuracies, kind='bar', palette = 'GnBu', height = 6, aspect = 1.5)\n",
    "plt.title(\"Training and CV accuracies for each step\")\n",
    "plt.show()"
   ]
  },
  {
   "cell_type": "markdown",
   "metadata": {},
   "source": [
    "For each step, the cross validation accuracy increases, implyinh that each step of our model optmization has effectively improved our model to make better predictions. In addition, among all the steps, parameter tuning has most effectively reduced overfitting.\n",
    "\n",
    "Since we have finalized our model, we can take a look at the testing accuracy."
   ]
  },
  {
   "cell_type": "code",
   "execution_count": 97,
   "metadata": {},
   "outputs": [
    {
     "data": {
      "text/plain": [
       "0.7235772357723578"
      ]
     },
     "execution_count": 97,
     "metadata": {},
     "output_type": "execute_result"
    }
   ],
   "source": [
    "testing_accuracy = get_accuracy(model, X_train[features], y_train, X_test[features], y_test)\n",
    "testing_accuracy"
   ]
  },
  {
   "cell_type": "markdown",
   "metadata": {},
   "source": [
    "This testing accuracy tells us how well our model will perform on unknown data."
   ]
  },
  {
   "cell_type": "markdown",
   "metadata": {},
   "source": [
    "### Confusion Matrix"
   ]
  },
  {
   "cell_type": "code",
   "execution_count": 98,
   "metadata": {},
   "outputs": [
    {
     "data": {
      "text/plain": [
       "<Figure size 720x720 with 0 Axes>"
      ]
     },
     "metadata": {},
     "output_type": "display_data"
    },
    {
     "data": {
      "image/png": "[encoded data removed]",
      "text/plain": [
       "<Figure size 432x288 with 2 Axes>"
      ]
     },
     "metadata": {
      "needs_background": "light"
     },
     "output_type": "display_data"
    }
   ],
   "source": [
    "# Plot normalized confusion matrix\n",
    "predicted_test_rf = model.predict(X_test[features])\n",
    "lab_names = [\"No-Use(0)\", \"Use(1)\"]\n",
    "plot_confusion_matrix(y_test.values,predicted_test_rf, labels=lab_names,\n",
    "                      title='Confusion matrix(Random Forest)')\n",
    "\n",
    "plt.show()"
   ]
  },
  {
   "cell_type": "markdown",
   "metadata": {},
   "source": [
    "# Model Comparison"
   ]
  },
  {
   "cell_type": "code",
   "execution_count": 127,
   "metadata": {},
   "outputs": [
    {
     "data": {
      "image/png": "[encoded data removed]",
      "text/plain": [
       "<Figure size 723x432 with 1 Axes>"
      ]
     },
     "metadata": {
      "needs_background": "light"
     },
     "output_type": "display_data"
    }
   ],
   "source": [
    "label = [\"Logistic Regression\", \"KNN\", \"Random Forest\"]\n",
    "accs = pd.DataFrame({'Models': label, \n",
    "                     'training': [best_train_lr, best_train_knn, training_final],\n",
    "                     'cv': [best_cv_lr, best_cv_knn, cv_final],\n",
    "                    'test':[best_test_lr,best_test_knn,testing_accuracy]})\n",
    "\n",
    "accs = pd.melt(accs, id_vars = \"Models\")\n",
    "accs = accs.rename({\"variable\": \"type\", \"value\": \"accuracy\"}, axis = 1)\n",
    "\n",
    "sns.catplot(x = 'Models', y='accuracy', hue = 'type',data=accs, kind='bar', \n",
    "            palette = 'GnBu', height = 6, aspect = 1.5)\n",
    "plt.title(\"Training and CV accuracies for Two Weights\")\n",
    "plt.show()"
   ]
  },
  {
   "cell_type": "markdown",
   "metadata": {},
   "source": [
    "# Suprising Discovery"
   ]
  },
  {
   "cell_type": "code",
   "execution_count": 100,
   "metadata": {},
   "outputs": [
    {
     "name": "stdout",
     "output_type": "stream",
     "text": [
      "Optimization terminated successfully.\n",
      "         Current function value: 0.610916\n",
      "         Iterations 5\n"
     ]
    },
    {
     "data": {
      "text/html": [
       "<table class=\"simpletable\">\n",
       "<tr>\n",
       "        <td>Model:</td>              <td>Logit</td>      <td>Pseudo R-squared:</td>    <td>0.089</td>  \n",
       "</tr>\n",
       "<tr>\n",
       "  <td>Dependent Variable:</td>   <td>contraceptive</td>        <td>AIC:</td>         <td>1049.2263</td>\n",
       "</tr>\n",
       "<tr>\n",
       "         <td>Date:</td>        <td>2020-05-13 22:55</td>       <td>BIC:</td>         <td>1091.8696</td>\n",
       "</tr>\n",
       "<tr>\n",
       "   <td>No. Observations:</td>         <td>844</td>        <td>Log-Likelihood:</td>    <td>-515.61</td> \n",
       "</tr>\n",
       "<tr>\n",
       "       <td>Df Model:</td>              <td>8</td>            <td>LL-Null:</td>        <td>-566.10</td> \n",
       "</tr>\n",
       "<tr>\n",
       "     <td>Df Residuals:</td>           <td>835</td>         <td>LLR p-value:</td>    <td>2.6882e-18</td>\n",
       "</tr>\n",
       "<tr>\n",
       "      <td>Converged:</td>           <td>1.0000</td>           <td>Scale:</td>         <td>1.0000</td>  \n",
       "</tr>\n",
       "<tr>\n",
       "    <td>No. Iterations:</td>        <td>5.0000</td>              <td></td>               <td></td>     \n",
       "</tr>\n",
       "</table>\n",
       "<table class=\"simpletable\">\n",
       "<tr>\n",
       "           <td></td>           <th>Coef.</th>  <th>Std.Err.</th>    <th>z</th>     <th>P>|z|</th> <th>[0.025</th>  <th>0.975]</th> \n",
       "</tr>\n",
       "<tr>\n",
       "  <th>wife_age</th>           <td>-0.0438</td>  <td>0.0131</td>  <td>-3.3391</td> <td>0.0008</td> <td>-0.0695</td> <td>-0.0181</td>\n",
       "</tr>\n",
       "<tr>\n",
       "  <th>wife_education</th>     <td>-0.3922</td>  <td>0.1124</td>  <td>-3.4905</td> <td>0.0005</td> <td>-0.6125</td> <td>-0.1720</td>\n",
       "</tr>\n",
       "<tr>\n",
       "  <th>husband_education</th>  <td>0.4137</td>   <td>0.1296</td>  <td>3.1925</td>  <td>0.0014</td> <td>0.1597</td>  <td>0.6677</td> \n",
       "</tr>\n",
       "<tr>\n",
       "  <th>num_child</th>          <td>0.0130</td>   <td>0.0490</td>  <td>0.2655</td>  <td>0.7906</td> <td>-0.0830</td> <td>0.1091</td> \n",
       "</tr>\n",
       "<tr>\n",
       "  <th>wife_religion</th>      <td>0.5113</td>   <td>0.1842</td>  <td>2.7754</td>  <td>0.0055</td> <td>0.1502</td>  <td>0.8723</td> \n",
       "</tr>\n",
       "<tr>\n",
       "  <th>wife_work</th>          <td>0.1926</td>   <td>0.1725</td>  <td>1.1170</td>  <td>0.2640</td> <td>-0.1454</td> <td>0.5306</td> \n",
       "</tr>\n",
       "<tr>\n",
       "  <th>husband_occupation</th> <td>0.4882</td>   <td>0.0773</td>  <td>6.3129</td>  <td>0.0000</td> <td>0.3367</td>  <td>0.6398</td> \n",
       "</tr>\n",
       "<tr>\n",
       "  <th>standard_living</th>    <td>-0.0025</td>  <td>0.0952</td>  <td>-0.0265</td> <td>0.9788</td> <td>-0.1892</td> <td>0.1842</td> \n",
       "</tr>\n",
       "<tr>\n",
       "  <th>media_exposure</th>     <td>0.1159</td>   <td>0.4081</td>  <td>0.2840</td>  <td>0.7764</td> <td>-0.6840</td> <td>0.9158</td> \n",
       "</tr>\n",
       "</table>"
      ],
      "text/plain": [
       "<class 'statsmodels.iolib.summary2.Summary'>\n",
       "\"\"\"\n",
       "                          Results: Logit\n",
       "==================================================================\n",
       "Model:               Logit            Pseudo R-squared: 0.089     \n",
       "Dependent Variable:  contraceptive    AIC:              1049.2263 \n",
       "Date:                2020-05-13 22:55 BIC:              1091.8696 \n",
       "No. Observations:    844              Log-Likelihood:   -515.61   \n",
       "Df Model:            8                LL-Null:          -566.10   \n",
       "Df Residuals:        835              LLR p-value:      2.6882e-18\n",
       "Converged:           1.0000           Scale:            1.0000    \n",
       "No. Iterations:      5.0000                                       \n",
       "------------------------------------------------------------------\n",
       "                    Coef.  Std.Err.    z    P>|z|   [0.025  0.975]\n",
       "------------------------------------------------------------------\n",
       "wife_age           -0.0438   0.0131 -3.3391 0.0008 -0.0695 -0.0181\n",
       "wife_education     -0.3922   0.1124 -3.4905 0.0005 -0.6125 -0.1720\n",
       "husband_education   0.4137   0.1296  3.1925 0.0014  0.1597  0.6677\n",
       "num_child           0.0130   0.0490  0.2655 0.7906 -0.0830  0.1091\n",
       "wife_religion       0.5113   0.1842  2.7754 0.0055  0.1502  0.8723\n",
       "wife_work           0.1926   0.1725  1.1170 0.2640 -0.1454  0.5306\n",
       "husband_occupation  0.4882   0.0773  6.3129 0.0000  0.3367  0.6398\n",
       "standard_living    -0.0025   0.0952 -0.0265 0.9788 -0.1892  0.1842\n",
       "media_exposure      0.1159   0.4081  0.2840 0.7764 -0.6840  0.9158\n",
       "==================================================================\n",
       "\n",
       "\"\"\""
      ]
     },
     "execution_count": 100,
     "metadata": {},
     "output_type": "execute_result"
    }
   ],
   "source": [
    "import statsmodels.api as sm\n",
    "duration_df = ori_data.loc[ori_data[\"contraceptive\"] > 1, :]\n",
    "duration_X = duration_df.drop(\"contraceptive\", axis=1)\n",
    "duration_y = duration_df[[\"contraceptive\"]].replace({2: 0, 3: 1})\n",
    "\n",
    "logit = sm.Logit(duration_y, duration_X).fit()\n",
    "logit.summary2(alpha=0.05)"
   ]
  },
  {
   "cell_type": "code",
   "execution_count": null,
   "metadata": {},
   "outputs": [],
   "source": []
  }
 ],
 "metadata": {
  "kernelspec": {
   "display_name": "Python 3",
   "language": "python",
   "name": "python3"
  },
  "language_info": {
   "codemirror_mode": {
    "name": "ipython",
    "version": 3
   },
   "file_extension": ".py",
   "mimetype": "text/x-python",
   "name": "python",
   "nbconvert_exporter": "python",
   "pygments_lexer": "ipython3",
   "version": "3.7.1"
  }
 },
 "nbformat": 4,
 "nbformat_minor": 2
}
